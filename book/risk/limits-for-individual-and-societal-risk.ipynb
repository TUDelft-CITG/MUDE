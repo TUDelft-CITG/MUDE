{
 "cells": [
  {
   "cell_type": "markdown",
   "metadata": {},
   "source": [
    "# Limits for individual and societal risk\n",
    "\n",
    "Safety standards can be used to set limits to the individual and societal risk. A **limit** value can be set for **individual risks**. Such a limit value is to avoid disproportionate exposures by laying down a minimum safety level for all individuals. In various fields of applications limit values in the range of 10$^{-4}$ to 10$^{-6}$ per year are used (see below for more information). To put the stringency of the individual risk criteria into perspective, one could consider the effect of the probability of an accident on life expectancy. When an average person would be constantly exposed to a maximum allowable level of risk of 10-6 per year, the decrease of his or her life expectancy would be only 1 day as shown in {numref}`individual-risk-life-expectancy`.\n",
    "\n",
    "```{list-table} Relationship between the additional risk and life expectancy\n",
    ":header-rows: 1\n",
    ":name: individual-risk-life-expectancy\n",
    "\n",
    "* - Additional probability of death in a year\n",
    "  - Life expectancy in years\n",
    "  - Decrease of life expectancy in years\n",
    "  - Decrease of life expectancy in days\n",
    "* - $10^{-3}$\n",
    "  - 74.97\n",
    "  - 3.16\n",
    "  - 1153\n",
    "* - $10^{-4}$\n",
    "  - 77.81\n",
    "  - 0.32\n",
    "  - 117\n",
    "* - $10^{-5}$\n",
    "  - 78.10\n",
    "  - 0.03\n",
    "  - 11\n",
    "* - $10^{-6}$\n",
    "  - 78.13\n",
    "  - 0.00\n",
    "  - 1\n",
    "* - $10^{-7}$\n",
    "  - 78.13\n",
    "  - 0.00\n",
    "  - 0\n",
    "```\n",
    "\n",
    "Societal risk can be evaluated by means of an FN limit line. The calculated FN curve of the system should, in principle, not exceed the limit line. An FN-criterion is defined by three variables: (1) its base point (the exceedance probability of 1 fatality, i.e. C), (2) its slope ($\\alpha$), and (3) its probability and/or consequence cut-off ($A$ and $B$). ⚠️Figure 3.15 shows the different constraints that could make up an FN limit line. \n",
    "\n",
    "The general formulation for such a limit line without horizontal of vertical cut-off equals:\n",
    "\n",
    "$$\n",
    "  1 - F_N(n) \\leq \\frac{C}{n^\\alpha}\n",
    "$$\n",
    "\n",
    "where:\n",
    "- $C$ a constant that determines the vertical position of the limit line\n",
    "- $\\alpha$ a coefficient that determines the steepness of the limit line\n",
    "  \n",
    "The limit line is called risk neutral[^neutral] if $\\alpha=1$, since it places equal weight on exceedance probabilities and numbers of fatalities. If $\\alpha = 2$, the limit is risk averse. This means that that the exceedance probability of 10 times as many fatalities should be 100 times lower. This has been motivated by public aversion to large numbers of fatalities. For example, the loss of 1000 people in one accident (e.g. a major explosion) could be valued differently than  1000 losses of 1 person in separate accidents (e.g. in traffic).\n",
    "\n",
    "[^neutral]: It should be noted that the usage of the term “risk neutral” to describe the FN-curve limit line for $\\alpha = 1$ is widespread but, strictly speaking, incorrect in the context of decision theory (see ⚠️section 3.3). This is because the cost of risk bearing to a risk neutral decision maker equals expected loss (i.e. the product of probabilities and damages). The FN-curve shows cumulative probabilities, however. Also, an individual crossing of the limit line would not necessarily disturb a risk neutral decision maker, provided the other accident scenarios have relatively small probabilities. "
   ]
  }
 ],
 "metadata": {
  "kernelspec": {
   "display_name": "Python 3.9.15 ('gurobi')",
   "language": "python",
   "name": "python3"
  },
  "language_info": {
   "name": "python",
   "version": "3.9.15"
  },
  "orig_nbformat": 4,
  "vscode": {
   "interpreter": {
    "hash": "098d4ab94707d4f72ea30c2acaf235a8192ee135ed70edd9eae5ffbad5e55958"
   }
  }
 },
 "nbformat": 4,
 "nbformat_minor": 2
}
