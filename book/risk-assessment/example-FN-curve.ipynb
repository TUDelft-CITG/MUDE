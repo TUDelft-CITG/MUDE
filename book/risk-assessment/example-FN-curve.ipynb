{
 "cells": [
  {
   "cell_type": "markdown",
   "id": "56b30843",
   "metadata": {},
   "source": [
    "# Calculation of an FN curve\n",
    "<figure>\n",
    "  <IMG SRC=\"https://raw.githubusercontent.com/mbakker7/exploratory_computing_with_python/master/tudelft_logo.png\" WIDTH=200 ALIGN=\"right\">\n",
    "</figure>\n",
    "    \n",
    "**Example 3.6**"
   ]
  },
  {
   "cell_type": "markdown",
   "id": "5b8215ed",
   "metadata": {},
   "source": [
    "The following example shows the composition of an FN curve for a system with two mutually exclusive event scenarios.\n",
    "\n",
    "Accident 1 with $N_{1}=10$ fatalities and a probability of $P_{1} = 10^{-2}$ per year\n",
    "Accident 2 with $N_{2}=100$ fatalities and a probability of $P_{1} = 10^{-3}$ per year\n",
    "\n",
    "Based on this information the probability mass function can  be formed (first graph). Consequently, the cumulative  distribution function can be made (second graph). Finally, the probability of exceedance or the FN curve is made (third graph).\n",
    "\n",
    "Finally, we note that the expected value of the number of fatalities equals: \n",
    "\n",
    "$E(N) = P_{1}N_{1} + P_{2}N_{2} = 0.2$ fatalities per year"
   ]
  },
  {
   "cell_type": "code",
   "execution_count": null,
   "id": "85647d94",
   "metadata": {
    "tags": [
     "remove-input"
    ]
   },
   "outputs": [],
   "source": [
    "import numpy as np\n",
    "import matplotlib.pyplot as plt\n",
    "from mpl_toolkits.axisartist.axislines import AxesZero"
   ]
  },
  {
   "cell_type": "code",
   "execution_count": null,
   "id": "6435a961",
   "metadata": {
    "tags": [
     "remove-input"
    ]
   },
   "outputs": [],
   "source": [
    "# TUD Color Palette\n",
    "\n",
    "def set_TUDstyle():\n",
    "    TUcolor = {\"cyan\": \"#00A6D6\", \"darkgreen\": \"#009B77\", \"purple\": \"#6F1D77\",\n",
    "               \"darkred\": \"#A50034\", \"darkblue\": \"#0C2340\",\n",
    "               \"orange\": \"#EC6842\", \"green\": \"#6CC24A\",\n",
    "               \"lightcyan\": \"#00B8C8\", \"red\": \"#E03C31\", \"pink\": \"#EF60A3\",\n",
    "               \"yellow\": \"#FFB81C\", \"blue\": \"#0076C2\"}\n",
    "    plt.rcParams.update({'axes.prop_cycle': plt.cycler(color=TUcolor.values()),\n",
    "                         'font.size': 16, \"lines.linewidth\": 4})\n",
    "    return TUcolor"
   ]
  },
  {
   "cell_type": "code",
   "execution_count": null,
   "id": "c6af85cf",
   "metadata": {
    "tags": [
     "hide-input"
    ]
   },
   "outputs": [],
   "source": [
    "# Probability density/mass function\n",
    "\n",
    "fig = plt.figure(figsize=(8,6))\n",
    "ax = fig.add_subplot(axes_class=AxesZero)\n",
    "\n",
    "for direction in [\"xzero\", \"yzero\"]:\n",
    "    ax.axis[direction].set_axisline_style(\"-|>\") # add arrows\n",
    "    ax.axis[direction].set_visible(True) # x and y from origin\n",
    "    \n",
    "for direction in [\"left\", \"right\", \"bottom\", \"top\"]:\n",
    "    ax.axis[direction].set_visible(False) # hide borders\n",
    "\n",
    "N_fatalities = ['0', '10', '100']\n",
    "N_fatalities_loc = [0.05, 0.30, 0.66]\n",
    "\n",
    "pdf = ['0.989', '$10^{-2}$', '$10^{-3}$']\n",
    "pdf_loc = [0.99, 0.66, 0.33]\n",
    "\n",
    "set_TUDstyle()\n",
    "ax.bar(N_fatalities_loc, pdf_loc, width=0.05, color= 'lightcyan', edgecolor='k')\n",
    "\n",
    "ax.set_xticks(N_fatalities_loc)\n",
    "ax.set_xticklabels(N_fatalities)\n",
    "\n",
    "ax.set_yticks(pdf_loc)\n",
    "ax.set_yticklabels(pdf)\n",
    "\n",
    "ax.set_title('Probability density/mass function, $f_{N}(n)$', x=0.6, y=1.0)\n",
    "ax.set_xlabel('Fatalities')\n",
    "ax.set_ylabel('Probability')\n",
    "\n",
    "ax.axhline(y=0.66, xmin= 0.01, xmax= 0.40, linewidth=1, linestyle='dashed', color='k') # add dashed horizontal lines\n",
    "ax.axhline(y=0.33, xmin= 0.01, xmax= 0.90, linewidth=1, linestyle='dashed', color='k')"
   ]
  },
  {
   "cell_type": "code",
   "execution_count": null,
   "id": "fedf685d",
   "metadata": {
    "tags": [
     "hide-input"
    ]
   },
   "outputs": [],
   "source": [
    "# Cumulative Distribution Function \n",
    "\n",
    "fig = plt.figure(figsize=(8,6))\n",
    "ax = fig.add_subplot(axes_class=AxesZero)\n",
    "\n",
    "for direction in [\"xzero\", \"yzero\"]:\n",
    "    ax.axis[direction].set_axisline_style(\"-|>\") # add arrows\n",
    "    ax.axis[direction].set_visible(True) # x and y from origin\n",
    "    \n",
    "for direction in [\"left\", \"right\", \"bottom\", \"top\"]:\n",
    "    ax.axis[direction].set_visible(False) # hide borders\n",
    "\n",
    "N_fatalities = ['0', '10', '100', '']\n",
    "N_fatalities_loc = [0.03, 0.33, 0.76, 0.95]\n",
    "\n",
    "pdf = ['0', '0.989', '0.999', '1']\n",
    "pdf_loc = [0.03, 0.66, 0.86, 0.99]\n",
    "\n",
    "ax.step(N_fatalities_loc, pdf_loc, color= 'darkblue',linewidth=4)\n",
    "\n",
    "ax.set_xticks(N_fatalities_loc)\n",
    "ax.set_xticklabels(N_fatalities)\n",
    "\n",
    "ax.set_yticks(pdf_loc)\n",
    "ax.set_yticklabels(pdf)\n",
    "\n",
    "ax.set_title('Cumulative distribution function, $f_{N}(x) = P(N \\leq n)$', x=0.55, y=1.1)\n",
    "ax.set_xlabel('Fatalities')\n",
    "ax.set_ylabel('Probability')\n",
    "\n",
    "ax.text(0.8, 0.9, r'} $10^{-3}$', fontsize=20)\n",
    "ax.text(0.4, 0.725, r'} $10^{-2}$', fontsize=30);"
   ]
  },
  {
   "cell_type": "code",
   "execution_count": null,
   "id": "b93086bc",
   "metadata": {
    "tags": [
     "hide-output",
     "hide-input"
    ]
   },
   "outputs": [],
   "source": [
    "# FN curve\n",
    "\n",
    "fig = plt.figure(figsize=(8,6))\n",
    "ax = fig.add_subplot(axes_class=AxesZero)\n",
    "\n",
    "for direction in [\"xzero\", \"yzero\"]:\n",
    "    ax.axis[direction].set_axisline_style(\"-|>\") # add arrows\n",
    "    ax.axis[direction].set_visible(True) # x and y from origin\n",
    "    \n",
    "for direction in [\"left\", \"right\", \"bottom\", \"top\"]:\n",
    "    ax.axis[direction].set_visible(False) # hide borders\n",
    "    \n",
    "N_fatalities = ['0', '10', '100','100']\n",
    "N_fatalities_loc = [0.03,0.33, 0.95, 0.95]\n",
    "\n",
    "pdf = ['0','$1.1 * 10^{-2}$', '$10^{-3}$','0']\n",
    "pdf_loc = [0.03,0.99, 0.66, 0.03]\n",
    "\n",
    "ax.step(N_fatalities_loc, pdf_loc, color= 'darkblue',linewidth=4)\n",
    "\n",
    "ax.set_xticks(N_fatalities_loc)\n",
    "ax.set_xticklabels(N_fatalities)\n",
    "\n",
    "ax.set_yticks(pdf_loc)\n",
    "ax.set_yticklabels(pdf)\n",
    "\n",
    "ax.set_title('FN curve, $f_{N}(x) = P(N \\leq n)$', x=0.75, y=1.1)\n",
    "ax.set_xlabel('Fatalities')\n",
    "ax.set_ylabel('Probability');"
   ]
  },
  {
   "cell_type": "code",
   "execution_count": null,
   "id": "daefbb1d",
   "metadata": {},
   "outputs": [],
   "source": []
  }
 ],
 "metadata": {
  "kernelspec": {
   "display_name": "Python 3 (ipykernel)",
   "language": "python",
   "name": "python3"
  },
  "language_info": {
   "codemirror_mode": {
    "name": "ipython",
    "version": 3
   },
   "file_extension": ".py",
   "mimetype": "text/x-python",
   "name": "python",
   "nbconvert_exporter": "python",
   "pygments_lexer": "ipython3",
   "version": "3.9.12"
  }
 },
 "nbformat": 4,
 "nbformat_minor": 5
}
