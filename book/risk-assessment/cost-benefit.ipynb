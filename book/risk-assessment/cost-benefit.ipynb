{
 "cells": [
  {
   "attachments": {},
   "cell_type": "markdown",
   "metadata": {},
   "source": [
    "(cost-benefit)=\n",
    "# Cost benefit analysis\n",
    "\n",
    "This section deals with simplified cost benefit analysis for risk reduction interventions in the engineering domain. An important question in evaluating (engineering) projects is whether the benefits outweigh the costs. Cost benefit analysis (CBA) is generally used for appraisal of a wide range of effects of projects or interventions in order to support decision making. The cost benefit analysis starts with defining the system and existing situation. Then, a broad range of effects of the proposed project and intervention can be identified. {numref}`costs_and_benefits` below shows an overview of effects of the Delta works that were built after the 1953 flood disaster in the Netherlands. The main aim of the delta works was to provide flood protection to the Southwest of the Netherlands. However, other effects included the agricultural benefits to the region (benefits) and the effects on environmental quality in the estuaries in which dams were built (costs or negative effects).\n",
    "A choice has to be made which effects in the CBA are evaluated in monetary terms. For some items, such as construction costs or economic risk reduction (see below) this is straightforward. For other items such as environmental effects or reduction of risk to life, approaches for monetary evaluation exist, but they are not standardized or undisputed.\n",
    "\n",
    "```{list-table} Costs and benefits of the delta works\n",
    ":header-rows: 1\n",
    ":name: costs_and_benefits\n",
    "\n",
    "* - Costs\n",
    "  - Benefits\n",
    "* - Construction and maintenance costs\n",
    "  - Reduction of flood risk (damage, loss of life)\n",
    "* - Loss of environmental quality\n",
    "  - Improvement of infrastructure\n",
    "* - \n",
    "  - Recreation\n",
    "* - \n",
    "  - Agricultural benefits\n",
    "* - \n",
    "  - Economic stimulus for the region\n",
    "* - \n",
    "  - Economic stimulus for the water engineering sector\n",
    "* - \n",
    "  - National Pride\n",
    "```\n",
    "\n",
    "## Risk Reduction via Probability\n",
    "\n",
    "When considering investments that primarily focus on risk reduction (e.g. dike reinforcement or reinforcing of buildings for earthquakes), the main benefits will consist of the reduction of expected economic damages. For a measure to be cost effective, the investments should be smaller than the risk reduction.\n",
    "\n",
    "$$\n",
    "  I < \\Delta E(D)\n",
    "$$\n",
    "\n",
    "where:\n",
    "\n",
    "- $I$ the investments\n",
    "- $\\Delta E(D)$ present value of risk reduction\n",
    "\n",
    "This formula can also be used to calculated the benefit/cost ratio, i.e. $\\Delta E(D)/I$. This ratio should be greater than 1 for cost effective projects. Note that all costs and the risk reduction are given in terms of present value with a unit of €.\n",
    "For investments that focus on prevention (i.e. reducing the failure probability of the system) equation (3.9) can be formulated as follows. \n",
    "\n",
    "$$\n",
    "  I < (P_{f,0} - P_{f, new}) D\n",
    "$$ \n",
    "\n",
    "where:\n",
    "\n",
    "- $P_{f,0}$ the initial failure probability [-]\n",
    "- $P_{f,new}$ the failure probability after risk reduction investment\n",
    "\n",
    "```{admonition} Example: Drainage of a construction site - costs and benefits\n",
    "The example from the previous section could also be formulated as a simplified cost-benefit analysis. The same values for the variables are used. The costs of the drainage are € 150,000. The benefits are equal to the risk reduction, i.e. \n",
    "\n",
    "$$\n",
    "  \\Delta E(D) = (P_{f,0} - P_{f,d}) = (0.12 - 0.04)\\text{€} 5,000,000 = \\text{€} 400,000\n",
    "$$ \n",
    "\n",
    "This shows that costs are smaller than the risk reduction benefits, i.e. $I<\\Delta E(D)$. The benefit/cost ratio equals €400,000/€ 150,000 = 2.66\n",
    "\n",
    "One can easily show that the investment would just be acceptable if the benefits and costs are equal, i.e. when the benefit / cost ratio equals 1. This would still be the case if the probability of failure with drainage equals $P_{f,d} = 0.09$.\n",
    "```\n",
    "\n",
    "## Risk Reduction via Damages\n",
    "\n",
    "Other types of interventions do not affect the probability of an accident, but focus on reducing the damages. They are often indicated as mitigation. An example in the field of flood management concerns raising buildings instead of reinforcing the dikes. In this case the criterion becomes:\n",
    "\n",
    "$$\n",
    "  I < P_{f,0}(D_0 - D_{new})\n",
    "$$\n",
    "\n",
    "where: \n",
    "\n",
    "- $D_0$ the initial damage [€]\n",
    "- $D_{new}$ the damage after investments in reducing the consequences [€]\n",
    "\n",
    "## Net Present Value\n",
    "\n",
    "The foregoing assumes that both the costs and benefits are expressed in the same unit, generally in the form of a present value [€]. The net present value represents the sum of the present values of the benefit and cost cash flows over a period of time. In engineering we often deal with situations with larger initial investments, whereas the risk reduction benefits are spread out over a longer time period. For example, when a government invests this year in flood protection, the costs are made in year 0, but the benefits will be spread over the coming decades. \n",
    "\n",
    "For such situations the failure probability is generally expressed per unit of time, mostly per year. That means that the risk (reduction) is expressed in terms of € per year, whereas the initial investments  have the unit of €. The net present value of cost or benefit values over a future range of years can be calculated with {eq}`npv`. To calculate the net present value NPV [€] a discount rate  should be used. The discount rate represents a required return on an investment.\n",
    "\n",
    "$$\n",
    "  NPV = \\sum_{t=1}^{T} \\frac{C_t}{(1+r)^t}\n",
    "$$ (npv)\n",
    "\n",
    "where:\n",
    "\n",
    "- $C_t$ the costs in year $t$ [€]\n",
    "- $T$ the reference period [years]\n",
    "\n",
    "The contribution of costs in a certain year to the net present value depend on the discount rate and the reference year. Costs or benefits closest to the present will have the greatest contribution. {numref}`cost_contribution` below shows the value of $1/(1+r)^t$ for a given year $t$ for different discount rates. The higher the discount rate, the smaller the contribution to the net present value of costs or benefits that are far away from the present. For an infinite time horizon it can be shown that $\\sum 1/(1+r)^t \\approx 1/r$. This approximation can be used in evaluating engineering projects with a long life time."
   ]
  },
  {
   "cell_type": "code",
   "execution_count": null,
   "metadata": {
    "tags": [
     "remove-input"
    ]
   },
   "outputs": [],
   "source": [
    "%config InlineBackend.figure_format='retina'"
   ]
  },
  {
   "cell_type": "code",
   "execution_count": null,
   "metadata": {
    "tags": [
     "hide-input",
     "remove-output"
    ]
   },
   "outputs": [],
   "source": [
    "import numpy as np\n",
    "import matplotlib.pyplot as plt\n",
    "\n",
    "t = np.linspace(0, 101)\n",
    "y_2 = 1 / (1 + 0.02)**t\n",
    "y_4 = 1 / (1 + 0.04)**t\n",
    "\n",
    "fig = plt.figure()\n",
    "plt.plot(t, y_2, label='2%')\n",
    "plt.plot(t, y_4, label='4%')\n",
    "plt.grid()\n",
    "plt.legend()\n",
    "plt.xlabel('Year')"
   ]
  },
  {
   "cell_type": "code",
   "execution_count": null,
   "metadata": {
    "tags": [
     "remove-input",
     "remove-output"
    ]
   },
   "outputs": [],
   "source": [
    "from myst_nb import glue\n",
    "glue('cost_contribution', fig, display=False);"
   ]
  },
  {
   "cell_type": "markdown",
   "metadata": {},
   "source": [
    "```{glue:figure} cost_contribution\n",
    ":name: cost_contribution\n",
    "\n",
    "Normalized present value of a cost or benefit in year $t$ for different discount rates.\n",
    "```"
   ]
  },
  {
   "cell_type": "markdown",
   "metadata": {},
   "source": [
    "## Economic Valuation of human life\n",
    "\n",
    "The previous paragraphs have focussed on the evaluation of economic costs and benefits of risk reduction interventions. Many of these interventions also directly focus on reducing injuries and fatalities. Examples are regulations and investments in traffic safety which have introduced measures such as airbags and seat belts. \n",
    "\n",
    "In literature on risk management the economic valuation of human life is often depicted as a difficult problem as it raises numerous moral questions. Some claim it is unethical to put a price on human life because life is priceless. The actual expenditures on risk reducing prospects show however that the investment in the reduction of risks to humans is always finite. Different approaches are available for evaluating the costs of interventions in relation to the reduction of risk to human life, see ⚠️(Vrijling and van Gelder, (2000); Jongejan et al., (2005 ) for a further discussion of the various approaches.\n",
    "One of the options is to add the economic value  of  human fatalities to the economic damages, i.e. $D+N \\cdot d$. The value of the number of lives lost can be determined with different approaches. \n",
    "\n",
    "Several approaches are based on so-called stated preferences.  A survey can reveal how much people are willing to pay, e.g. for safety measures. In these cases the value of statistical life (VoSL) is obtained from the willingness to pay expressed by respondents in surveys. For example, in the cost benefit analysis for the flood defences in the Netherlands a value of a statistical life of €6.7 million per fatality is used ⚠️(Deltares, 2013). The Value of a Statistical life lost in traffic accidents is estimated at €2.6 million ⚠️(SWOV, 2012).\n",
    "\n",
    "One alternative approach is based on so-called revealed preferences. The costs of saving and extra (statistical) life ($CSX$) for actual life-saving interventions that have been taken in the past can be determined. \n",
    "\n",
    "$$\n",
    "    CSX = \\frac{I}{\\Delta E(N)}\n",
    "$$ \n",
    "\n",
    "where:\n",
    "\n",
    "- $CSX$ the costs of saving an extra life [€/life year]\n",
    "- $\\Delta E(N)$ the reduction of the expected number of fatalities per year\n",
    "\n",
    "An extensive study on  values in various sectors, see ⚠️Tengs et al. (1995) showed that these vary widely across sectors and even within sectors. The highest $CSX$ values are found for risks for small probability – large consequence events, for example in the nuclear domain. For such cases the expected number of fatalities is already small and investments in incremental safety are large. \n",
    "One other approach is to base the value of a human life on macro-economic indicators. Several metrics have been proposed that relate this value to a person’s economic production.\n",
    "Given the difficulties associated with economic valuation of human life and the associated risk reduction, it is decided in some domains to develop separate criteria for considering the risk to life. This topic is further elaborated in ⚠️section 3.5."
   ]
  }
 ],
 "metadata": {
  "kernelspec": {
   "display_name": "base",
   "language": "python",
   "name": "python3"
  },
  "language_info": {
   "codemirror_mode": {
    "name": "ipython",
    "version": 3
   },
   "file_extension": ".py",
   "mimetype": "text/x-python",
   "name": "python",
   "nbconvert_exporter": "python",
   "pygments_lexer": "ipython3",
   "version": "3.9.13 (main, Aug 25 2022, 23:51:50) [MSC v.1916 64 bit (AMD64)]"
  },
  "vscode": {
   "interpreter": {
    "hash": "85471ad55176ca86192ed6be6d105faaef73891404cad6bd910e89e8513744d9"
   }
  }
 },
 "nbformat": 4,
 "nbformat_minor": 4
}
