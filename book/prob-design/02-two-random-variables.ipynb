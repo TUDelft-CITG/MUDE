{
 "cells": [
  {
   "cell_type": "markdown",
   "id": "222e5f3b-fd04-490a-8974-0c663a87b3b0",
   "metadata": {},
   "source": [
    "# Two random variables\n",
    "\n",
    "This becomes much more interesting, but already a lot more complex.\n",
    "\n",
    "Start with two loads. Illustrated using\n",
    "- intuition\n",
    "- Venn diagrams\n",
    "- bivariate plot\n",
    "\n",
    "Then we will consider:\n",
    "- joint / and (discrete)\n",
    "- union / or (discrete)\n",
    "- Brief illustration: $Z = R - S$\n",
    "\n",
    "\n",
    "<div class=\"alert alert-block alert-success\"><b>CSS formatted boxes</b>\n",
    "    \n",
    "This is created using HTML. Copy everything you see between the <code>&ltdiv ...&gt</code> and <code>&lt/div&gt</code> tags. The <code>alert</code> class allows changing the box color from green to yellow or red by changing the word <code>success</code> in the first <code>div</code> tag to <code>warning</code> and <code>danger</code>, respectively. You can only use HTML formatting within the colored box, Markdown does not work inside an HTML tag (this is also true in Jupyter notebooks).\n",
    "</div>"
   ]
  },
  {
   "cell_type": "code",
   "execution_count": null,
   "id": "af4af3ec-9c38-427d-a888-ff59d494374d",
   "metadata": {},
   "outputs": [],
   "source": [
    "import matplotlib.pyplot as plt\n",
    "import seaborn as sns\n",
    "import numpy as np\n",
    "import scipy.stats as st\n",
    "import pandas as pd"
   ]
  },
  {
   "cell_type": "code",
   "execution_count": null,
   "id": "b6bdc239-761a-44f4-99a3-98a6af811c76",
   "metadata": {},
   "outputs": [],
   "source": [
    "from scipy.stats import multivariate_normal as mvn\n",
    "import sympy as sym"
   ]
  },
  {
   "cell_type": "code",
   "execution_count": null,
   "id": "0d050da6-55f5-4366-84f6-bf070eb416f6",
   "metadata": {},
   "outputs": [],
   "source": [
    "def norm_copula(u: float, v: float, rho: float) -> float:\n",
    "    means = [0, 0]\n",
    "    cov_matrix = [[1, rho], [rho, 1]]\n",
    "    c = mvn(means, cov_matrix)\n",
    "    return c.cdf([st.norm.ppf(u), st.norm.ppf(v)])"
   ]
  },
  {
   "cell_type": "code",
   "execution_count": null,
   "id": "c436fffb-5bd0-4399-abe6-6737a103648d",
   "metadata": {},
   "outputs": [],
   "source": [
    "norm_copula(1, 0.5, 0.8)"
   ]
  },
  {
   "cell_type": "code",
   "execution_count": null,
   "id": "b2020ff7-9c1c-4d3e-9dc0-33f605c57bd4",
   "metadata": {},
   "outputs": [],
   "source": [
    "def p_and(u: float, v: float, rho=0):\n",
    "    c = norm_copula(u, v, rho)\n",
    "    return 1-u-v+c\n",
    "\n",
    "def p_or(u, v, rho):\n",
    "    c = norm_copula(u, v, rho)\n",
    "    return 1 - c\n",
    "\n",
    "def p_cond1(u, v, rho):\n",
    "    c = norm_copula(u, v, rho)\n",
    "    return (1-u)*(1-u-v+c)\n",
    "\n",
    "def p_cond2(u, v, rho):\n",
    "    c = norm_copula(u, v, rho)\n",
    "    return 1 - c/u\n",
    "\n",
    "def p_cond3(u, v, rho):\n",
    "    ''' Dirty way: only works for bivariate normal '''\n",
    "    x = st.norm.ppf(u)\n",
    "    y = st.norm.ppf(v)\n",
    "    mu_x = rho*y\n",
    "    sigma_x = np.sqrt(1-rho**2)\n",
    "    return 1-st.norm.cdf(x, mu_x, sigma_x)\n",
    "    \n",
    "def p_K(t, rho, N=1000):\n",
    "    u = np.random.uniform(0, 1, size=N)\n",
    "    v = np.random.uniform(0, 1, size=N) \n",
    "    k = 0\n",
    "    for i in range(N):\n",
    "        if norm_copula(u[i], v[i], rho)>t:\n",
    "            k += 1\n",
    "    return k/N"
   ]
  },
  {
   "cell_type": "code",
   "execution_count": null,
   "id": "21c219bb-2821-4aed-b941-dbd835b1ca5d",
   "metadata": {},
   "outputs": [],
   "source": [
    "p_K(0.7, 0)"
   ]
  },
  {
   "cell_type": "code",
   "execution_count": null,
   "id": "9bb8c1bc-a696-4be3-a533-65259c43ae6b",
   "metadata": {},
   "outputs": [],
   "source": [
    "p_and(0.5, 0.5, 0.5)"
   ]
  },
  {
   "cell_type": "code",
   "execution_count": null,
   "id": "c6f15301-95fc-4cb7-af7e-e188b6e23566",
   "metadata": {},
   "outputs": [],
   "source": [
    "def plot_figures(u, v, rho):\n",
    "    f, ax = plt.subplots(6, figsize=(13,10))\n",
    "    # Figure p_AND\n",
    "    ax[0].vlines(u, ymin=0, ymax=v, colors='k', linestyles=\"dashed\")\n",
    "    ax[0].hlines(v, xmin=0, xmax=u, colors='k', linestyles=\"dashed\")\n",
    "    ax[0].fill_between([u, 1], v, 1, color=\"grey\", linewidth=2, edgecolor=\"k\", alpha=1)\n",
    "    ax[0].axvspan(0,1,0,1, edgecolor=\"k\", linewidth=4, facecolor=\"None\")\n",
    "    ax[0].set_title(\"$p_{AND}$\")\n",
    "    \n",
    "    #Figure p_OR\n",
    "    ax[1].vlines(u, ymin=v, ymax=1, colors='k', linestyles=\"dashed\")\n",
    "    ax[1].hlines(v, xmin=u, xmax=1, colors='k', linestyles=\"dashed\")\n",
    "    ax[1].fill_between(np.array([0, u, u, 1]), np.array([v, v, 0, 0]), 1, color=\"grey\", linewidth=2, edgecolor=\"k\", alpha=1) \n",
    "    ax[1].axvspan(0,1,0,1, edgecolor=\"k\", linewidth=4, facecolor=\"None\")\n",
    "    ax[1].set_title(\"$p_{OR}$\")\n",
    "    \n",
    "    #Figure p_cond1\n",
    "    ax[2].vlines([0, u, 1], ymin=0, ymax=1, colors='k', linestyles=\"dashed\")\n",
    "    ax[2].hlines([0, v, 1], xmin=0, xmax=u, colors='k', linestyles=\"dashed\")\n",
    "    ax[2].fill_between([u, 1], v, 1, color=\"grey\", linewidth=2, edgecolor=\"k\", alpha=1)\n",
    "    ax[2].axvspan(u,1,0,1, edgecolor=\"k\", linewidth=4, facecolor=\"None\")\n",
    "    ax[2].set_title(\"$p_{COND1}$\")\n",
    "    \n",
    "    # Figure p_cond2\n",
    "    ax[3].vlines([0, u, 1], ymin=0, ymax=1, colors='k', linestyles=\"dashed\")\n",
    "    ax[3].hlines([0, v, 1], xmin=0, xmax=1, colors='k', linestyles=\"dashed\")\n",
    "    ax[3].fill_between([0, u], v, 1, color=\"grey\", linewidth=2, edgecolor=\"k\", alpha=1)\n",
    "    ax[3].axvspan(0,u,0,1, edgecolor=\"k\", linewidth=4, facecolor=\"None\")\n",
    "    ax[3].set_title(\"$p_{COND2}$\")\n",
    "    \n",
    "    # Figure p_cond3\n",
    "    ax[4].vlines([0, u, 1], ymin=0, ymax=1, colors='k', linestyles=\"dashed\")\n",
    "    ax[4].hlines([0, v, 1], xmin=0, xmax=1, colors='k', linestyles=\"dashed\")\n",
    "    ax[4].vlines([u, u], ymin=[0, v], ymax=[v, 1], colors=[\"black\", \"grey\"], linewidth=3, alpha=1)\n",
    "    ax[4].set_title(\"$p_{COND3}$\")\n",
    "    \n",
    "    for i in range(6):\n",
    "        ax[i].axis(\"scaled\")\n",
    "    plt.setp(ax, xlim=(0,1), ylim=(0,1))\n",
    "    plt.tight_layout()\n",
    "    plt.show()\n",
    "    return None"
   ]
  },
  {
   "cell_type": "code",
   "execution_count": null,
   "id": "642adb86-a159-4797-9f55-c3f9789035f9",
   "metadata": {},
   "outputs": [],
   "source": [
    "plot_figures(0.75, 0.2, 0.7)"
   ]
  }
 ],
 "metadata": {
  "kernelspec": {
   "display_name": "Python 3 (ipykernel)",
   "language": "python",
   "name": "python3"
  },
  "language_info": {
   "codemirror_mode": {
    "name": "ipython",
    "version": 3
   },
   "file_extension": ".py",
   "mimetype": "text/x-python",
   "name": "python",
   "nbconvert_exporter": "python",
   "pygments_lexer": "ipython3",
   "version": "3.9.13"
  }
 },
 "nbformat": 4,
 "nbformat_minor": 5
}
