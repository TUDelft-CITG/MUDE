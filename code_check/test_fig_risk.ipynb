{
 "cells": [
  {
   "cell_type": "code",
   "execution_count": null,
   "id": "2a4c6e6c",
   "metadata": {},
   "outputs": [],
   "source": [
    "%cd ../book/code"
   ]
  },
  {
   "cell_type": "code",
   "execution_count": null,
   "id": "df13187b",
   "metadata": {},
   "outputs": [],
   "source": [
    "import matplotlib.pyplot as plt\n",
    "plt.style.use('../../config/matplotlibrc')"
   ]
  },
  {
   "cell_type": "code",
   "execution_count": null,
   "id": "d5a8e2d3",
   "metadata": {},
   "outputs": [],
   "source": [
    "import risk_types"
   ]
  },
  {
   "cell_type": "code",
   "execution_count": null,
   "id": "d62f2940",
   "metadata": {},
   "outputs": [],
   "source": [
    "import present_value"
   ]
  },
  {
   "cell_type": "code",
   "execution_count": null,
   "id": "57f3ee82-3a23-41a0-ad38-9f0df379b311",
   "metadata": {},
   "outputs": [],
   "source": [
    "import ex_FN_curve_step_01"
   ]
  },
  {
   "cell_type": "code",
   "execution_count": null,
   "id": "74e25a75-75f4-48df-af69-0de0b97b1bd4",
   "metadata": {},
   "outputs": [],
   "source": [
    "import ex_FN_curve_step_02"
   ]
  },
  {
   "cell_type": "code",
   "execution_count": null,
   "id": "e102ed02-4310-44be-8019-0d24c798df4d",
   "metadata": {},
   "outputs": [],
   "source": [
    "import ex_FN_curve_step_03"
   ]
  }
 ],
 "metadata": {
  "kernelspec": {
   "display_name": "base",
   "language": "python",
   "name": "python3"
  },
  "language_info": {
   "codemirror_mode": {
    "name": "ipython",
    "version": 3
   },
   "file_extension": ".py",
   "mimetype": "text/x-python",
   "name": "python",
   "nbconvert_exporter": "python",
   "pygments_lexer": "ipython3",
   "version": "3.9.13"
  },
  "vscode": {
   "interpreter": {
    "hash": "85471ad55176ca86192ed6be6d105faaef73891404cad6bd910e89e8513744d9"
   }
  }
 },
 "nbformat": 4,
 "nbformat_minor": 5
}
