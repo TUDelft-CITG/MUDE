{
 "cells": [
  {
   "attachments": {},
   "cell_type": "markdown",
   "metadata": {},
   "source": [
    "# Economic optimization"
   ]
  },
  {
   "cell_type": "markdown",
   "metadata": {},
   "source": [
    "The previous sections have focussed on decisions for which the number of actions was limited, e.g. excavation with or without drainage and the associated costs and benefits. However, there are several situations in which the number of actions is unlimited. This occurs when the failure probability level has to be decided for a system that is yet to be designed, with an infinite number of design options. An example of this type of decision problem is the heightening of dikes, as in theory an unlimited amount of values can be chosen for the elevation, e.g. 2m, 5m, 5.1m, 5.11m, 5.1111m 6m etc.\n",
    "\n",
    "For this situation an economic optimization that takes into account the costs of increasing the safety level and reducing the risks can be applied to derive an optimal level of safety (or the optimal “failure probability”). The economic optimization was developed and applied by ⚠️van Dantzig (1956), to derive the optimal dike height for South Holland after the 1953 storm surge disaster, as will be further elaborated in the next section.\n",
    "In the economic optimization the total costs ($C_{tot}$[€]) are determined, consisting of the investments $I$[€] in a safer system and the present value of the risk $R$[€].\n",
    "\n",
    "$$\n",
    "    C_{tot} = I + R\n",
    "$$\n",
    "\n",
    "The annual risk, or expected economic dagmage is found by:\n",
    "\n",
    "$$\n",
    "    E(D) = P_f D\n",
    "$$\n",
    "\n",
    "where:\n",
    "\n",
    "- $E(D)$ the expected value of the risk [€/year]\n",
    "- $P_f$ the failure probablity of the system per year [1/year]\n",
    "- $D$ the damage in case of failure [€]\n",
    "\n",
    "In this approach it is thus assumed that all damages are expressed in monetary terms. Additional criteria for separately considering the loss of human life are included in the next section. \n",
    "\n",
    "The present value of the risk for an infinite time horizon can be found as follows:\n",
    "\n",
    "$$\n",
    "    R = \\frac{P_f D}{r}\n",
    "$$\n",
    "\n",
    "The risk can be reduced by constructing a safer system (a lower $P_f$), or limiting the damage (smaller $D$). In this case we assume prevention measures that focus on reducing the failure probability. The investments will become a function of the failure probability of the system, since increasing the safety will lead to an increase of costs. \n",
    "\n",
    "$$\n",
    "    I = I(P_f)\n",
    "$$\n",
    "\n",
    "⚠️Figure 3.10 shows the costs and risks as a function of the accepted failure probability of a system. The economic optimum is found when the total costs are minimal. For this situation the following is valid:\n",
    "\n",
    "$$\n",
    "    \\frac{d C_{tot}}{d P_f} = 0\n",
    "$$\n",
    "\n",
    "This approach can be applied to various decisions problems, such as the optimal dike height (see next section) but also the dimensioning of other interventions such as sprinklers or ventilation in tunnels to reduce fire risks. In cases where no continuous functions are available to create a figure like the one below, the analyst can consider a limited number of design options (e.g. no, small, medium or large sprinklers in a tunnel) and determine investments, risks and total costs for these options.\n",
    "\n",
    "In addition to the determination of the optimal failure probability, the cost benefit criterion should still be verified. (It is possible that we find an economic optimum with higher total costs than in the current situation without interventions). It is checked whether the benefits of risk reduction are larger than the costs of the dike heightening, i.e. $(P_{f,0} - P_{f,opt}) D > I(P_{f,opt})$."
   ]
  }
 ],
 "metadata": {
  "kernelspec": {
   "display_name": "base",
   "language": "python",
   "name": "python3"
  },
  "language_info": {
   "codemirror_mode": {
    "name": "ipython",
    "version": 3
   },
   "file_extension": ".py",
   "mimetype": "text/x-python",
   "name": "python",
   "nbconvert_exporter": "python",
   "pygments_lexer": "ipython3",
   "version": "3.9.13 (main, Aug 25 2022, 23:51:50) [MSC v.1916 64 bit (AMD64)]"
  },
  "vscode": {
   "interpreter": {
    "hash": "85471ad55176ca86192ed6be6d105faaef73891404cad6bd910e89e8513744d9"
   }
  }
 },
 "nbformat": 4,
 "nbformat_minor": 4
}
