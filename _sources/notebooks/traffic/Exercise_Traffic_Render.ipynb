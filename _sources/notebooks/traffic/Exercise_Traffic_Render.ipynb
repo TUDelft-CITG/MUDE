{
 "cells": [
  {
   "attachments": {},
   "cell_type": "markdown",
   "metadata": {},
   "source": [
    "# Traffic and Transport Reliability"
   ]
  },
  {
   "attachments": {},
   "cell_type": "markdown",
   "metadata": {},
   "source": [
    "````{note}\n",
    "This page is generated from an `*.ipynb` file which requires several auxiliary files, all of which can be downloaded using the link below.\n",
    "```{eval-rst}\n",
    ":download:`Download zip file for this exercise.<exercise_traffic.zip>`\n",
    "```\n",
    "````"
   ]
  },
  {
   "attachments": {},
   "cell_type": "markdown",
   "metadata": {},
   "source": [
    "\n",
    "\n",
    "Have you ever sat in a car during rush hour and been annoyed at the amount of traffic? Have you ever marvelled at the recklessness of fast drivers, watched rubber-neckers gawking at an accident or thought there must be a better way to design this highway? Today you will get a chance to give it a try on your own!\n",
    "\n",
    "One of the reasons traffic networks are difficult to design is that they must operate well under a wide range of difficult to predict conditions: think of severe weather events, a large number of vehicles on the road during a few key points per day and the unpredictable behavior of human drivers. This all suggests that a stochastic, or probabilistic approach can be well suited to traffic and transport evaluations.\n",
    "\n",
    "For this assignment you will consider a highway route between Dordrecht and The Hague (we will call this route the ‘trajectory’). You have data measuring travel time along this trajectory during two months, all measured between the hours of 5.00-11.00 (the morning commute), which we will use to estimate the probability that the travel time exceeds some critical threshold, and the threshold itself is determined based on travel time as a risk metric.\n",
    "\n",
    "## Estimating Traffic Patterns in Practice\n",
    "\n",
    "Before we begin, note that this exercise is a dramatic simplification of reality, as it uses simplified methods and a single dataset to evaluate one highway trajectory. In practice, this is done by setting up a complex network-based model and using stochastic processes and probability distributions to simulation things like vehicle flow rates, accidents, road closures, etc. Travel times are then described using probability distributions that are based on a large number of simulations.\n",
    "\n",
    "In other words: assume a distribution of flow rate or vehicles on the road, use stochastic processes to consider the range of highway conditions and the occurrence of accidents, then let the computer do the hard work. In the end you get a histogram of travel times for your trajectory of interest. You can then look at the database of simulations to try and make inference on what leads to undesirable conditions. For example, take the group of simulations with the longest travel times for a given trajectory and see if it is caused by insufficient flow capacity or emergency vehicle response rate (i.e., ability to clear accidents quickly).\n",
    "\n",
    "In this exercise we will not simulate an entire traffic network, but instead use two simplified methods for estimating travel time, each of which will give different insight into possible design decisions.\n",
    "\n",
    "## How does this link to MUDE Weeks 2.7-2.8 Risk and Reliability?\n",
    "\n",
    "This is in fact a relatively simple probabilistic design problem. Just as the simple example for computing dike height to withstand a river discharge with failure probability of 1% (a one random variable case), in this example we need to design the highway such that travel time on the highway only exceeds the threshold amount 5% of the time. In this case the only random variable is vehicle flow rate. As you continue reading, you will probably think the computational models and method for taking into account interventions is a bit complicated, but remember: you only need to design for one random variable!"
   ]
  },
  {
   "cell_type": "code",
   "execution_count": 1,
   "metadata": {},
   "outputs": [],
   "source": [
    "import numpy as np\n",
    "import matplotlib.pyplot as plt\n",
    "from ipywidgets import interact\n",
    "import ipywidgets as widgets\n",
    "import warnings\n",
    "warnings.filterwarnings('ignore')"
   ]
  },
  {
   "cell_type": "markdown",
   "metadata": {},
   "source": [
    "## Traffic Variables\n",
    "\n",
    "We are interested in estimating tavel time, $t$ [minutes], measured along a single highway. Key variables that play a role in determining $t$ for the Dordrecht-Den Haag trajectory are:\n",
    "\n",
    "- Vehicle flow rate, $q$ [vehicles/hr]: typically measured per link, but for our purposes it will represent the entire highway trajectory. For the morning commute, the flow rate is typically 5500 veh/hr.\n",
    "- Capacity, $C$ [veh/hr]: the maximum flow rate of a link. For our trajectory, the capacity is 5600 veh/hr.\n",
    "- Delay, $t_{delay}$ [min]: additional time required to travel a trajectory for a single vehicle. Caused by an accident that lasts $t_{accident}$ minutes.\n",
    "\n",
    "A few other variables will be described below after we introduce two methods to calculate travel time, but first we will introduce you to the Python code that will be used to make it easy for you to solve this problem!"
   ]
  },
  {
   "cell_type": "markdown",
   "metadata": {},
   "source": [
    "## `Trajectory` class\n",
    "\n",
    "As the objective of this exercise is to focus on the probabilistic design process (*not* to see how fast you can use Python), many key steps have been automated for you using a class, `Trajectory`, which is defined in `exercise_setup.py`. An instance of the class is initialized with default values already defined, and many of the methods can be used without the need to specify inputs (see examples below). Observations in the attached `csv` file are also initialized as a dataframe attribute of the class, so you don't even need to import the data. For most methods, making a user-specified input argument will allow you to quickly see how a design decision may modify the characteristics of our highway trajectory. \n",
    "\n",
    "An instance is created in the following cell, and the class is used repeatedly throughout this notebook to provide usage examples. We have tried to provide informative docstrings to help figure out what each method does, so you should not have to look in the `exercise_setup.py` file unless you are curious how the class is defined."
   ]
  },
  {
   "cell_type": "code",
   "execution_count": 2,
   "metadata": {},
   "outputs": [],
   "source": [
    "from exercise_setup import Trajectory\n",
    "t=Trajectory()"
   ]
  },
  {
   "cell_type": "markdown",
   "metadata": {},
   "source": [
    "The class is initialized with a number of default values (explained later), which you can check using the following method:"
   ]
  },
  {
   "cell_type": "code",
   "execution_count": 3,
   "metadata": {},
   "outputs": [
    {
     "name": "stdout",
     "output_type": "stream",
     "text": [
      "Print current values used in Method 1 and 2.\n",
      "Current parameter values are:\n",
      "    alpha = 0.15\n",
      "     beta = 4\n",
      "      t_0 = 28.5\n",
      "        C = 5600\n",
      "      rCf = 0.2\n",
      "        q = 5500\n"
     ]
    }
   ],
   "source": [
    "print(t.print_parameters.__doc__)\n",
    "t.print_parameters()"
   ]
  },
  {
   "cell_type": "markdown",
   "metadata": {},
   "source": [
    "It's easy to create a second instance of the class, which can be useful if you want to see what the affect of varying parameter values. For example, here we change $q$ from the default value of 5500 to 5000:"
   ]
  },
  {
   "cell_type": "code",
   "execution_count": 4,
   "metadata": {},
   "outputs": [
    {
     "name": "stdout",
     "output_type": "stream",
     "text": [
      "Current parameter values are:\n",
      "    alpha = 0.15\n",
      "     beta = 4\n",
      "      t_0 = 28.5\n",
      "        C = 5600\n",
      "      rCf = 0.2\n",
      "        q = 5000\n"
     ]
    }
   ],
   "source": [
    "t2=Trajectory()\n",
    "t2.q = 5000\n",
    "t2.print_parameters()"
   ]
  },
  {
   "cell_type": "markdown",
   "metadata": {},
   "source": [
    "## Part 1. Two Methods for Estimating Travel-Time\n",
    "\n",
    "We will introduce two methods for computing the travel time, one that focuses on *flow rate* and *capacity*, the other on *accident duration.*\n",
    "\n",
    "### Method 1: Bureau of Public Roads (BPR) Curve\n",
    "\n",
    "Method 1 computes travel time as a function of vehicle flow rate, $q$:\n",
    "\n",
    "$$t\\left(q\\right)=t^0\\left(1+\\alpha\\left(\\frac{q}{C}\\right)^\\beta\\right)$$\n",
    "\n",
    "where $t^0$ is the free flow travel time, which is the time it would take to travel the link if there were no other vehicles on the road ($q=0$).\n",
    "\n",
    "$\\alpha=0.15$ and $\\beta=4.0$ are constants, especially for our simple case.\n",
    "\n",
    "Later in the exercise we will make changes to the highway (interventions) that will influence the parameters $q$ and $C$ and $t^0$. For example, adding a lane to the highway will increase $C$.\n",
    "\n",
    "Method 1 has been implemented in the `Trajectory` class as `travel_time_method_1()`."
   ]
  },
  {
   "cell_type": "code",
   "execution_count": 5,
   "metadata": {},
   "outputs": [
    {
     "name": "stdout",
     "output_type": "stream",
     "text": [
      "Compute travel time with Method 1.\n",
      "        \n",
      "        Keyword arguments: q, alpha, beta, t_0, C.\n",
      "        Returns: travel time as float or array, depending on input.\n",
      "        \n"
     ]
    }
   ],
   "source": [
    "print(t.travel_time_method_1.__doc__)"
   ]
  },
  {
   "cell_type": "markdown",
   "metadata": {},
   "source": [
    "We can use it to calculate the travel time for given variables."
   ]
  },
  {
   "cell_type": "code",
   "execution_count": 6,
   "metadata": {},
   "outputs": [
    {
     "name": "stdout",
     "output_type": "stream",
     "text": [
      "Travel time computed with Method 1 = 32.5 minutes.\n"
     ]
    }
   ],
   "source": [
    "print(f'Travel time computed with Method 1 = '\n",
    "      f'{t.travel_time_method_1():.1f} minutes.')"
   ]
  },
  {
   "cell_type": "markdown",
   "metadata": {},
   "source": [
    "You can use *keyword arguments* to change the default values for capacity, free-flow travel time and flow rate to see how the estimated travel-time changes!"
   ]
  },
  {
   "cell_type": "code",
   "execution_count": 7,
   "metadata": {},
   "outputs": [
    {
     "name": "stdout",
     "output_type": "stream",
     "text": [
      "Travel time computed with Method 1 = 31.5 minutes.\n"
     ]
    }
   ],
   "source": [
    "print(f'Travel time computed with Method 1 = '\n",
    "      f'{t.travel_time_method_1(C=6000):.1f} minutes.')"
   ]
  },
  {
   "cell_type": "code",
   "execution_count": 8,
   "metadata": {},
   "outputs": [
    {
     "name": "stdout",
     "output_type": "stream",
     "text": [
      "Travel time computed with Method 1 = 28.9 minutes.\n"
     ]
    }
   ],
   "source": [
    "print(f'Travel time computed with Method 1 = '\n",
    "      f'{t.travel_time_method_1(q=3000):.1f} minutes.')"
   ]
  },
  {
   "cell_type": "markdown",
   "metadata": {},
   "source": [
    "Using sliders we can look at the effect of capacity and t_0 on the BPR curve."
   ]
  },
  {
   "attachments": {},
   "cell_type": "markdown",
   "metadata": {},
   "source": [
    "```{note}\n",
    "The widgets displayed on this page will not work in the website version, only when you use the `*.ipynb` file with a Python kernel (e.g., in Jupyter Notebook or Jupyter Lab).\n",
    "```"
   ]
  },
  {
   "cell_type": "code",
   "execution_count": 9,
   "metadata": {},
   "outputs": [
    {
     "data": {
      "application/vnd.jupyter.widget-view+json": {
       "model_id": "c0bdaad2190343f5b8c103bbd6bd9257",
       "version_major": 2,
       "version_minor": 0
      },
      "text/plain": [
       "interactive(children=(FloatSlider(value=28.5, description='t_0', max=32.0, min=26.0, step=0.5), FloatSlider(va…"
      ]
     },
     "metadata": {},
     "output_type": "display_data"
    }
   ],
   "source": [
    "from custom_widgets import method_1"
   ]
  },
  {
   "cell_type": "markdown",
   "metadata": {},
   "source": [
    "### Method 2: Delays Caused by Accidents\n",
    "\n",
    "This method takes into account accidents that may have occurred along our trajectory computing the delay experienced by a single vehicle, $t_\\mathrm{delay}$. The delay is related to the length of the accident itself, as well as the traffic flow and trajectory capacity:\n",
    "\n",
    "$$t_\\mathrm{delay}=t_{\\mathrm{accident}} \\cdot \\frac{(q - rC)}{2q}$$\n",
    "\n",
    "Where $rC$ is the remaining capacity of the link [veh/hr], approximated as a percentage of the link capacity:\n",
    "\n",
    "$$rC = rC_f \\cdot C$$\n",
    "\n",
    "In our case we assume $rC_f$=0.2.\n",
    "\n",
    "Total travel time along the trajectory can be estimated by adding $t_{delay}$ to the travel time without accidents. This is similar to the free flow travel time, $t^0$, except we must take into account the fact that accidents don't have a significant effect on travel time until traffic flow is already reaching the trajectory capacity. Thus, we introduce a cutoff time, $t_{cutoff}$, above which accidents affect $t$:\n",
    "\n",
    "$$t=t_{\\mathrm{cutoff}}+t_\\mathrm{delay}$$\n",
    "\n",
    "The value of $t_{cutoff}$ is estimated using Method 1 for a condition close to the capacity of the highway---100 veh/hr less---which returns 32.5 min, computed here:."
   ]
  },
  {
   "cell_type": "code",
   "execution_count": 10,
   "metadata": {},
   "outputs": [
    {
     "name": "stdout",
     "output_type": "stream",
     "text": [
      "Travel time for q = 5500.0 and C = 5600.0 using Method 1: 32.50 min\n"
     ]
    }
   ],
   "source": [
    "print(f'Travel time for q = {t.q} and C = {t.C} using Method 1: '\n",
    "      f'{t.travel_time_method_1(q=t.q, C=t.C):.2f} min')"
   ]
  },
  {
   "cell_type": "markdown",
   "metadata": {},
   "source": [
    "Method 2 has been implemented in the `Trajectory` class as `travel_time_method_2()`, which computes travel time for a single vehicle and a single accident. The class also assumes $t_{accident}=10$ min as a default value, which is close to the median accident length during the morning commute. "
   ]
  },
  {
   "cell_type": "code",
   "execution_count": 11,
   "metadata": {},
   "outputs": [
    {
     "name": "stdout",
     "output_type": "stream",
     "text": [
      "Compute travel time with Method 2 (delays).\n",
      "        \n",
      "        Keyword arguments: t_accident, q, C, rCf, t_cutoff.\n",
      "        Returns: travel time as float or array, depending on input.\n",
      "        \n"
     ]
    }
   ],
   "source": [
    "print(t.travel_time_method_2.__doc__)"
   ]
  },
  {
   "cell_type": "markdown",
   "metadata": {},
   "source": [
    "We can use it to calculate the travel time for given variables, which is set up to assume that a single 10 min accident has occured for a vehicle traveling the trajectory."
   ]
  },
  {
   "cell_type": "code",
   "execution_count": 12,
   "metadata": {},
   "outputs": [
    {
     "name": "stdout",
     "output_type": "stream",
     "text": [
      "A single accident duration of 10 min is assumed by default. Include argument t_accident=? to override.\n",
      "Travel time computed with Method 2 = 36.5 minutes.\n"
     ]
    }
   ],
   "source": [
    "print(f'Travel time computed with Method 2 = '\n",
    "      f'{t.travel_time_method_2():.1f} minutes.')"
   ]
  },
  {
   "cell_type": "markdown",
   "metadata": {},
   "source": [
    "Investigating the effect of accident duration is easy because you can change the default argument values just like for Method 1 (see documentation for complete list of input arguments):"
   ]
  },
  {
   "cell_type": "code",
   "execution_count": 13,
   "metadata": {},
   "outputs": [
    {
     "name": "stdout",
     "output_type": "stream",
     "text": [
      "Travel time computed with Method 2 = 44.4 minutes when accident time is 30 min.\n"
     ]
    }
   ],
   "source": [
    "try_t_accident = 30\n",
    "print(f'Travel time computed with Method 2 = '\n",
    "      f'{t.travel_time_method_2(t_accident=try_t_accident):.1f} '\n",
    "      f'minutes when accident time is {try_t_accident} min.')"
   ]
  },
  {
   "cell_type": "markdown",
   "metadata": {},
   "source": [
    "There is also a method to compute delay:"
   ]
  },
  {
   "cell_type": "code",
   "execution_count": 14,
   "metadata": {},
   "outputs": [
    {
     "name": "stdout",
     "output_type": "stream",
     "text": [
      "A single accident duration of 10 min is assumed by default. Include argument t_accident=? to override.\n",
      "The delay for one vehicle is 3.98 min.\n",
      "The delay for one vehicle due to a 30 min accident is 11.95 min.\n"
     ]
    }
   ],
   "source": [
    "print(f'The delay for one vehicle is '\n",
    "      f'{t.estimate_t_delay():.2f} min.')\n",
    "print(f'The delay for one vehicle due to a {try_t_accident} min '\n",
    "      f'accident is {t.estimate_t_delay(t_accident=try_t_accident):.2f} min.')"
   ]
  },
  {
   "cell_type": "markdown",
   "metadata": {},
   "source": [
    "Interesting, the previous calculation shows that if the accident time increases by 20 min, the delay is only increased by 8 min."
   ]
  },
  {
   "attachments": {},
   "cell_type": "markdown",
   "metadata": {},
   "source": [
    "```{note}\n",
    "The widgets displayed on this page will not work in the website version, only when you use the `*.ipynb` file with a Python kernel (e.g., in Jupyter Notebook or Jupyter Lab).\n",
    "```"
   ]
  },
  {
   "cell_type": "code",
   "execution_count": 15,
   "metadata": {},
   "outputs": [
    {
     "data": {
      "application/vnd.jupyter.widget-view+json": {
       "model_id": "d00800ac309946df9291756aa1ffcbc4",
       "version_major": 2,
       "version_minor": 0
      },
      "text/plain": [
       "interactive(children=(FloatSlider(value=10.0, description='t_accident', max=60.0, min=5.0, step=5.0), FloatSli…"
      ]
     },
     "metadata": {},
     "output_type": "display_data"
    }
   ],
   "source": [
    "from custom_widgets import method_2"
   ]
  },
  {
   "cell_type": "markdown",
   "metadata": {},
   "source": [
    "## Part 2. Importing the Data"
   ]
  },
  {
   "cell_type": "markdown",
   "metadata": {},
   "source": [
    "Here we do 'the usual': import data using pandas, clean it up and explore it with a few summary statistics and visualizations. Luckily we've already done this for you in the `process_observations` method in the `Trajectory` class, and class is initialized with the datafram as an attribute."
   ]
  },
  {
   "cell_type": "code",
   "execution_count": 16,
   "metadata": {},
   "outputs": [
    {
     "name": "stdout",
     "output_type": "stream",
     "text": [
      "Create dataframe with observations.\n",
      "        \n",
      "        Steps:\n",
      "          - Import file defined by string attribute observations_filename.\n",
      "          - Extract all columns with observations.\n",
      "          - Set up and return new dataframe:\n",
      "              - travel_time_df\n",
      "          - Set up and return new arrays:\n",
      "              - travel_time\n",
      "              - flow_rate\n",
      "              - t_accident\n",
      "          - dataframe and arrays are added as attributes in init\n",
      "        \n"
     ]
    }
   ],
   "source": [
    "print(t.process_observations.__doc__)"
   ]
  },
  {
   "cell_type": "code",
   "execution_count": 17,
   "metadata": {},
   "outputs": [
    {
     "data": {
      "text/html": [
       "<div>\n",
       "<style scoped>\n",
       "    .dataframe tbody tr th:only-of-type {\n",
       "        vertical-align: middle;\n",
       "    }\n",
       "\n",
       "    .dataframe tbody tr th {\n",
       "        vertical-align: top;\n",
       "    }\n",
       "\n",
       "    .dataframe thead th {\n",
       "        text-align: right;\n",
       "    }\n",
       "</style>\n",
       "<table border=\"1\" class=\"dataframe\">\n",
       "  <thead>\n",
       "    <tr style=\"text-align: right;\">\n",
       "      <th></th>\n",
       "      <th>Travel Time</th>\n",
       "    </tr>\n",
       "  </thead>\n",
       "  <tbody>\n",
       "    <tr>\n",
       "      <th>0</th>\n",
       "      <td>30.144795</td>\n",
       "    </tr>\n",
       "    <tr>\n",
       "      <th>1</th>\n",
       "      <td>30.064739</td>\n",
       "    </tr>\n",
       "    <tr>\n",
       "      <th>2</th>\n",
       "      <td>29.912339</td>\n",
       "    </tr>\n",
       "    <tr>\n",
       "      <th>3</th>\n",
       "      <td>29.972393</td>\n",
       "    </tr>\n",
       "    <tr>\n",
       "      <th>4</th>\n",
       "      <td>30.084815</td>\n",
       "    </tr>\n",
       "  </tbody>\n",
       "</table>\n",
       "</div>"
      ],
      "text/plain": [
       "   Travel Time\n",
       "0    30.144795\n",
       "1    30.064739\n",
       "2    29.912339\n",
       "3    29.972393\n",
       "4    30.084815"
      ]
     },
     "execution_count": 17,
     "metadata": {},
     "output_type": "execute_result"
    }
   ],
   "source": [
    "t.travel_time_df.head()"
   ]
  },
  {
   "cell_type": "code",
   "execution_count": 18,
   "metadata": {},
   "outputs": [
    {
     "data": {
      "text/html": [
       "<div>\n",
       "<style scoped>\n",
       "    .dataframe tbody tr th:only-of-type {\n",
       "        vertical-align: middle;\n",
       "    }\n",
       "\n",
       "    .dataframe tbody tr th {\n",
       "        vertical-align: top;\n",
       "    }\n",
       "\n",
       "    .dataframe thead th {\n",
       "        text-align: right;\n",
       "    }\n",
       "</style>\n",
       "<table border=\"1\" class=\"dataframe\">\n",
       "  <thead>\n",
       "    <tr style=\"text-align: right;\">\n",
       "      <th></th>\n",
       "      <th>Travel Time</th>\n",
       "    </tr>\n",
       "  </thead>\n",
       "  <tbody>\n",
       "    <tr>\n",
       "      <th>count</th>\n",
       "      <td>22021.000000</td>\n",
       "    </tr>\n",
       "    <tr>\n",
       "      <th>mean</th>\n",
       "      <td>34.344555</td>\n",
       "    </tr>\n",
       "    <tr>\n",
       "      <th>std</th>\n",
       "      <td>9.524935</td>\n",
       "    </tr>\n",
       "    <tr>\n",
       "      <th>min</th>\n",
       "      <td>28.524847</td>\n",
       "    </tr>\n",
       "    <tr>\n",
       "      <th>25%</th>\n",
       "      <td>30.146187</td>\n",
       "    </tr>\n",
       "    <tr>\n",
       "      <th>50%</th>\n",
       "      <td>31.284827</td>\n",
       "    </tr>\n",
       "    <tr>\n",
       "      <th>75%</th>\n",
       "      <td>34.625918</td>\n",
       "    </tr>\n",
       "    <tr>\n",
       "      <th>max</th>\n",
       "      <td>129.301866</td>\n",
       "    </tr>\n",
       "  </tbody>\n",
       "</table>\n",
       "</div>"
      ],
      "text/plain": [
       "        Travel Time\n",
       "count  22021.000000\n",
       "mean      34.344555\n",
       "std        9.524935\n",
       "min       28.524847\n",
       "25%       30.146187\n",
       "50%       31.284827\n",
       "75%       34.625918\n",
       "max      129.301866"
      ]
     },
     "execution_count": 18,
     "metadata": {},
     "output_type": "execute_result"
    }
   ],
   "source": [
    "t.travel_time_df.describe()"
   ]
  },
  {
   "cell_type": "code",
   "execution_count": 19,
   "metadata": {},
   "outputs": [
    {
     "data": {
      "image/png": "[encoded data removed]",
      "text/plain": [
       "<Figure size 640x480 with 1 Axes>"
      ]
     },
     "metadata": {},
     "output_type": "display_data"
    }
   ],
   "source": [
    "hist = t.travel_time_df.hist(density=True,\n",
    "                                    bins = 25,\n",
    "                                    edgecolor='k',\n",
    "                                    linewidth=1.1)\n"
   ]
  },
  {
   "cell_type": "code",
   "execution_count": 20,
   "metadata": {},
   "outputs": [
    {
     "data": {
      "image/png": "[encoded data removed]",
      "text/plain": [
       "<Figure size 640x480 with 1 Axes>"
      ]
     },
     "metadata": {},
     "output_type": "display_data"
    }
   ],
   "source": [
    "bin_count, bin_position = np.histogram(t.travel_time_df, bins=25)\n",
    "travel_time_freq = bin_count / sum(bin_count)\n",
    "travel_time_cdf = np.cumsum(travel_time_freq)\n",
    "plt.plot(bin_position[1:], travel_time_freq, color=\"red\",\n",
    "         linewidth=3, label=\"Relative frequency\")\n",
    "plt.plot(bin_position[1:], travel_time_cdf,\n",
    "         label=\"Cumulative empirical distribution\", linewidth=3)\n",
    "plt.xlabel('Travel Times [min]')\n",
    "plt.ylabel('Relative Frequency and Empirical CDF [$-$]')\n",
    "plt.legend();"
   ]
  },
  {
   "cell_type": "code",
   "execution_count": 21,
   "metadata": {},
   "outputs": [
    {
     "data": {
      "text/plain": [
       "Text(0, 0.5, 'Empirical Exceedance CDF')"
      ]
     },
     "execution_count": 21,
     "metadata": {},
     "output_type": "execute_result"
    },
    {
     "data": {
      "image/png": "[encoded data removed]",
      "text/plain": [
       "<Figure size 640x480 with 1 Axes>"
      ]
     },
     "metadata": {},
     "output_type": "display_data"
    }
   ],
   "source": [
    "plt.plot(bin_position[1:], 1-travel_time_cdf, label=\"CDF\", linewidth=3)\n",
    "plt.yscale('log')\n",
    "plt.ylim([1e-4, 1]);\n",
    "plt.xlabel('Travel Times [min]')\n",
    "plt.ylabel('Empirical Exceedance CDF')"
   ]
  },
  {
   "cell_type": "markdown",
   "metadata": {},
   "source": [
    "## Part 3. Fitting a Burr-Distribution to the Data"
   ]
  },
  {
   "cell_type": "markdown",
   "metadata": {},
   "source": [
    "It turns out the Burr distribution often is a good fit for traffic flow rate data, and we can obtain the parameters using MLE incorporated in the `scipy.stats` method [`Burr12`](https://docs.scipy.org/doc/scipy/reference/generated/scipy.stats.burr12.html)."
   ]
  },
  {
   "cell_type": "markdown",
   "metadata": {},
   "source": [
    "The standardized form of the Burr12 distribution (with location, `loc` = 0 and `scale` = 1) is:\n",
    "\n",
    "$$\n",
    "f(x, c, d)=c d \\frac{x^{c-1}}{\\left(1+x^{c}\\right)^{d+1}}\n",
    "$$\n",
    "\n",
    "The distribution has to be shifted and scaled to fit our data, which is done with the location and scale parameters that are returnd by the method in `scipy`. If the Burr distribution as shown in the introductory video is a two-parameter formulation, and if it is used with the location and scale parameters as follows, it is equivalent to the `scipy` formulation (four parameters):\n",
    "\n",
    "$$\n",
    "f_{scipy}(x, c, d, \\mathrm{loc}, \\mathrm{scale}) = f_{video}(\\frac{x-\\mathrm{loc}}{\\mathrm{scale}}, c, d) \\cdot \\mathrm{scale}\n",
    "$$\n",
    "\n",
    "The CDF of the Burr distribution is very easy to evaluate:\n",
    "$$\n",
    "F(x,c, d, \\mathrm{loc}, \\mathrm{scale})=1−(1+x^c)^{-k}\n",
    "$$\n",
    "\n",
    "*NB:*\n",
    "- *In the video the parameters loc and scale are a and b, respectively. c and k are used equivalently.*\n",
    "- *You are asked to make a calculation with the CDF below, one of the few things you are required to code on your own in this notebook.*\n",
    "- *There are actually twelve Burr distributions (yes, 12!). They were 'invented' in the 1940's to avoid tedious hand calculations easier. The scipy distribution is equation 12 from [Burr's 1942 paper \"Cumulative Frequency Functions,\"](https://doi.org/10.1093%2Fbiomet%2F64.1.129) hence the name*\n",
    "\n",
    "In `Trajectory`, the distribution is fit during initialization of the class with `fit_burr`, and the parameter values can be printed using `print_parameters_burr`. The example below illustrates the use of `scipy.stats.Burr12` without requiring to dig into the py file."
   ]
  },
  {
   "cell_type": "code",
   "execution_count": 22,
   "metadata": {},
   "outputs": [
    {
     "name": "stdout",
     "output_type": "stream",
     "text": [
      "Parameters are:\n",
      "    c  = 84.137\n",
      "    k  = 6.421e-02\n",
      "   loc = 12.00\n",
      " scale = 17.49\n"
     ]
    }
   ],
   "source": [
    "t.print_parameters_burr()"
   ]
  },
  {
   "cell_type": "markdown",
   "metadata": {},
   "source": [
    "Now we will plot the distribution with the histogram to check the fit visually. The PDF is calculated two ways: one using the 4-parameter version provided by `scipy.stats`, the other using the shifted and scaled 2 parameter version. It is clear that the restuls are identical."
   ]
  },
  {
   "cell_type": "code",
   "execution_count": 23,
   "metadata": {},
   "outputs": [
    {
     "data": {
      "image/png": "[encoded data removed]",
      "text/plain": [
       "<Figure size 640x480 with 1 Axes>"
      ]
     },
     "metadata": {},
     "output_type": "display_data"
    }
   ],
   "source": [
    "# Plot the distribution and the histogram\n",
    "from scipy import stats\n",
    "from scipy.stats import burr12\n",
    "c, k, loc, scale = t.burr_parameters\n",
    "x = np.linspace(20,130, 100)\n",
    "plt.plot(x, burr12.pdf(x, c, k, loc, scale),\n",
    "         'b-', lw=3, label='PDF using 4 parameters')\n",
    "plt.plot(x, burr12.pdf((x-loc)/scale, c, k, 0, 1)/scale,\n",
    "         'r:', lw=3, label='PDF using 2 parameters')\n",
    "plt.hist(t.travel_time_df,density=True, bins=25,\n",
    "         edgecolor='k', linewidth=1.1)\n",
    "plt.legend(loc='best', frameon=False)\n",
    "plt.xlabel('Travel time, $t$ [min]')\n",
    "plt.ylabel('Probability density and histogram [$-$]')\n",
    "plt.show()"
   ]
  },
  {
   "cell_type": "code",
   "execution_count": 24,
   "metadata": {},
   "outputs": [
    {
     "data": {
      "image/png": "[encoded data removed]",
      "text/plain": [
       "<Figure size 640x480 with 1 Axes>"
      ]
     },
     "metadata": {},
     "output_type": "display_data"
    }
   ],
   "source": [
    "#Burr fit on the data with 4 parameters (red) and with 2 parameters (blue)\n",
    "fig, ax = plt.subplots(1, 1)\n",
    "ax.plot(x, 1 - burr12.cdf(x, c, k, loc, scale),\n",
    "        'b-', lw=3, label='Burr-fit 4 params')\n",
    "ax.plot(x, 1 - burr12.cdf((x-loc)/scale, c, k, 0, 1),\n",
    "        'r:', lw=3, label='Burr-fit 2 params')\n",
    "ax.plot(bin_position[1:], 1 - travel_time_cdf,\n",
    "        'k--', lw=3, label=\"CDF of data\")\n",
    "ax.legend(loc='best', frameon=False)\n",
    "plt.yscale('log')\n",
    "plt.xlim([25, 60])\n",
    "plt.ylim([1e-4, 1])\n",
    "plt.xlabel('Travel time, $t$ [min]')\n",
    "plt.ylabel('Exceedance probability, $1-F_t(t)\\:$ [$-$]')\n",
    "plt.show()"
   ]
  },
  {
   "cell_type": "markdown",
   "metadata": {},
   "source": [
    "What do you think of the fit?"
   ]
  },
  {
   "cell_type": "markdown",
   "metadata": {},
   "source": [
    "## Part 4. Evaluating the Trajectory"
   ]
  },
  {
   "cell_type": "markdown",
   "metadata": {},
   "source": [
    "The requirement for the trajectory is that the 95 percentile value is no more than 10 minutes longer than the free-flow travel time:\n",
    "\n",
    "$$\n",
    "t_{95} \\leq t_0 + 10\\: \\mathrm{min}\n",
    "$$\n",
    "\n",
    "**Using the information provided above, compute the 95th percentile of the Burr distribution in the cell below.**"
   ]
  },
  {
   "cell_type": "code",
   "execution_count": 25,
   "metadata": {},
   "outputs": [],
   "source": [
    "burr_95th_percentile = None"
   ]
  },
  {
   "cell_type": "markdown",
   "metadata": {},
   "source": [
    "**Use this cell to check whether the trajectory meets the requirement, after you compute the 95th percentile above.**"
   ]
  },
  {
   "cell_type": "code",
   "execution_count": 26,
   "metadata": {},
   "outputs": [
    {
     "name": "stdout",
     "output_type": "stream",
     "text": [
      "Replace the variable in the cell above with your calculation!\n"
     ]
    }
   ],
   "source": [
    "if burr_95th_percentile is None:\n",
    "    print('Replace the variable in the cell above with your calculation!')\n",
    "elif burr_95th_percentile > t.t_0 + 10:\n",
    "    print('The requirement is not met, interventions are needed.')\n",
    "elif burr_95th_percentile < 0:\n",
    "    print('The trajectory meets the requirement.')\n",
    "elif burr_95th_percentile < t.t_0 + 10:\n",
    "    print('The trajectory meets the requirement.')"
   ]
  },
  {
   "cell_type": "markdown",
   "metadata": {},
   "source": [
    "## Part 5. Effect of Interventions on Travel Time\n",
    "\n",
    "Now it's time for the fun part: let's look at a variety of interventions and see if we can improve the travel time on this highway trajectory! The following sections describe the interventions and illustrate the Python tools that are available for you to re-design the highway.\n",
    "\n",
    "## Description of Intervention Effects\n",
    "\n",
    "The following interventions can be considered for our trajectory:\n",
    "\n",
    "1. **Extra Lane:** widens existing road by one or two lanes  \n",
    "2. **Hard Shoulder:** adds a hard shoulder to the existing trajectory, providing extra capacity, especially during peak flow moments  \n",
    "3. **Max Speed:** sets the maximum allowed speed on trajectory (current value, 130 km/h; maximum value: 170km/h)\n",
    "4. **Alternate Trajectory:** constructs one or two alternative trajectory options (e.g. a second highway or large road), decreasing peak flow rate on the original trajectory  \n",
    "5. **Incident Management:** speeds up towing and accident clean-up services by X% which reduces time duration of an accident  \n",
    "6. **Accident Risk Reduction:** employs cooperative intelligent transport systems, C-ITS (vehicle to vehicle communication), to reduce the number of incidents by X%. For our case it can also include a number of measures such as smart signs, lights and lane control.  \n",
    "7. **Modal Shift, Trucks:** decreases the number of trucks during the morning commute by X% by promoting alternative modes and commute times for truck transport  \n",
    "8. **Modal Shift, Cars:** equivalent to the above intervention, but for cars  \n",
    "\n",
    "## Implementation of Intervention Effects\n",
    "\n",
    "The following table indicates which Method can take into account each intervention and how, as well as key information for using the Python tools:\n",
    "\n",
    "| No. | Intervention | Variable | Method 1 | Method 2 | Keyword Argument | Values |\n",
    "| :---: | :---: | :---: | :---: | :---: | :---: | :---: |\n",
    "| 1 | Extra Lane | $C$ | X | X | `extra_lane` | `None`, 1, 2 |\n",
    "| 2 | Hard Shoulder | $C$ |  | X | `hard_shoulder` | `True`/`False` |,\n",
    "| 3 | Max. Speed | $t_0$ | X | X | `max_speed` | >0, 170 max |\n",
    "| 4 | Alternate trajectory | $q$ | X | X | `alt_route` | `None`, 1, 2 |\n",
    "| 5 | Incident Management | $t_{accident}$ |  | X | `incident_management` | 1%$-$100% |\n",
    "| 6 | Accident Risk Reduction | $t_{accident}$ |  | X | `accident_risk_reduction` |1%$-$100%  |\n",
    "| 7 | Modal Shift, Trucks | $q$ | X | X | `modal_shift_trucks` | 0%$-$20% |\n",
    "| 8 | Modal Shift, Cars | $q$ | X | X | `modal_shift_cars` | 0%$-$20% |\n",
    "\n"
   ]
  },
  {
   "cell_type": "markdown",
   "metadata": {},
   "source": [
    "### Method 1: BPR"
   ]
  },
  {
   "cell_type": "markdown",
   "metadata": {},
   "source": [
    "The expected travel time changes when the free-flow travel time ($t_0$), flow ($q$) and capacity $C$ are modified. The interventions listed above have been implemented as keyword arguments in the method `intervention_method_1`, illustrated with an example below the docstring:"
   ]
  },
  {
   "cell_type": "code",
   "execution_count": 27,
   "metadata": {},
   "outputs": [
    {
     "name": "stdout",
     "output_type": "stream",
     "text": [
      "Compute travel time with Method 1.\n",
      "        \n",
      "        Keyword arguments: q, alpha, beta, t_0, C.\n",
      "        Returns: travel time as float or array, depending on input.\n",
      "        \n"
     ]
    }
   ],
   "source": [
    "print(t.travel_time_method_1.__doc__)"
   ]
  },
  {
   "cell_type": "code",
   "execution_count": 28,
   "metadata": {},
   "outputs": [
    {
     "name": "stdout",
     "output_type": "stream",
     "text": [
      "The baseline travel time is 32.50 min\n",
      "The travel time with an intervention is 28.17 min\n",
      "    (the difference is -4.33 min)\n"
     ]
    }
   ],
   "source": [
    "travel_time_baseline = t.travel_time_method_1()\n",
    "travel_time_with_intervention = t.intervention_method_1(max_speed=150)\n",
    "print(f'The baseline travel time is '\n",
    "      f'{travel_time_baseline:0.2f} min')\n",
    "print(f'The travel time with an intervention is '\n",
    "      f'{travel_time_with_intervention:0.2f} min'\n",
    "      f'\\n    (the difference is '\n",
    "      f'{travel_time_with_intervention - travel_time_baseline:.2f} min)')"
   ]
  },
  {
   "cell_type": "markdown",
   "metadata": {},
   "source": [
    "The Burr distribution can also be estimated for the same intervention using `plot_distribution_method_1`, which relies on `intervention_method_1`. Here it is set up with widgets to let you play with the effect of each intervention:"
   ]
  },
  {
   "attachments": {},
   "cell_type": "markdown",
   "metadata": {},
   "source": [
    "```{note}\n",
    "The widgets displayed on this page will not work in the website version, only when you use the `*.ipynb` file with a Python kernel (e.g., in Jupyter Notebook or Jupyter Lab).\n",
    "```"
   ]
  },
  {
   "cell_type": "code",
   "execution_count": 29,
   "metadata": {},
   "outputs": [
    {
     "data": {
      "application/vnd.jupyter.widget-view+json": {
       "model_id": "7974564f725f4bb1ba9a4b1d8a221aca",
       "version_major": 2,
       "version_minor": 0
      },
      "text/plain": [
       "interactive(children=(Dropdown(description='1: Extra Lanes', options=(('None', None), ('1', 1), ('2', 2)), val…"
      ]
     },
     "metadata": {},
     "output_type": "display_data"
    }
   ],
   "source": [
    "from custom_widgets import method_1_interv_dist"
   ]
  },
  {
   "cell_type": "markdown",
   "metadata": {},
   "source": [
    "This function will compute the 95th percentile for the baseline parameter values:"
   ]
  },
  {
   "cell_type": "code",
   "execution_count": 30,
   "metadata": {},
   "outputs": [
    {
     "name": "stdout",
     "output_type": "stream",
     "text": [
      "42.5\n"
     ]
    }
   ],
   "source": [
    "print(f'{t.burr_ppf_with_int_1(0.95):.3}')"
   ]
  },
  {
   "cell_type": "markdown",
   "metadata": {},
   "source": [
    "The same function allows you to check out how the 95th percentile changes by applying interventions.\n",
    "\n",
    "*What interventions could you apply in order to meet the requirement for the trajectory?*\n"
   ]
  },
  {
   "cell_type": "code",
   "execution_count": 31,
   "metadata": {},
   "outputs": [
    {
     "name": "stdout",
     "output_type": "stream",
     "text": [
      "33.4\n"
     ]
    }
   ],
   "source": [
    "print(f'{t.burr_ppf_with_int_1(0.95,alt_route=1):.3}')"
   ]
  },
  {
   "cell_type": "markdown",
   "metadata": {},
   "source": [
    "### Method 2: Delays\n",
    "\n",
    "Interventions for Method two have been implemented as keyword arguments in the method `intervention_method_2`, and can be used the same as with those for Methods 1, although there are 8 possible interventions instead of 5:"
   ]
  },
  {
   "cell_type": "code",
   "execution_count": 32,
   "metadata": {},
   "outputs": [
    {
     "name": "stdout",
     "output_type": "stream",
     "text": [
      "Compute travel time with Method 2 (delays).\n",
      "        \n",
      "        Keyword arguments: t_accident, q, C, rCf, t_cutoff.\n",
      "        Returns: travel time as float or array, depending on input.\n",
      "        \n"
     ]
    }
   ],
   "source": [
    "print(t.travel_time_method_2.__doc__)"
   ]
  },
  {
   "attachments": {},
   "cell_type": "markdown",
   "metadata": {},
   "source": [
    "```{note}\n",
    "The widgets displayed on this page will not work in the website version, only when you use the `*.ipynb` file with a Python kernel (e.g., in Jupyter Notebook or Jupyter Lab).\n",
    "```"
   ]
  },
  {
   "cell_type": "code",
   "execution_count": 33,
   "metadata": {},
   "outputs": [
    {
     "data": {
      "application/vnd.jupyter.widget-view+json": {
       "model_id": "892aced71d0140a48243e07efbf54f4f",
       "version_major": 2,
       "version_minor": 0
      },
      "text/plain": [
       "interactive(children=(Dropdown(description='1: Extra Lanes', options=(('None', None), ('1', 1), ('2', 2)), val…"
      ]
     },
     "metadata": {},
     "output_type": "display_data"
    }
   ],
   "source": [
    "from custom_widgets import method_2_interv_dist"
   ]
  },
  {
   "cell_type": "markdown",
   "metadata": {},
   "source": [
    "## Part 6. Cost-Benefit Analysis\n",
    "\n",
    "Now it's time for the fun part: coming up with an optimal design! It's easy to use the intervention functions introduced above to find a combination that gives a 95th percentile value that meets the requirement. However, in real life interventions cost money, and we will take that into account here using the costs specified in the table, which have also been implemented for you in the methods below, `benefit_cost_method_x`. These functions work with keyword arguments, just like the intervention functions above. With that, the assignment is simply:\n",
    "\n",
    "**Maximize the ratio of benefits to cost such that: 1) the maximum cost of 250 FCoins is not exceeded, and 2) the 95th percentile is less than $t_0+10$.** Your 'answer' should be in the form of a specific set of interventions (using keyword argument values), costs, benefit-cost ratio, and a short justification for how you came to the result.\n",
    "\n",
    "Although the assignment is simple, there are a few things to note, in particular: Method 1 and 2 are different, and *both* are simplified versions of reality. They will give you different results because they are different methods, not only because Method 2 includes more interventions. In addition, the costs are defined in terms of FCoins, which are not 'real' monetary units, and have not been scaled to reality; as such, the benefit-cost ratio will does not need to be greatere than 1 to be a viable project.\n",
    "\n",
    "| Intervention | Keyword Argument | Costs (FCoins) |\n",
    "| :--- | :---: | :---: |\n",
    "| New Alternative Route         | `alt_trajectory` | --- |\n",
    "| 1 lane                       | --- | 150 |\n",
    "| 2 lanes                      | --- | 180 |\n",
    "| New Lane                      | `extra_lane` | --- |\n",
    "| 1 additional lane            | --- | 70 |\n",
    "| 2 additional lanes           | --- | 100 |\n",
    "| Create Hard Shoulder          | `hard_shoulder` | 60 |\n",
    "| Increase Max Speed            | `max_speed` | 7/percent |\n",
    "| Accident Risk Reduction | `accident_risk_reduction` | 5/percent |\n",
    "| Incident Management           | `incident_management` | 2/percent |\n",
    "| Modal Shift Trucks            | `modal_shift_trucks` | 5/percent |\n",
    "| Modal Shift Cars              | `modal_shift_cars` | 8/percent |\n",
    "\n",
    "NB: *the \"/percent\" cost is determined per percent change in the intervention basedo on the pre-intervention value. For example, changing the maximum speed from 130 to 140 km/hr is a +8% change, thus it would cost 56 FCoins*"
   ]
  },
  {
   "cell_type": "code",
   "execution_count": 34,
   "metadata": {},
   "outputs": [],
   "source": [
    "from benefit_cost import benefit_cost_method_1\n",
    "from benefit_cost import benefit_cost_method_2"
   ]
  },
  {
   "cell_type": "markdown",
   "metadata": {},
   "source": [
    "These functions compute the benefit to cost ratio, which you need to maximize without exceeding the total cost."
   ]
  },
  {
   "cell_type": "code",
   "execution_count": 35,
   "metadata": {},
   "outputs": [
    {
     "name": "stdout",
     "output_type": "stream",
     "text": [
      "The benefit-cost ratio using Method 1 is: 0.095\n",
      "Total cost for all interventions applied: 100.000 FCoins\n"
     ]
    }
   ],
   "source": [
    "BC1 = benefit_cost_method_1(modal_shift_trucks=20)"
   ]
  },
  {
   "cell_type": "code",
   "execution_count": 36,
   "metadata": {},
   "outputs": [
    {
     "name": "stdout",
     "output_type": "stream",
     "text": [
      "The benefit-cost ratio using Method 2 is: -0.058\n",
      "Total cost for all interventions applied: 100.000 FCoins\n"
     ]
    }
   ],
   "source": [
    "BC2 = benefit_cost_method_2(modal_shift_trucks=20)"
   ]
  },
  {
   "cell_type": "markdown",
   "metadata": {},
   "source": [
    "Good luck!"
   ]
  }
 ],
 "metadata": {
  "kernelspec": {
   "display_name": "base",
   "language": "python",
   "name": "python3"
  },
  "language_info": {
   "codemirror_mode": {
    "name": "ipython",
    "version": 3
   },
   "file_extension": ".py",
   "mimetype": "text/x-python",
   "name": "python",
   "nbconvert_exporter": "python",
   "pygments_lexer": "ipython3",
   "version": "3.9.13 (main, Aug 25 2022, 23:51:50) [MSC v.1916 64 bit (AMD64)]"
  },
  "latex_envs": {
   "LaTeX_envs_menu_present": true,
   "autoclose": false,
   "autocomplete": true,
   "bibliofile": "biblio.bib",
   "cite_by": "apalike",
   "current_citInitial": 1,
   "eqLabelWithNumbers": true,
   "eqNumInitial": 1,
   "hotkeys": {
    "equation": "Ctrl-E",
    "itemize": "Ctrl-I"
   },
   "labels_anchors": false,
   "latex_user_defs": false,
   "report_style_numbering": false,
   "user_envs_cfg": false
  },
  "vscode": {
   "interpreter": {
    "hash": "85471ad55176ca86192ed6be6d105faaef73891404cad6bd910e89e8513744d9"
   }
  },
  "widgets": {
   "application/vnd.jupyter.widget-state+json": {
    "state": {
     "0187e7214d8a445dbb5c831f13f34dd3": {
      "model_module": "@jupyter-widgets/base",
      "model_module_version": "1.2.0",
      "model_name": "LayoutModel",
      "state": {}
     },
     "08f445fa1f7a42dab8956fa6ca209e16": {
      "model_module": "@jupyter-widgets/base",
      "model_module_version": "1.2.0",
      "model_name": "LayoutModel",
      "state": {}
     },
     "0953d24691094e3d9b652d497901a09a": {
      "model_module": "@jupyter-widgets/controls",
      "model_module_version": "1.5.0",
      "model_name": "SliderStyleModel",
      "state": {
       "description_width": "initial"
      }
     },
     "0bb275f5ec1542b5ae0ef636577f1b72": {
      "model_module": "@jupyter-widgets/controls",
      "model_module_version": "1.5.0",
      "model_name": "DescriptionStyleModel",
      "state": {
       "description_width": ""
      }
     },
     "100c0581cfc747c8af541fc9d5145845": {
      "model_module": "@jupyter-widgets/controls",
      "model_module_version": "1.5.0",
      "model_name": "DropdownModel",
      "state": {
       "_options_labels": [
        "No alternate routes",
        "1 alternate route",
        "2 alternate routes"
       ],
       "description": "4: Alt. Routes ",
       "index": null,
       "layout": "IPY_MODEL_7f4e913978bd4d6f9657243f779f9850",
       "style": "IPY_MODEL_58db643065bc4aa09ff04267189c6b52"
      }
     },
     "1087ad9b423d40ff9b9d0d0a4b24df42": {
      "model_module": "@jupyter-widgets/controls",
      "model_module_version": "1.5.0",
      "model_name": "SliderStyleModel",
      "state": {
       "description_width": "initial"
      }
     },
     "22f1b77ee9c1494d92078b1300a98833": {
      "model_module": "@jupyter-widgets/controls",
      "model_module_version": "1.5.0",
      "model_name": "FloatSliderModel",
      "state": {
       "description": "t_cutoff",
       "layout": "IPY_MODEL_9b82df908c8b40248e3f065ede04b43b",
       "max": 45,
       "min": 20,
       "step": 2.5,
       "style": "IPY_MODEL_3573b71722c74a3c87daec00c719e7b7",
       "value": 32.5
      }
     },
     "23505dba595b426a86b5df0c759e9d3a": {
      "model_module": "@jupyter-widgets/controls",
      "model_module_version": "1.5.0",
      "model_name": "SliderStyleModel",
      "state": {
       "description_width": "initial"
      }
     },
     "23783a41b3db4b2095ac7bcab87a74ae": {
      "model_module": "@jupyter-widgets/base",
      "model_module_version": "1.2.0",
      "model_name": "LayoutModel",
      "state": {}
     },
     "2551df80a02445859a0ccd6fc548693a": {
      "model_module": "@jupyter-widgets/base",
      "model_module_version": "1.2.0",
      "model_name": "LayoutModel",
      "state": {}
     },
     "26045de01f29405180b7e1b1434ce181": {
      "model_module": "@jupyter-widgets/controls",
      "model_module_version": "1.5.0",
      "model_name": "SliderStyleModel",
      "state": {
       "description_width": "initial"
      }
     },
     "26c9d8ccf54242c0b94fb533b091b19d": {
      "model_module": "@jupyter-widgets/base",
      "model_module_version": "1.2.0",
      "model_name": "LayoutModel",
      "state": {}
     },
     "29b615e502b74b62a274b74c7ca390c5": {
      "model_module": "@jupyter-widgets/base",
      "model_module_version": "1.2.0",
      "model_name": "LayoutModel",
      "state": {}
     },
     "2cce8708af1d4a05a0524a12ed2132ad": {
      "model_module": "@jupyter-widgets/controls",
      "model_module_version": "1.5.0",
      "model_name": "FloatSliderModel",
      "state": {
       "description": "7: Modal Shift, Trucks",
       "layout": "IPY_MODEL_b0a6b79bf7bc49489632e3dc04c373fb",
       "max": 20,
       "step": 4,
       "style": "IPY_MODEL_869499b6fbea4715b4fb5a8a63384f5c"
      }
     },
     "2d4a20417d044afcaf61f059716e5ebc": {
      "model_module": "@jupyter-widgets/controls",
      "model_module_version": "1.5.0",
      "model_name": "SliderStyleModel",
      "state": {
       "description_width": ""
      }
     },
     "3385de2b8e114324919ed816877addf9": {
      "model_module": "@jupyter-widgets/output",
      "model_module_version": "1.0.0",
      "model_name": "OutputModel",
      "state": {
       "layout": "IPY_MODEL_8ec2f013205f4c4797cb03608de966e9",
       "outputs": [
        {
         "data": {
          "image/png": "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\n",
          "text/plain": "<Figure size 640x480 with 1 Axes>"
         },
         "metadata": {},
         "output_type": "display_data"
        }
       ]
      }
     },
     "3573b71722c74a3c87daec00c719e7b7": {
      "model_module": "@jupyter-widgets/controls",
      "model_module_version": "1.5.0",
      "model_name": "SliderStyleModel",
      "state": {
       "description_width": ""
      }
     },
     "38cfb9ece79a4347a7bf1842d6ea3932": {
      "model_module": "@jupyter-widgets/base",
      "model_module_version": "1.2.0",
      "model_name": "LayoutModel",
      "state": {}
     },
     "4542024c6c2b478eaef6d5ff81808e34": {
      "model_module": "@jupyter-widgets/controls",
      "model_module_version": "1.5.0",
      "model_name": "DropdownModel",
      "state": {
       "_options_labels": [
        "No alternate routes",
        "1 alternate route",
        "2 alternate routes"
       ],
       "description": "4: Alt. Routes ",
       "index": null,
       "layout": "IPY_MODEL_eee3ad0fd45c47d5ab47454238d366a2",
       "style": "IPY_MODEL_7f14219ee396472a8558de07bd7404e3"
      }
     },
     "49e2865e48e44c7d88ea961604260cbf": {
      "model_module": "@jupyter-widgets/controls",
      "model_module_version": "1.5.0",
      "model_name": "ToggleButtonsStyleModel",
      "state": {
       "button_width": "",
       "description_width": ""
      }
     },
     "4a4cb1653cd14b8ba63f5ce8b294857f": {
      "model_module": "@jupyter-widgets/base",
      "model_module_version": "1.2.0",
      "model_name": "LayoutModel",
      "state": {}
     },
     "4c76dbfaddda4c84888c273562e48074": {
      "model_module": "@jupyter-widgets/base",
      "model_module_version": "1.2.0",
      "model_name": "LayoutModel",
      "state": {}
     },
     "4cfc18f404d74f96a0f52738322a7e45": {
      "model_module": "@jupyter-widgets/controls",
      "model_module_version": "1.5.0",
      "model_name": "FloatSliderModel",
      "state": {
       "description": "3: Speed",
       "layout": "IPY_MODEL_503da8f079f941bc88d25fc2dc55a03c",
       "max": 170,
       "min": 1,
       "step": 10,
       "style": "IPY_MODEL_0953d24691094e3d9b652d497901a09a",
       "value": 130
      }
     },
     "4fefe5bdbf3f4be8bf2f032fddb4b8f7": {
      "model_module": "@jupyter-widgets/output",
      "model_module_version": "1.0.0",
      "model_name": "OutputModel",
      "state": {
       "layout": "IPY_MODEL_853ac92d93bf4f1386363ef9d907c589",
       "outputs": [
        {
         "data": {
          "image/png": "iVBORw0KGgoAAAANSUhEUgAAAjMAAAG2CAYAAACKxwc0AAAAOXRFWHRTb2Z0d2FyZQBNYXRwbG90bGliIHZlcnNpb24zLjUuMiwgaHR0cHM6Ly9tYXRwbG90bGliLm9yZy8qNh9FAAAACXBIWXMAAA9hAAAPYQGoP6dpAABRVElEQVR4nO3deVxU5f4H8M+IMLK7AoMgooIruGGI9hNc0cxQyxVTtGuZmltdDU3FVEi7mnYtMyvUysCuVqam0C1w31CvBIaoqOgFSUUQgUHg+f1xLiMj2wyCZwY/79frec2cZc75zomaT895zjkKIYQAERERkZGqJ3cBRERERE+CYYaIiIiMGsMMERERGTWGGSIiIjJqDDNERERk1BhmiIiIyKgxzBAREZFRY5ghIiIio8YwQ0REREaNYYaIiIiMmuxh5ubNm5gwYQKaNGkCCwsLdOnSBXFxcZrlQgiEhITA0dER5ubm8PPzQ0JCgowVExERkSGRNcxkZmaid+/eMDU1xS+//ILExESsWbMGDRs21KyzevVqrF27Fhs2bMCpU6fg4OCAgQMH4v79+/IVTkRERAZDIeeDJt99910cOXIEhw4dKne5EAKOjo6YM2cOFixYAABQq9Wwt7fHqlWr8MYbbzzNcomIiMgAyRpmOnToAH9/f9y4cQOxsbFo3rw5pk+fjqlTpwIArly5gtatW+PMmTPo2rWr5nMBAQFo2LAhtm7dWmabarUaarVaM11cXIy7d++iSZMmUCgUtf+liIiI6IkJIXD//n04OjqiXr0qTiQJGSmVSqFUKkVwcLA4c+aM+Oyzz0SDBg3E1q1bhRBCHDlyRAAQN2/e1Prc1KlTxaBBg8rd5tKlSwUANjY2NjY2tjrQUlNTq8wT9SGj4uJieHl5ITQ0FADQtWtXJCQkYOPGjZg4caJmvcd7VIQQFfayBAcHY968eZrprKwstGjRAqmpqbCxsamFb0FEREQ1LTs7G87OzrC2tq5yXVnDjEqlQocOHbTmtW/fHjt37gQAODg4AADS09OhUqk062RkZMDe3r7cbSqVSiiVyjLzbWxsGGaIiIiMjC5DRGS9mql3795ISkrSmnfx4kW4uLgAAFxdXeHg4IDo6GjN8oKCAsTGxqJXr15PtVYiIiIyTLL2zMydOxe9evVCaGgoRo8ejZMnT+Lzzz/H559/DkBKY3PmzEFoaCjc3Nzg5uaG0NBQWFhYYPz48XKWTkRERAZC1jDTo0cP/PDDDwgODsb7778PV1dXrFu3DoGBgZp15s+fj7y8PEyfPh2ZmZnw9vZGVFSUTufQiIiIqO6T9dLspyE7Oxu2trbIysrimBkiqtOKiorw8OFDucsg0ompqSlMTEwqXK7P77esPTNERPTkhBBIT0/HvXv35C6FSC8NGzaEg4PDE98HjmGGiMjIlQQZOzs7WFhY8AahZPCEEMjNzUVGRgYAaF2xXB0MM0RERqyoqEgTZJo0aSJ3OUQ6Mzc3ByDdbsXOzq7SU05Vkf2p2UREVH0lY2QsLCxkroRIfyV/t0861othhoioDuCpJTJGNfV3yzBDRERERo1hhoiI6jQ/Pz/MmTOnxrcbEhKCLl261Ph2AeC3335Du3btUFxcXGP7v3r1KhQKBc6dO/fkBeogPj4eTk5OePDgQa3vi2GGiIhkERQUBIVCgWnTppVZNn36dCgUCgQFBem8vZiYGCgUCoO5RP0///kPxo0bB2dnZ5ibm6N9+/ZYv369Tp+dP38+Fi1ahHr1jPdn2sPDA8899xw++uijWt+X8R4lIiIyes7OzoiIiEBeXp5mXn5+Pr777ju0aNFCxsqeXFxcHJo1a4ZvvvkGCQkJWLRoEYKDg7Fhw4ZKP3f06FEkJydj1KhRT6nS2jN58mRs3LgRRUVFtbofhhkiIpJNt27d0KJFC+zatUszb9euXXB2dkbXrl211hVCYPXq1WjVqhXMzc3RuXNn/Otf/wIgnULp27cvAKBRo0ZlenWKi4sxf/58NG7cGA4ODggJCdHa9vXr1xEQEAArKyvY2Nhg9OjRuHXrltY6H3zwAezt7WFtbY3XXnsN+fn5lX63KVOm4OOPP4avry9atWqFCRMmYPLkyVrftTwREREYNGgQGjRooPf+w8PD0b59ezRo0ADt2rXDp59+WuF+ioqK8Nprr8HV1RXm5uZo27atVs/RwYMHYWpqivT0dK3Pvf322+jTpw8A4Nq1axg2bBgaNWoES0tLdOzYEfv27dOs6+/vjzt37iA2NrbS7/ykGGaIiOoaIYAHD+Rp1XhCzuTJkxEeHq6Z/uqrrzBlypQy67333nsIDw/Hxo0bkZCQgLlz52LChAmIjY2Fs7Mzdu7cCQBISkpCWlqa1g/z1q1bYWlpiRMnTmD16tV4//33ER0d/b/DJTB8+HDcvXsXsbGxiI6OxuXLlzFmzBjN53fs2IGlS5di5cqVOH36NFQqVaVBoSJZWVlo3LhxpescPHgQXl5eWvN02f/mzZuxaNEirFy5EhcuXEBoaCgWL16MrVu3lruf4uJiODk5YceOHUhMTMSSJUuwcOFC7NixAwDQp08ftGrVCl9//bXmM4WFhfjmm28wefJkAMCMGTOgVqtx8OBBxMfHY9WqVbCystKsb2Zmhs6dO+PQoUO6H6TqEHVcVlaWACCysrLkLoWIqMbl5eWJxMREkZeX92hmTo4QUqx4+i0nR+faJ02aJAICAsRff/0llEqlSElJEVevXhUNGjQQf/31lwgICBCTJk3631fKEQ0aNBBHjx7V2sZrr70mxo0bJ4QQ4vfffxcARGZmptY6vr6+4vnnn9ea16NHD7FgwQIhhBBRUVHCxMREXL9+XbM8ISFBABAnT54UQgjh4+Mjpk2bprUNb29v0blzZ52/79GjR4WpqamIioqqdD1bW1uxbds2rXm67N/Z2Vls375da53ly5cLHx8fIYQQKSkpAoA4e/ZshfuePn26ePnllzXTq1atEu3bt9dM//jjj8LKykrk/O+fs4eHhwgJCan0+4wYMUIEBQWVu6zcv9//0ef3mz0zREQkq6ZNm2Lo0KHYunUrwsPDMXToUDRt2lRrncTEROTn52PgwIGwsrLStG3btuHy5ctV7sPT01NrWqVSaW6lf+HCBTg7O8PZ2VmzvEOHDmjYsCEuXLigWcfHx0drG49PVyYhIQEBAQFYsmQJBg4cWOm6eXl5ZU4xVbX/v/76C6mpqXjttde0js+KFSsqPT6fffYZvLy80KxZM1hZWWHz5s24fv26ZnlQUBAuXbqE48ePA5B6zUaPHg1LS0sAwKxZs7BixQr07t0bS5cuxfnz58vsw9zcHLm5uZV+5yfFxxkQEdU1FhZATo58+66GKVOmYObMmQCATz75pMzykkuU9+7di+bNm2stUyqVVW7f1NRUa1qhUGi2KYQo9+ZtFc3XV2JiIvr164epU6fivffeq3L9pk2bIjMzU699lHyXzZs3w9vbW2tZRY8J2LFjB+bOnYs1a9bAx8cH1tbW+PDDD3HixAnNOnZ2dhg2bBjCw8PRqlUr7Nu3DzExMZrlf/vb3+Dv74+9e/ciKioKYWFhWLNmDd566y3NOnfv3kXr1q31+j76YpghIqprFArgf//nbCwGDx6MgoICANKg0cd16NABSqUS169fh6+vb7nbMDMzAwC9r5zp0KEDrl+/jtTUVE3vTGJiIrKystC+fXsAQPv27XH8+HFMnDhR87mS3orKJCQkoF+/fpg0aRJWrlypUz1du3ZFYmKi1ryq9m9vb4/mzZvjypUrCAwM1Gk/hw4dQq9evTB9+nTNvPJ6cf72t79h7NixcHJyQuvWrdG7d2+t5c7Ozpg2bRqmTZuG4OBgbN68WSvM/PHHH3jllVd0qqm6GGaIiEh2JiYmmlM65fUkWFtb45133sHcuXNRXFyM559/HtnZ2Th69CisrKwwadIkuLi4QKFQYM+ePXjhhRdgbm6uNRi1IgMGDICnpycCAwOxbt06FBYWYvr06fD19dUMxJ09ezYmTZoELy8vPP/88/j222+RkJCAVq1aVbjdhIQE9O3bF4MGDcK8efM0VwWZmJigWbNmFX7O39+/zKBdXfYfEhKCWbNmwcbGBkOGDIFarcbp06eRmZmJefPmldlPmzZtsG3bNhw4cACurq74+uuvcerUKbi6upapx9bWFitWrMD777+vtWzOnDkYMmQI3N3dkZmZid9++00TAAHpKrObN29iwIABFX7fmsAxM0REZBBsbGxgY2NT4fLly5djyZIlCAsLQ/v27eHv74+ff/5Z8+PbvHlzLFu2DO+++y7s7e01p62qolAo8OOPP6JRo0bo06cPBgwYgFatWiEyMlKzzpgxY7BkyRIsWLAA3bt3x7Vr1/Dmm29Wut3vv/8ef/31F7799luoVCpN69GjR6WfmzBhAhITE5GUlKTX/v/2t7/hiy++wJYtW+Dh4QFfX19s2bKlTDgpMW3aNIwcORJjxoyBt7c37ty5o9VLU6JevXoICgpCUVGRVs8QIPWCzZgxA+3bt8fgwYPRtm1brausvvvuOwwaNAguLi6VfucnpRCiGtfRGZHs7GzY2toiKyur0n9JiIiMUX5+PlJSUuDq6lpm0CgZr/nz5yMrKwubNm2SuxQAwNSpU3Hr1i3s3r1b58+o1Wq4ubnhu+++K3NqqkRlf7/6/H6zZ4aIiMjALFq0CC4uLrV+59yqZGVl4ddff8W3336rNQ5GF9euXcOiRYsqDDI1iWNmiIiIDIytrS0WLlwodxkICAjAyZMn8cYbb1R5Sfnj3N3d4e7uXkuVaWOYISIionKVvgzbkPE0ExERERk1hhkiojqgjl/LQXVUTf3dMswQERmxkjvb1vbt4olqQ8nf7eN3aNYXx8wQERkxExMTNGzYUPOcIQsLixq5BT9RbRJCIDc3FxkZGWjYsGGFj1zQFcMMEZGRc3BwAABNoCEyFg0bNtT8/T4JhhkiIiOnUCigUqlgZ2eHhw8fyl0OkU5MTU2fuEemBMMMEVEdYWJiUmM/DkTGhAOAiYiIyKgxzBAREZFRY5ghIiIio8YwQ0REREaNYYaIiIiMGsMMERERGTWGGSIiIjJqsoaZkJAQKBQKrVb6ToBBQUFllvfs2VPGiomIiMjQyH7TvI4dO+LXX3/VTD9+w6fBgwcjPDxcM21mZvbUaiMiIiLDJ3uYqV+/fqXPZVAqlTXy3AYiIiKqm2QfM5OcnAxHR0e4urpi7NixuHLlitbymJgY2NnZwd3dHVOnTq3yQWpqtRrZ2dlajYiIiOouhRBCyLXzX375Bbm5uXB3d8etW7ewYsUK/Pnnn0hISECTJk0QGRkJKysruLi4ICUlBYsXL0ZhYSHi4uKgVCrL3WZISAiWLVtWZn5WVhZsbGxq+ysRERFRDcjOzoatra1Ov9+yhpnHPXjwAK1bt8b8+fMxb968MsvT0tLg4uKCiIgIjBw5stxtqNVqqNVqzXR2djacnZ0ZZoiIiIyIPmFG9jEzpVlaWsLDwwPJycnlLlepVHBxcalwOSCNsamo14aIiIjqHtnHzJSmVqtx4cIFqFSqcpffuXMHqampFS4nIiKiZ4+sYeadd95BbGwsUlJScOLECbzyyivIzs7GpEmTkJOTg3feeQfHjh3D1atXERMTg2HDhqFp06YYMWKEnGUTERGRAZH1NNONGzcwbtw43L59G82aNUPPnj1x/PhxuLi4IC8vD/Hx8di2bRvu3bsHlUqFvn37IjIyEtbW1nKWTURERAbEoAYA1wZ9BhARERGRYdDn99ugxswQERER6YthhoiIiIwawwwREREZNYYZIiIiMmoMM0RERGTUGGaIiIjIqDHMEBERkVFjmCEiIiKjxjBDRERERo1hhoiIiIwawwwREREZNYYZIiIiMmoMM0RERGTUGGaIiIjIqDHMEBERkVFjmCEiIiKjxjBDRERERo1hhoiIiIwawwwREREZNYYZIiIiMmoMM0RERGTUGGaIiIjIqDHMEBERkVFjmCEiIiKjxjBDRERERo1hhoiIiIwawwwREREZNYYZIiIiMmoMM0RERGTUGGaIiIjIqDHMEBERkVFjmCEiIiKjxjBDRERERo1hhoiIiIwawwwREREZNVnDTEhICBQKhVZzcHDQLBdCICQkBI6OjjA3N4efnx8SEhJkrJiIiIgMjew9Mx07dkRaWpqmxcfHa5atXr0aa9euxYYNG3Dq1Ck4ODhg4MCBuH//vowVExERkSGRPczUr18fDg4OmtasWTMAUq/MunXrsGjRIowcORKdOnXC1q1bkZubi+3bt8tcNRERERkK2cNMcnIyHB0d4erqirFjx+LKlSsAgJSUFKSnp2PQoEGadZVKJXx9fXH06FG5yiUiIiIDU1/OnXt7e2Pbtm1wd3fHrVu3sGLFCvTq1QsJCQlIT08HANjb22t9xt7eHteuXatwm2q1Gmq1WjOdnZ1dO8UTERGRQZA1zAwZMkTz3sPDAz4+PmjdujW2bt2Knj17AgAUCoXWZ4QQZeaVFhYWhmXLltVOwURERGRwZD/NVJqlpSU8PDyQnJysuaqppIemREZGRpnemtKCg4ORlZWlaampqbVaMxEREcnLoMKMWq3GhQsXoFKp4OrqCgcHB0RHR2uWFxQUIDY2Fr169apwG0qlEjY2NlqNiIiI6i5ZTzO98847GDZsGFq0aIGMjAysWLEC2dnZmDRpEhQKBebMmYPQ0FC4ubnBzc0NoaGhsLCwwPjx4+Usm4iIiAyIrGHmxo0bGDduHG7fvo1mzZqhZ8+eOH78OFxcXAAA8+fPR15eHqZPn47MzEx4e3sjKioK1tbWcpZNREREBkQhhBByF1GbsrOzYWtri6ysLJ5yIiIiMhL6/H4b1JgZIiIiIn0xzBAREZFRY5ghIiIio8YwQ0REREaNYYaIiIiMGsMMERERGTWGGSIiIjJqDDNERERk1BhmiIiIyKgxzBAREZFRY5ghIiIio8YwQ0REREaNYYaIiIiMGsMMERERGTWGGSIiIjJqDDNERERk1BhmiIiIyKgxzBAREZFRY5ghIiIio8YwQ0REREaNYYaIiIiMGsMMERERGTWGGSIiIjJqDDNERERk1BhmiIiIyKgxzBAREZFRY5ghIiIio1Zfl5U+/vhjvTc8efJkWFtb6/05IiIiIn0ohBCiqpXq1asHJycnmJiY6LTR1NRUXLx4Ea1atXriAp9UdnY2bG1tkZWVBRsbG7nLISIiIh3o8/utU88MAJw+fRp2dnY6rcseGSIiInpadBozs3TpUlhZWem80YULF6Jx48bVLoqIiIhIVzqdZjJmPM1ERERkfPT5/ebVTERERGTU9A4zt27dwquvvgpHR0fUr18fJiYmWo2IiIjoadJ5AHCJoKAgXL9+HYsXL4ZKpYJCoaiNuoiIiIh0oneYOXz4MA4dOoQuXbrUQjlERERE+tH7NJOzszNqY8xwWFgYFAoF5syZo5kXFBQEhUKh1Xr27Fnj+yYiIiLjpXeYWbduHd59911cvXq1xoo4deoUPv/8c3h6epZZNnjwYKSlpWnavn37amy/REREZPz0Ps00ZswY5ObmonXr1rCwsICpqanW8rt37+q1vZycHAQGBmLz5s1YsWJFmeVKpRIODg76lklERETPCL3DzLp162q0gBkzZmDo0KEYMGBAuWEmJiYGdnZ2aNiwIXx9fbFy5cpK70SsVquhVqs109nZ2TVaLxERERkWvcPMpEmTamznERERiIuLw+nTp8tdPmTIEIwaNQouLi5ISUnB4sWL0a9fP8TFxUGpVJb7mbCwMCxbtqzGaiQiIiLDptMdgLOzszV336uqp0PXu+ympqbCy8sLUVFR6Ny5MwDAz88PXbp0qbD3Jy0tDS4uLoiIiMDIkSPLXae8nhlnZ2feAZiIiMiI1PiDJhs1aoS0tDTN6Z7y7i0jhIBCoUBRUZFORcbFxSEjIwPdu3fXzCsqKsLBgwexYcMGqNXqMjfhU6lUcHFxQXJycoXbVSqVFfbaEBERUd2jU5j57bffNA+O/P3332tkx/3790d8fLzWvMmTJ6Ndu3ZYsGBBuXcTvnPnDlJTU6FSqWqkBiIiIjJ+OoUZX1/fct8/CWtra3Tq1ElrnqWlJZo0aYJOnTohJycHISEhePnll6FSqXD16lUsXLgQTZs2xYgRI2qkBiIiIjJ+eg8ABoD8/HycP38eGRkZKC4u1lr20ksv1UhhJiYmiI+Px7Zt23Dv3j2oVCr07dsXkZGRsLa2rpF9EBERkfHTaQBwafv378fEiRNx+/btshvTY8zM06LPACIiIiIyDPr8fut9B+CZM2di1KhRSEtLQ3FxsVYztCBDREREdZ/eYSYjIwPz5s2Dvb19bdRDREREpBe9w8wrr7yCmJiYWiiFiIiISH96j5nJzc3FqFGj0KxZM3h4eJR5NtOsWbNqtMAnxTEzRERExqfGb5pX2vbt23HgwAGYm5sjJiZG6wZ6CoXC4MIMERER1W16h5n33nsP77//Pt59913Uq6f3WSoiIiKiGqV3GikoKMCYMWMYZIiIiMgg6J1IJk2ahMjIyNqohYiIiEhvep9mKioqwurVq3HgwAF4enqWGQC8du3aGiuOiIiIqCp6h5n4+Hh07doVAPDHH39oLSvvadpEREREtUnvMFNTT80mIiIiqgkcxUtERERGTacwM3LkSGRnZ+u80cDAQGRkZFS7KCIiIiJd6XQHYBMTE1y8eBHNmjWrcoNCCDg7O+PcuXNo1apVjRT5JHgHYCIiIuNT43cAFkLA3d29RoojIiIiqkk6hZnqDPpt3ry53p8hIiIi0pdOYcbX17e26yAiIiKqFl7NREREREaNYYaIiIiMGsMMERERGTWGGSIiIjJq1QozhYWF+PXXX7Fp0ybcv38fAPDf//4XOTk5NVocERERUVX0fjbTtWvXMHjwYFy/fh1qtRoDBw6EtbU1Vq9ejfz8fHz22We1UScRERFRufTumZk9eza8vLyQmZkJc3NzzfwRI0bg3//+d40WR0RERFQVvXtmDh8+jCNHjsDMzExrvouLC27evFljhRERERHpQu+emeLiYhQVFZWZf+PGDVhbW9dIUURERES60jvMDBw4EOvWrdNMKxQK5OTkYOnSpXjhhRdqsjYiIiKiKun01OzS/vvf/6Jv374wMTFBcnIyvLy8kJycjKZNm+LgwYOws7OrrVqrhU/NJiIiMj41/tTs0hwdHXHu3Dl89913OHPmDIqLi/Haa68hMDBQa0AwERER0dOgd8+MsWHPDBERkfGp1Z4ZALh58yaOHDmCjIwMFBcXay2bNWtWdTZJREREVC16h5nw8HBMmzYNZmZmaNKkCRQKhWaZQqFgmCEiIqKnSu/TTM7Ozpg2bRqCg4NRr57hP9qJp5mIiIiMjz6/33qnkdzcXIwdO9YoggwRERHVfXonktdeew3ff/99bdRCREREpDe9TzMVFRXhxRdfRF5eHjw8PGBqaqq1fO3atdUqJCwsDAsXLsTs2bM1N+UTQmDZsmX4/PPPkZmZCW9vb3zyySfo2LGjztvlaSYiIiLjU6tXM4WGhuLAgQNo27YtAJQZAFwdp06dwueffw5PT0+t+atXr8batWuxZcsWuLu7Y8WKFRg4cCCSkpL46AQiIiICUI0ws3btWnz11VcICgqqkQJycnIQGBiIzZs3Y8WKFZr5QgisW7cOixYtwsiRIwEAW7duhb29PbZv34433nijRvZPRERExk3vMTNKpRK9e/eusQJmzJiBoUOHYsCAAVrzU1JSkJ6ejkGDBmnt29fXF0ePHq1we2q1GtnZ2VqNiIiI6i69w8zs2bPxz3/+s0Z2HhERgbi4OISFhZVZlp6eDgCwt7fXmm9vb69ZVp6wsDDY2tpqmrOzc43USkRERIZJ79NMJ0+exG+//YY9e/agY8eOZQYA79q1S6ftpKamYvbs2YiKikKDBg0qXO/xcThCiErH5gQHB2PevHma6ezsbAYaIiKiOkzvMNOwYUPNGJYnERcXh4yMDHTv3l0zr6ioCAcPHsSGDRuQlJQEQOqhUalUmnUyMjLK9NaUplQqoVQqn7g+IiIiMg7VepxBTejfvz/i4+O15k2ePBnt2rXDggUL0KpVKzg4OCA6Ohpdu3YFABQUFCA2NharVq2qkRqIiIjI+FXrQZM1wdraGp06ddKaZ2lpiSZNmmjmz5kzB6GhoXBzc4ObmxtCQ0NhYWGB8ePHy1EyERERGSCdwky3bt3w73//G40aNULXrl0rHbNy5syZGitu/vz5yMvLw/Tp0zU3zYuKiuI9ZoiIiEhDpzATEBCgGYcyfPjwWismJiZGa1qhUCAkJAQhISG1tk8iIiIybjo/zmDKlClYv3690fWK8HEGRERExqdWnpq9detW5OXlPXFxRERERDVJ5zCj5/MoiYiIiJ4Kve4AXN0HSRIRERHVFr0uzXZ3d68y0Ny9e/eJCiIiIiLSh15hZtmyZbC1ta2tWoiIiIj0pleYGTt2LOzs7GqrFiIiIiK96TxmhuNliIiIyBDxaiYiIiIyajqfZiouLq7NOoiIiIiqRa9Ls4mIiIgMDcMMERERGTWGGSIiIjJqDDNERERk1HQaALx7926dN/jSSy9VuxgiIiIifekUZoYPH67TxhQKBYqKip6kHiIiIiK96BRmeFk2ERERGaonGjOTn59fU3UQERERVYveYaaoqAjLly9H8+bNYWVlhStXrgAAFi9ejC+//LLGCyQiIiKqjN5hZuXKldiyZQtWr14NMzMzzXwPDw988cUXNVocERERUVX0DjPbtm3D559/jsDAQJiYmGjme3p64s8//6zR4oiIiIiqoneYuXnzJtq0aVNmfnFxMR4+fFgjRRERERHpSu8w07FjRxw6dKjM/O+//x5du3atkaKIiIiIdKXzU7NLLF26FK+++ipu3ryJ4uJi7Nq1C0lJSdi2bRv27NlTGzUSERFRTRECePjwUSsoqHy6slZYKL126QI895xsX0nvMDNs2DBERkYiNDQUCoUCS5YsQbdu3fDzzz9j4MCBtVEjERGR4RICKCqSQkBBAaBWl//6eKtofkmY0GVZVe8fDycFBVKtNW3hQuMKMwDg7+8Pf3//mq6FiIhIN8XFUhjIz5daee8rmvf4+4pafv6j0FHSSk+XDiTGfnPZ+vUBU9Pqt3bt5C1f3w9MnjwZEyZMQL9+/aBQKGqjJiIiMhZCSD/meXlAbq70+vj7kpafX/F0yfuS8FHedOlWUCD3N6+cmRmgVEqvJa1kWqmUAsDjy8trpdcrCQ6lp0u/ll6n9PTj88sLI0b+e653mLlz5w6GDh2KJk2aYOzYsZgwYQIH/hIRGSIhpEDw4MGjlptb9n1uru6tJKiUfi+EvN9ToQDMzaUf+QYNHr2Wfq9UPmqPT1enPR5WSs+vA+HA2CiE0P+v8N69e9ixYwe2b9+OQ4cOoW3btpgwYQLGjx+Pli1b1kKZ1ZednQ1bW1tkZWXBxsZG7nKIiMpXUADk5Ejt/v3y31fUHjx49FrScnKeftCoVw+wsJCCRVWtQYOy7x9/VSofTZcOJ6XnlfRyMDzUOfr8flcrzJR248YNfPfdd/jqq6+QnJyMwsLCJ9lcjWOYIaJaU1QkhYasLCA7W2ol7+/ffzSvpJXMK/1a0mr7tEmDBoClpdQsLMq+L/1a0szNtadLzyvvlaGCapA+v9/VGgBc4uHDhzh9+jROnDiBq1evwt7e/kk2R0T0dBUUAJmZwL17j14fb1lZZV9LQsv9+zVfk1IJWFsDVlZSK/2+ZNrS8tF0yfuScFLSSs+zsABK3bGdqK6pVpj5/fffsX37duzcuRNFRUUYOXIkfv75Z/Tr16+m6yMiqpwQUri4exe4c0dqmZnSdOmWmVm25ebWTA1KJWBj86jZ2mpPW1tLrfT7ipqpac3URPQM0TvMODk54c6dO/D398emTZswbNgwNGjQoDZqI6JnjRDSaZu//pLa7dva7a+/HgWW27el17t3pRt3PQlbW6BRI6BhQ+1ma1v29fFmYyOdwiEi2egdZpYsWYJRo0ahUaNGtVEPEdU1hYVSCLl1S7tlZJRtf/0l3bejOszNgSZNgMaNpddGjaT3jRs/et+oUdlmY8NTMERGTu8w8/rrr9dGHURkbHJzgf/+V2ppaY9aerp2++sv/a+oadAAaNbsUWvaVGpNmmi/L93MzWvnexKRwavWmJlTp07h+++/x/Xr11Hw2Aj8Xbt26bydjRs3YuPGjbh69SoA6SGWS5YswZAhQwAAQUFB2Lp1q9ZnvL29cfz48eqUTUS6EEI6fXPjRtl28+ajAHPvnu7brFdPCiX29oCdnfRa8r6klQ4vlpa8KoaIdKZ3mImIiMDEiRMxaNAgREdHY9CgQUhOTkZ6ejpGjBih17acnJzwwQcfoE2bNgCArVu3IiAgAGfPnkXHjh0BAIMHD0Z4eLjmM2ZmZvqWTESl5ecD169L7dq1R6+pqVK7cUO6GZouzM0BR0dApSrbHBykplJJPSc8lUNEtUTvMBMaGoqPPvoIM2bMgLW1NdavXw9XV1e88cYbUKlUem1r2LBhWtMrV67Exo0bcfz4cU2YUSqVcHBw0LdMomdXYaEUSK5ckVpKitSuXpVaWppu27GzA5ydgebNAScn6bWkOTpKrzY27EEhItnpHWYuX76MoUOHApCCxoMHD6BQKDB37lz069cPy5Ytq1YhRUVF+P777/HgwQP4+Pho5sfExMDOzg4NGzaEr68vVq5cCTs7uwq3o1aroS41gDA7O7ta9RAZtIICKaBcvAhcugRcvvzo9erVqq/usbAAXFyk1qKF9OrsLL13cpKaUvlUvgoR0ZPSO8w0btwY9/93o6jmzZvjjz/+gIeHB+7du4fcatyzIT4+Hj4+PsjPz4eVlRV++OEHdOjQAQAwZMgQjBo1Ci4uLkhJScHixYvRr18/xMXFQVnBf2jDwsKqHaiIDIoQ0lU/f/4JJCU9er14UQosRUUVf9bMDHB1BVq1kl5dXYGWLR+1Jk3Yo0JEdYbejzMYP348vLy8MG/ePKxcuRLr169HQEAAoqOj0a1bN70GAANAQUEBrl+/jnv37mHnzp344osvEBsbqwk0paWlpcHFxQUREREYOXJkudsrr2fG2dmZjzMgwyWEdFooMRFISJBeS1pWVsWfs7QE3Nyk1ro10KaN1Fq3lk4D1av39L4DEVENq9XHGWzYsAH5+fkAgODgYJiamuLw4cMYOXIkFi9erHexZmZmmgHAXl5eOHXqFNavX49NmzaVWVelUsHFxQXJyckVbk+pVFbYa0Mku5wc4Pz5Ry0+Hvjjj4qvDKpXT+pVaddOau7uQNu2UoBRqdi7QkQEPcNMYWEhfv75Z/j7+wMA6tWrh/nz52P+/Pk1VpAQQqtnpbQ7d+4gNTVV74HGRLL46y8gLk5q584B//mPNK6lvM5QExMpqHTsCHToIL22by+FFt5dloioUnqFmfr16+PNN9/EhQsXamTnCxcuxJAhQ+Ds7Iz79+8jIiICMTEx2L9/P3JychASEoKXX34ZKpUKV69excKFC9G0aVO9LwEnqnX37gGnTwMnTwKnTkkBJjW1/HWbNwc8PaXm4SG1tm054JaIqJr0Ps3k7e2Ns2fPwsXF5Yl3fuvWLbz66qtIS0uDra0tPD09sX//fgwcOBB5eXmIj4/Htm3bcO/ePahUKvTt2xeRkZGwtrZ+4n0TVVtxsTS25ehR4Ngx4MQJaXDu4xQKqbelWzepdekCdO4s3RSOiIhqjN5hZvr06Xj77bdx48YNdO/eHZaWllrLPT09dd7Wl19+WeEyc3NzHDhwQN/yiGpefr7U43LwIHD4MHD8ePkDc11dAW9voEcPwMtLCi8cdE5EVOt0vpppypQpWLduHRo2bFh2IwoFhBBQKBQoquxyURnoMxqaCID0oMOjR4HffwdiY6Wel8fHcVlaSsGlVy+gZ0/guefY40JEVIP0+f3WOcyYmJggLS0NeVXc5rwmTj/VJIYZqlJxsTQ499dfpXboUNnb+dvbA76+wPPPA717S+Nd6lfr0WZERKSDWrk0uyTzGFpYIaqWu3eB6Ghg3z7gwAHp5nSl2dsD/ftLAcbXVxr7wsugiYgMkl7/a6ngf8zJmF28CPz0E7B7t3Qaqbj40TIrK8DPDxgwQGodOjC8EBEZCb3CjLu7e5WB5u7du09UEFGNEUK6RHrnTuDHH8tecdSxIzBkiNSef156BAARERkdvcLMsmXLYGtrW1u1ED05IYCzZ4EdO6SWkvJoWf36QN++QEAAMGyY9FBFIiIyenqFmbFjx1b6xGoi2Vy5AnzzDfD119JddktYWAAvvgiMGCH1wDCMExHVOTqHGY6XIYOTlQV8/z2wbZt0BVIJc3Ng6FBg9Gjp1cJCvhqJiKjW6X01E5GshJAeF7BpExARAeTmSvMVCmng7sSJwPDh0oBeIiJ6JugcZopLX/lB9LTl5EinkTZtkh7aWKJ9eyAoCAgMlJ55REREzxze9YsMW2oq8M9/Aps3Sw9zBKQHMo4eDbzxhnQHXp4CJSJ6pjHMkGE6dQpYswb417+AkkdkuLkB06dLp5IaN5a3PiIiMhgMM2RYDh8Gli8HoqIezevbF5g3D3jhBaBePflqIyIig8QwQ/ITQnqo4/LlQEyMNM/EBBg/XgoxXbrIWR0RERk4hhmS16lTwPz5j0KMqSkweTLw7ruAq6uspRERkXFgmCF5XLoELFwo3ScGkAb1Tp0qBRtnZ3lrIyIio8IwQ0/X3bvA0qXAZ58BhYXSlUgTJwLvv8/HCxARUbUwzNDTUVwMbN0q9bzcvi3NGzwYWLUK8PSUtzYiIjJqDDNU+86fly6pPnJEmu7QAfj4Y6B/f3nrIiKiOoHXuVLtyc8H/v53oFs3KchYWgKrV0t38GWQISKiGsKeGaodp09LY2EuXJCmX3kF+OgjwMlJ3rqIiKjOYc8M1ayHD6UBvj17SkHGwQH4+WfpqiUGGSIiqgXsmaGak5QEjBsHnD0rTY8eDXz6KdCkibx1ERFRncaeGaoZO3cCPXpIQaZxYyAiAoiMZJAhIqJaxzBDT+bhQ+Cdd6QxMffvA336APHxwJgxcldGRETPCJ5moupLS5NCy6FD0vTf/w6EhgL1+WdFRERPD391qHrOngWGDpUCjY0NsGULMGKE3FUREdEziGGG9BcVBbz8MpCTA3TsCPzwA+DmJndVRET0jOKYGdLPli1Sj0xODtCvn3QzPAYZIiKSEcMM6UYIYPlyYPJk6QGRgYHAL78AtrZyV0ZERM84hhmqmhDA7NnAkiXS9LvvAtu2AWZm8tZFREQEjpmhqggBzJsH/POfgEIBbNggPTSSiIjIQDDMUMWEABYsANatk6Y3bwZee03WkoiIiB7H00xUPiGA994DPvxQmt64kUGGiIgMEsMMlW/ZMukGeIB0imnaNHnrISIiqoCsYWbjxo3w9PSEjY0NbGxs4OPjg19++UWzXAiBkJAQODo6wtzcHH5+fkhISJCx4mfEp59KYQYA1q4FZs6Utx4iIqJKyBpmnJyc8MEHH+D06dM4ffo0+vXrh4CAAE1gWb16NdauXYsNGzbg1KlTcHBwwMCBA3H//n05y67boqOBWbOk98uXA3PnylsPERFRFRRCCCF3EaU1btwYH374IaZMmQJHR0fMmTMHCxYsAACo1WrY29tj1apVeOONN3TaXnZ2NmxtbZGVlQUbG5vaLN34/fkn0LMnkJUFTJwo3SBPoZC7KiIiegbp8/ttMGNmioqKEBERgQcPHsDHxwcpKSlIT0/HoEGDNOsolUr4+vri6NGjFW5HrVYjOztbq5EObt8GXnxRCjK9ewOff84gQ0RERkH2MBMfHw8rKysolUpMmzYNP/zwAzp06ID09HQAgL29vdb69vb2mmXlCQsLg62traY5OzvXav11QkGB9Kyly5eBli2lZy0plXJXRUREpBPZw0zbtm1x7tw5HD9+HG+++SYmTZqExMREzXLFY70DQogy80oLDg5GVlaWpqWmptZa7XXGzJnAwYOAtTWwZw/QrJncFREREelM9pvmmZmZoU2bNgAALy8vnDp1CuvXr9eMk0lPT4dKpdKsn5GRUaa3pjSlUgklexV0t2OHdDM8hQKIjJSegk1ERGREZO+ZeZwQAmq1Gq6urnBwcEB0dLRmWUFBAWJjY9GrVy8ZK6xDUlOBkoHUwcHAkCHy1kNERFQNsvbMLFy4EEOGDIGzszPu37+PiIgIxMTEYP/+/VAoFJgzZw5CQ0Ph5uYGNzc3hIaGwsLCAuPHj5ez7LqhqAh49VXg3j2gRw8gJETuioiIiKpF1jBz69YtvPrqq0hLS4OtrS08PT2xf/9+DBw4EAAwf/585OXlYfr06cjMzIS3tzeioqJgbW0tZ9l1wz/+AcTGApaWwLffAqamcldERERULQZ3n5maxvvMlCMuTrqfTGEh8OWXwJQpcldERESkxSjvM0NPyYMHwPjxUpB5+WVg8mS5KyIiInoiDDPPmqVLgYsXgebNeWM8IiKqExhmniUXLgDr10vvN28GGjeWtx4iIqIawDDzrBBCeoBkYSHw0ku8DJuIiOoMhplnxa5dwK+/So8p+OgjuashIiKqMQwzz4LcXGDuXOn9ggVAq1by1kNERFSDGGaeBWFh0t1+W7SQwgwREVEdwjBT112+DHz4ofT+o48ACwt56yEiIqphDDN13dy5gFoNDBwIjBghdzVEREQ1jmGmLjt6FPj5Z6B+feDjj3lPGSIiqpMYZuqyFSuk16AgoF07WUshIiKqLQwzdVVcHPDLL0C9esC778pdDRERUa1hmKmrVq6UXsePB1q3lrcWIiKiWsQwUxf98Qfwww/SGJngYLmrISIiqlUMM3VRSa/Myy8DHTrIWwsREVEtY5ipa5KSgMhI6f2iRfLWQkRE9BQwzNQ1H3wgPVRy2DCgSxe5qyEiIqp1DDN1ydWrwNdfS+/ZK0NERM8Ihpm65B//AIqKpLv9envLXQ0REdFTwTBTV+TmPuqV+fvf5a2FiIjoKWKYqSv+9S8gOxtwdQX695e7GiIioqeGYaau+PJL6XXKFOmuv0RERM8I/urVBcnJwMGDUogJCpK7GiIioqeKYaYu+Oor6XXwYMDJSd5aiIiInjKGGWNXWAhs2SK9f+01WUshIiKSA8OMsdu3D0hPB5o1A158Ue5qiIiInjqGGWNXMvB30iTAzEzeWoiIiGTAMGPM0tKAvXul9zzFREREzyiGGWO2dat0x9/evYF27eSuhoiISBYMM8ZKiEdXMbFXhoiInmEMM8bq2DHp/jJWVsCoUXJXQ0REJBuGGWP100/Sa0CAFGiIiIieUQwzxmr3bun1pZfkrYOIiEhmDDPG6NIl4M8/gfr1AX9/uashIiKSFcOMMfr5Z+nV1xewtZW3FiIiIpnJGmbCwsLQo0cPWFtbw87ODsOHD0dSUpLWOkFBQVAoFFqtZ8+eMlVsIEpOMQ0bJm8dREREBkDWMBMbG4sZM2bg+PHjiI6ORmFhIQYNGoQHDx5orTd48GCkpaVp2r59+2Sq2ABkZgKHDknvGWaIiIhQX86d79+/X2s6PDwcdnZ2iIuLQ58+fTTzlUolHBwcnnZ5hmn/fulGeR07Aq1ayV0NERGR7AxqzExWVhYAoHHjxlrzY2JiYGdnB3d3d0ydOhUZGRlylGcYeIqJiIhIi0IIIeQuAgCEEAgICEBmZiYOlZxGARAZGQkrKyu4uLggJSUFixcvRmFhIeLi4qBUKstsR61WQ61Wa6azs7Ph7OyMrKws2NjYPJXvUmsePpSejp2VBRw5AvTqJXdFREREtSI7Oxu2trY6/X7LepqptJkzZ+L8+fM4fPiw1vwxY8Zo3nfq1AleXl5wcXHB3r17MXLkyDLbCQsLw7Jly2q9XlkcPiwFmaZNAW9vuashIiIyCAZxmumtt97C7t278fvvv8PJyanSdVUqFVxcXJCcnFzu8uDgYGRlZWlaampqbZQsj5JLsl98ETAxkbcWIiIiAyFrz4wQAm+99RZ++OEHxMTEwNXVtcrP3LlzB6mpqVCpVOUuVyqV5Z5+MnpCcLwMERFROWTtmZkxYwa++eYbbN++HdbW1khPT0d6ejry8vIAADk5OXjnnXdw7NgxXL16FTExMRg2bBiaNm2KESNGyFn60/fnn8Dly4CZGTBokNzVEBERGQxZe2Y2btwIAPDz89OaHx4ejqCgIJiYmCA+Ph7btm3DvXv3oFKp0LdvX0RGRsLa2lqGimVUcoqpb18+WJKIiKgU2U8zVcbc3BwHDhx4StUYuJIwwwdLEhERaTGIAcBUhbw84MQJ6T0fLElERKSFYcYYxMVJ95ixt+ddf4mIiB7DMGMMjh2TXnv1AhQKeWshIiIyMAwzxuDoUemVd/wlIiIqg2HG0AnBMENERFQJhhlDd+UKkJEh3V+mWze5qyEiIjI4DDOGrqRXpnt3oEEDeWshIiIyQAwzho6nmIiIiCrFMGPoGGaIiIgqxTBjyLKzgfh46b2Pj7y1EBERGSiGGUN24oR0NZOrK1DBU8KJiIiedQwzhoynmIiIiKrEMGPIGGaIiIiqxDBjqIqKgOPHpfcMM0RERBVimDFUiYnSAGArK6BTJ7mrISIiMlgMM4aq5BSTtzdQv768tRARERkwhhlDxfEyREREOmGYMVQMM0RERDphmDFEGRnApUvS+5495a2FiIjIwDHMGKJjx6TXjh2Bhg1lLYWIiMjQMcwYorg46dXbW946iIiIjADDjCFKTJReeUk2ERFRlRhmDNGFC9Jr+/by1kFERGQEGGYMzcOHwMWL0vsOHeSthYiIyAgwzBiay5eBwkLA0hJwdpa7GiIiIoPHMGNoSk4xtWsHKBTy1kJERGQEGGYMTcngX55iIiIi0gnDjKHh4F8iIiK9MMwYmpKeGYYZIiIinTDMGJLiYuDPP6X3PM1ERESkE4YZQ3L9OpCXB5iZAa1ayV0NERGRUWCYMSQlp5jc3YH69eWthYiIyEgwzBgSDv4lIiLSG8OMIeHgXyIiIr0xzBiSkp4ZDv4lIiLSGcOMoRCCp5mIiIiqQdYwExYWhh49esDa2hp2dnYYPnw4kpKStNYRQiAkJASOjo4wNzeHn58fEhISZKq4FqWnA/fuAfXqSQOAiYiISCeyhpnY2FjMmDEDx48fR3R0NAoLCzFo0CA8ePBAs87q1auxdu1abNiwAadOnYKDgwMGDhyI+/fvy1h5LSjplWnVCmjQQN5aiIiIjIis1//u379fazo8PBx2dnaIi4tDnz59IITAunXrsGjRIowcORIAsHXrVtjb22P79u1444035Ci7dnDwLxERUbUY1M1MsrKyAACNGzcGAKSkpCA9PR2DBg3SrKNUKuHr64ujR4+WG2bUajXUanWZbWZnZ9dm6U/uP/+RXlu1Agy9ViIiolpW8rsthKhyXYMJM0IIzJs3D88//zw6deoEAEhPTwcA2Nvba61rb2+Pa9eulbudsLAwLFu2rMx8Z2fnGq64lqxfLzUiIiLC/fv3YWtrW+k6BhNmZs6cifPnz+Pw4cNllikUCq1pIUSZeSWCg4Mxb948zXRxcTHu3r2LJk2aVPgZXWRnZ8PZ2RmpqamwsbGp9naeFTxe+uHx0g+Pl354vPTD46W72jxWQgjcv38fjo6OVa5rEGHmrbfewu7du3Hw4EE4OTlp5js4OACQemhUKpVmfkZGRpnemhJKpRJKpVJrXsOGDWusVhsbG/5x64HHSz88Xvrh8dIPj5d+eLx0V1vHqqoemRKyXs0khMDMmTOxa9cu/Pbbb3B1ddVa7urqCgcHB0RHR2vmFRQUIDY2Fr169Xra5RIREZEBkrVnZsaMGdi+fTt++uknWFtba8bI2NrawtzcHAqFAnPmzEFoaCjc3Nzg5uaG0NBQWFhYYPz48XKWTkRERAZC1jCzceNGAICfn5/W/PDwcAQFBQEA5s+fj7y8PEyfPh2ZmZnw9vZGVFQUrK2tn2qtSqUSS5cuLXMKi8rH46UfHi/98Hjph8dLPzxeujOUY6UQulzzRERERGSg+GwmIiIiMmoMM0RERGTUGGaIiIjIqDHMEBERkVFjmNHBp59+CldXVzRo0ADdu3fHoUOH5C7pqTh48CCGDRsGR0dHKBQK/Pjjj1rLhRAICQmBo6MjzM3N4efnh4SEBK111Go13nrrLTRt2hSWlpZ46aWXcOPGDa11MjMz8eqrr8LW1ha2trZ49dVXce/evVr+djUrLCwMPXr0gLW1Nezs7DB8+HAkJSVprcPj9cjGjRvh6empudGWj48PfvnlF81yHqvKhYWFaW5dUYLH7JGQkBAoFAqtVnITVoDHqjw3b97EhAkT0KRJE1hYWKBLly6Ii4vTLDf4YyaoUhEREcLU1FRs3rxZJCYmitmzZwtLS0tx7do1uUurdfv27ROLFi0SO3fuFADEDz/8oLX8gw8+ENbW1mLnzp0iPj5ejBkzRqhUKpGdna1ZZ9q0aaJ58+YiOjpanDlzRvTt21d07txZFBYWatYZPHiw6NSpkzh69Kg4evSo6NSpk3jxxRef1tesEf7+/iI8PFz88ccf4ty5c2Lo0KGiRYsWIicnR7MOj9cju3fvFnv37hVJSUkiKSlJLFy4UJiamoo//vhDCMFjVZmTJ0+Kli1bCk9PTzF79mzNfB6zR5YuXSo6duwo0tLSNC0jI0OznMdK2927d4WLi4sICgoSJ06cECkpKeLXX38Vly5d0qxj6MeMYaYKzz33nJg2bZrWvHbt2ol3331Xpork8XiYKS4uFg4ODuKDDz7QzMvPzxe2trbis88+E0IIce/ePWFqaioiIiI069y8eVPUq1dP7N+/XwghRGJiogAgjh8/rlnn2LFjAoD4888/a/lb1Z6MjAwBQMTGxgoheLx00ahRI/HFF1/wWFXi/v37ws3NTURHRwtfX19NmOEx07Z06VLRuXPncpfxWJW1YMEC8fzzz1e43BiOGU8zVaKgoABxcXEYNGiQ1vxBgwbh6NGjMlVlGFJSUpCenq51bJRKJXx9fTXHJi4uDg8fPtRax9HREZ06ddKsc+zYMdja2sLb21uzTs+ePWFra2vUxzgrKwsA0LhxYwA8XpUpKipCREQEHjx4AB8fHx6rSsyYMQNDhw7FgAEDtObzmJWVnJwMR0dHuLq6YuzYsbhy5QoAHqvy7N69G15eXhg1ahTs7OzQtWtXbN68WbPcGI4Zw0wlbt++jaKiojIPtbS3t9c8euFZVfL9Kzs26enpMDMzQ6NGjSpdx87Orsz27ezsjPYYCyEwb948PP/88+jUqRMAHq/yxMfHw8rKCkqlEtOmTcMPP/yADh068FhVICIiAnFxcQgLCyuzjMdMm7e3N7Zt24YDBw5g8+bNSE9PR69evXDnzh0eq3JcuXIFGzduhJubGw4cOIBp06Zh1qxZ2LZtGwDj+PsyiKdmGzqFQqE1LYQoM+9ZVZ1j8/g65a1vzMd45syZOH/+PA4fPlxmGY/XI23btsW5c+dw79497Ny5E5MmTUJsbKxmOY/VI6mpqZg9ezaioqLQoEGDCtfjMZMMGTJE897DwwM+Pj5o3bo1tm7dip49ewLgsSqtuLgYXl5eCA0NBQB07doVCQkJ2LhxIyZOnKhZz5CPGXtmKtG0aVOYmJiUSYwZGRllEuqzpuTKgMqOjYODAwoKCpCZmVnpOrdu3Sqz/b/++ssoj/Fbb72F3bt34/fff4eTk5NmPo9XWWZmZmjTpg28vLwQFhaGzp07Y/369TxW5YiLi0NGRga6d++O+vXro379+oiNjcXHH3+M+vXra74Pj1n5LC0t4eHhgeTkZP59lUOlUqFDhw5a89q3b4/r168DMI7/fjHMVMLMzAzdu3dHdHS01vzo6Gj06tVLpqoMg6urKxwcHLSOTUFBAWJjYzXHpnv37jA1NdVaJy0tDX/88YdmHR8fH2RlZeHkyZOadU6cOIGsrCyjOsZCCMycORO7du3Cb7/9BldXV63lPF5VE0JArVbzWJWjf//+iI+Px7lz5zTNy8sLgYGBOHfuHFq1asVjVgm1Wo0LFy5ApVLx76scvXv3LnMriYsXL8LFxQWAkfz364mGDz8DSi7N/vLLL0ViYqKYM2eOsLS0FFevXpW7tFp3//59cfbsWXH27FkBQKxdu1acPXtWc1n6Bx98IGxtbcWuXbtEfHy8GDduXLmX6jk5OYlff/1VnDlzRvTr16/cS/U8PT3FsWPHxLFjx4SHh4fRXd745ptvCltbWxETE6N1OWhubq5mHR6vR4KDg8XBgwdFSkqKOH/+vFi4cKGoV6+eiIqKEkLwWOmi9NVMQvCYlfb222+LmJgYceXKFXH8+HHx4osvCmtra81/t3mstJ08eVLUr19frFy5UiQnJ4tvv/1WWFhYiG+++UazjqEfM4YZHXzyySfCxcVFmJmZiW7dumkut63rfv/9dwGgTJs0aZIQQrpcb+nSpcLBwUEolUrRp08fER8fr7WNvLw8MXPmTNG4cWNhbm4uXnzxRXH9+nWtde7cuSMCAwOFtbW1sLa2FoGBgSIzM/MpfcuaUd5xAiDCw8M16/B4PTJlyhTNv1PNmjUT/fv31wQZIXisdPF4mOExe6TkHiimpqbC0dFRjBw5UiQkJGiW81iV9fPPP4tOnToJpVIp2rVrJz7//HOt5YZ+zBRCCPFkfTtERERE8uGYGSIiIjJqDDNERERk1BhmiIiIyKgxzBAREZFRY5ghIiIio8YwQ0REREaNYYaIiIiMGsMMkQ6EEHj99dfRuHFjKBQKnDt3rtx5fn5+mDNnTq3V0bJlS6xbt67Wtm/oYmJioFAooFAoMHz48BrdtkKhwI8//ljlvu/du6fT9mr7b+Fp2rJlCxo2bCjb/kNCQjT/3J/lv3+qGMMM1Skl/8GrqAUFBVVru/v378eWLVuwZ88epKWloVOnTuXO27VrF5YvX17t+v38/Mqtu7CwsNrbfBJBQUGaGurXr48WLVrgzTffLPMwOV22U5PhIykpCVu2bKmx7emiV69eSEtLg62t7VPdLwHvvPMO0tLStB7eSlRafbkLIKpJaWlpmveRkZFYsmSJ1gPUzM3NtdZ/+PAhTE1Nq9zu5cuXoVKptB6GVt68xo0bP0n5AICpU6fi/fff15pXv758/6oOHjwY4eHhKCwsRGJiIqZMmYJ79+7hu+++k60mOzu7p95TYGZmpnl6cF2l678PT0tRUREUCgWsrKxgZWUFExMTuUsiA8WeGapTHBwcNM3W1hYKhUIznZ+fj4YNG2LHjh3w8/NDgwYN8M033+DOnTsYN24cnJycYGFhAQ8PD60f6qCgILz11lu4fv06FAoFWrZsWe48oOypBbVajfnz58PZ2RlKpRJubm748ssvK/0OFhYWWt+jsh/Q69evIyAgAFZWVrCxscHo0aNx69YtAEBWVhZMTEwQFxcHQDpV1rhxY/To0UPz+e+++w4qlarSepRKJRwcHODk5IRBgwZhzJgxiIqK0iwvKirCa6+9BldXV5ibm6Nt27ZYv369ZnlISAi2bt2Kn376SdPLExMTAwC4efMmxowZg0aNGqFJkyYICAjA1atXK63ncZs2bULz5s1RXFysNf+ll17CpEmTNNM///wzunfvjgYNGqBVq1ZYtmxZmR6v27dvY8SIEbCwsICbmxt2796tWVbeaaYjR47A19cXFhYWaNSoEfz9/SvstSooKMD8+fPRvHlzWFpawtvbW3McAODatWsYNmwYGjVqBEtLS3Ts2BH79u2r8Hu3bNkSy5cvx/jx42FlZQVHR0f885//1FonKysLr7/+Ouzs7GBjY4N+/frhP//5j2Z5SEgIunTpgq+++gqtWrWCUqlEZU+4OXDgANq3bw8rKysMHjxY638eiouL8f7778PJyQlKpRJdunTB/v37Kz1+586dg0Kh0PwzLzmdtWfPHnTo0AFKpRLXrl2rsB6iEgwz9MxZsGABZs2ahQsXLsDf3x/5+fno3r079uzZgz/++AOvv/46Xn31VZw4cQIAsH79es1/pNPS0nDq1Kly55Vn4sSJiIiIwMcff4wLFy7gs88+g5WVVY18DyEEhg8fjrt37yI2NhbR0dG4fPkyxowZAwCwtbVFly5dND+Y58+f17xmZ2cDkH5gfH19dd7nlStXsH//fq3/ey8uLoaTkxN27NiBxMRELFmyBAsXLsSOHTsASKcIRo8erfnxS0tLQ69evZCbm4u+ffvCysoKBw8exOHDhzU/kgUFBTrXNGrUKNy+fRu///67Zl5mZiYOHDiAwMBAANKP8IQJEzBr1iwkJiZi06ZN2LJlC1auXKm1rWXLlmH06NE4f/48XnjhBQQGBuLu3bvl7vfcuXPo378/OnbsiGPHjuHw4cMYNmwYioqKyl1/8uTJOHLkCCIiInD+/HmMGjUKgwcPRnJyMgBgxowZUKvVOHjwIOLj47Fq1aoq/1Y+/PBDeHp64syZMwgODsbcuXMRHR0NQPr7GDp0KNLT07Fv3z7ExcWhW7du6N+/v9Z3unTpEnbs2IGdO3fi3LlzFe4rNzcX//jHP/D111/j4MGDuH79Ot555x3N8vXr12PNmjX4xz/+gfPnz8Pf3x8vvfSS5vvpKjc3F2FhYfjiiy+QkJAAOzs7vT5Pz6gnflQlkYEKDw8Xtra2mumUlBQBQKxbt67Kz77wwgvi7bff1kx/9NFHwsXFRWud8uaVfpJxUlKSACCio6N1rtnX11eYmpoKS0tLTZs3b55muYuLi/joo4+EEEJERUUJExMTrafSJiQkCADi5MmTQggh5s2bJ1588UUhhBDr1q0Tr7zyiujWrZvYu3evEEIId3d3sXHjxgrrmTRpkjAxMRGWlpaiQYMGmqeBr127ttLvMX36dPHyyy9rbScgIEBrnS+//FK0bdtWFBcXa+ap1Wphbm4uDhw4UO52S57k/vhTdl966SUxZcoUzfSmTZuEg4ODKCwsFEII8X//938iNDRU6zNff/21UKlUmmkA4r333tNM5+TkCIVCIX755Zdy9z1u3DjRu3fvCo9B6b+FS5cuCYVCIW7evKm1Tv/+/UVwcLAQQggPDw8REhJS4fYe5+LiIgYPHqw1b8yYMWLIkCFCCCH+/e9/CxsbG5Gfn6+1TuvWrcWmTZuEEEIsXbpUmJqaioyMjEr3FR4eLgCIS5cuaeZ98sknwt7eXjPt6OgoVq5cqfW5Hj16iOnTpwshyv9nd/bsWQFApKSkaO3n3LlzFX7nkr9/otI4ZoaeOV5eXlrTRUVF+OCDDxAZGYmbN29CrVZDrVbD0tLyifZz7tw5mJiY6NXzAQCBgYFYtGiRZrqisSEXLlyAs7MznJ2dNfM6dOiAhg0b4sKFC+jRowf8/Pzw5Zdfori4GLGxsejfvz9atGiB2NhYdOvWDRcvXqyyvr59+2Ljxo3Izc3FF198gYsXL+Ktt97SWuezzz7DF198gWvXriEvLw8FBQXo0qVLpduNi4vDpUuXYG1trTU/Pz8fly9frvSzjwsMDMTrr7+OTz/9FEqlEt9++y3Gjh2rGWMRFxeHU6dOafXEFBUVIT8/H7m5ubCwsAAAeHp6apZbWlrC2toaGRkZ5e7z3LlzGDVqlE71nTlzBkIIuLu7a81Xq9Vo0qQJAGDWrFl48803ERUVhQEDBuDll1/Wqqc8Pj4+ZaZLrvaJi4tDTk6OZvsl8vLytI6vi4sLmjVrVuV3sLCwQOvWrTXTKpVKc2yys7Px3//+F71799b6TO/evbVOa+nCzMysyu9N9DiGGXrmPB5S1qxZg48++gjr1q2Dh4cHLC0tMWfOHL1OdZTn8cHGurK1tUWbNm2qXE8IAYVCUen8Pn364P79+zhz5gwOHTqE5cuXw9nZGaGhoejSpQvs7OzQvn37SvdjaWmpqefjjz9G3759sWzZMs1VWzt27MDcuXOxZs0a+Pj4wNraGh9++KHmNF1FiouL0b17d3z77bdlluny41rasGHDUFxcjL1796JHjx44dOgQ1q5dq7WvZcuWYeTIkWU+26BBA837xwe/KhSKMmNxSujzz7e4uFgzfunxQawlp5L+9re/wd/fH3v37kVUVBTCwsKwZs2aMsGxKiX/7IuLi6FSqbTG5ZQoHZB1De3lHRvx2Piax/8eS/8t1qtXTzOvxMOHD8vsx9zcvNy/a6LKMMzQM+/QoUMICAjAhAkTAEg/AsnJyVX+yFfFw8ND0yMyYMCAmihVS4cOHXD9+nWkpqZqemcSExORlZWlqb1k3MyGDRugUCjQoUMHODo64uzZs9izZ4/evUYAsHTpUgwZMgRvvvkmHB0dcejQIfTq1QvTp0/XrPN4z4qZmVmZsSTdunVDZGSkZnDqkzA3N8fIkSPx7bff4tKlS3B3d0f37t219pWUlKRTSNSVp6cn/v3vf2PZsmVVrtu1a1cUFRUhIyMD//d//1fhes7Ozpg2bRqmTZuG4OBgbN68udIwc/z48TLT7dq1AyB95/T0dNSvX18zQL222NjYwNHREYcPH0afPn00848ePYrnnnsOwKOAmpaWhkaNGgFApWN0iPTBAcD0zGvTpg2io6Nx9OhRXLhwAW+88QbS09OfeLstW7bEpEmTMGXKFPz4449ISUlBTEyMZmDskxowYAA8PT0RGBiIM2fO4OTJk5g4cSJ8fX21TqX5+fnhm2++ga+vLxQKBRo1aoQOHTogMjISfn5+eu/Xz88PHTt2RGhoKADp+J0+fRoHDhzAxYsXsXjx4jIDolu2bInz588jKSkJt2/fxsOHDxEYGIimTZsiICAAhw4dQkpKCmJjYzF79mzcuHFD77oCAwOxd+9efPXVV5pgWmLJkiXYtm0bQkJCkJCQgAsXLiAyMhLvvfee3vspERwcjFOnTmH69Ok4f/48/vzzT2zcuBG3b98us667uzsCAwMxceJE7Nq1CykpKTh16hRWrVqluWJpzpw5OHDgAFJSUnDmzBn89ttvVQbqI0eOYPXq1bh48SI++eQTfP/995g9ezYA6e/Dx8cHw4cPx4EDB3D16lUcPXoU7733Hk6fPl3t712Rv//971i1ahUiIyORlJSEd999F+fOndPU06ZNGzg7OyMkJAQXL17E3r17sWbNmhqvg55NDDP0zFu8eDG6desGf39/+Pn5wcHBocZu8LZx40a88sormD59Otq1a4epU6fiwYMHNbLtkjvWNmrUCH369MGAAQPQqlUrREZGaq3Xt29fFBUVaQUXX19fFBUVVatnBgDmzZuHzZs3IzU1FdOmTcPIkSMxZswYeHt7486dO1q9NIB075y2bdvCy8sLzZo1w5EjR2BhYYGDBw+iRYsWGDlyJNq3b48pU6YgLy+vWj01/fr1Q+PGjZGUlITx48drLfP398eePXsQHR2NHj16oGfPnli7di1cXFyq9f0BKaBERUXhP//5D5577jn4+Pjgp59+qvCeQOHh4Zg4cSLefvtttG3bFi+99BJOnDih6VUrKirCjBkz0L59ewwePBht27bFp59+WmkNb7/9NuLi4tC1a1csX74ca9asgb+/PwDp72Pfvn3o06cPpkyZAnd3d4wdOxZXr16Fvb19tb93RWbNmoW3334bb7/9Njw8PLB//37s3r0bbm5uAKTTVN999x3+/PNPdO7cGatWrcKKFStqvA56NinE4yc9iYgMVExMDPr27YvMzExZb69vCFq2bIk5c+bUmUcm6OJZ/M6kG/bMEJHRcXJywrhx4+Qug56S0NBQWFlZ4fr163KXQgaKA4CJyGh4e3trbsJWUzcfJMM3bdo0jB49GoD+V7rRs4GnmYiIiMio8TQTERERGTWGGSIiIjJqDDNERERk1BhmiIiIyKgxzBAREZFRY5ghIiIio8YwQ0REREaNYYaIiIiMGsMMERERGbX/B2tFPaG1hCqxAAAAAElFTkSuQmCC\n",
          "text/plain": "<Figure size 640x480 with 1 Axes>"
         },
         "metadata": {},
         "output_type": "display_data"
        }
       ]
      }
     },
     "503da8f079f941bc88d25fc2dc55a03c": {
      "model_module": "@jupyter-widgets/base",
      "model_module_version": "1.2.0",
      "model_name": "LayoutModel",
      "state": {}
     },
     "51bf0d7f0a8c441db6161ae646a407b7": {
      "model_module": "@jupyter-widgets/base",
      "model_module_version": "1.2.0",
      "model_name": "LayoutModel",
      "state": {}
     },
     "52ddf983296042168eadf3ef742c3de1": {
      "model_module": "@jupyter-widgets/controls",
      "model_module_version": "1.5.0",
      "model_name": "DescriptionStyleModel",
      "state": {
       "description_width": ""
      }
     },
     "5587e0efb67f4453a7598ec815e422bb": {
      "model_module": "@jupyter-widgets/base",
      "model_module_version": "1.2.0",
      "model_name": "LayoutModel",
      "state": {}
     },
     "57e3c907cb71406a8ccbb9b398698b8d": {
      "model_module": "@jupyter-widgets/base",
      "model_module_version": "1.2.0",
      "model_name": "LayoutModel",
      "state": {}
     },
     "5806dda8eabb4e7d97f2e379167ce5d9": {
      "model_module": "@jupyter-widgets/output",
      "model_module_version": "1.0.0",
      "model_name": "OutputModel",
      "state": {
       "layout": "IPY_MODEL_bb7a481065664052a1c2dd14393b571d",
       "outputs": [
        {
         "data": {
          "image/png": "iVBORw0KGgoAAAANSUhEUgAAAjMAAAG2CAYAAACKxwc0AAAAOXRFWHRTb2Z0d2FyZQBNYXRwbG90bGliIHZlcnNpb24zLjUuMiwgaHR0cHM6Ly9tYXRwbG90bGliLm9yZy8qNh9FAAAACXBIWXMAAA9hAAAPYQGoP6dpAABMJUlEQVR4nO3deVxU9f4/8NcIOLIOogKDIKKCCUKimFsJrmjmenNJcsmuaWpK6tXUVCyF9KZp1zJtcbmVWF+ta2oiZeC+oSSiISYqGkhujAoMCp/fH+fHkWGRGQSHo6/n4/F5DPM5Z86854jOy8/5nHNUQggBIiIiIoWqZe4CiIiIiB4FwwwREREpGsMMERERKRrDDBERESkawwwREREpGsMMERERKRrDDBERESkawwwREREpGsMMERERKRrDDBERESma2cPMlStX8Oqrr6JevXqwsbFBq1atkJCQIC8XQiAiIgJubm6wtrZGSEgIkpOTzVgxERER1SRmDTM3b95Ep06dYGVlhZ9//hmnT5/G0qVL4ejoKK+zZMkSLFu2DCtXrsTRo0fh6uqKHj164Pbt2+YrnIiIiGoMlTlvNPnOO+9g//792Lt3b5nLhRBwc3NDeHg4Zs6cCQDQ6/VwcXHB4sWLMW7cuMdZLhEREdVAZg0zvr6+CA0NxeXLlxEfH4+GDRtiwoQJGDt2LADg/PnzaNq0KY4fP47AwED5df3794ejoyPWr19fapt6vR56vV5+XlhYiBs3bqBevXpQqVTV/6GIiIjokQkhcPv2bbi5uaFWrQoOJAkzUqvVQq1Wi1mzZonjx4+Lzz77TNSpU0esX79eCCHE/v37BQBx5coVg9eNHTtW9OzZs8xtzp8/XwBgY2NjY2NjewJaenp6hXnCEmZUWFiIoKAgREZGAgACAwORnJyMVatWYeTIkfJ6JUdUhBDljrLMmjULU6dOlZ9nZ2ejUaNGSE9Ph4ODQzV8CiIiIqpqOp0OHh4esLe3r3Bds4YZrVYLX19fg74WLVpg8+bNAABXV1cAQGZmJrRarbxOVlYWXFxcytymWq2GWq0u1e/g4MAwQ0REpDDGTBEx69lMnTp1QkpKikHf2bNn4enpCQDw8vKCq6srYmNj5eX5+fmIj49Hx44dH2utREREVDOZdWTm7bffRseOHREZGYkhQ4bgyJEjWLNmDdasWQNASmPh4eGIjIyEt7c3vL29ERkZCRsbGwwfPtycpRMREVENYdYw07ZtW/zwww+YNWsW3nvvPXh5eWH58uUICwuT15kxYwZyc3MxYcIE3Lx5E+3atcOuXbuMOoZGRERETz6znpr9OOh0Omg0GmRnZ3PODBFRBQoLC5Gfn2/uMugpYGVlBQsLi3KXm/L9bdaRGSIiqjny8/ORlpaGwsJCc5dCTwlHR0e4uro+8nXgGGaIiAhCCGRkZMDCwgIeHh4VX6SM6BEIIZCTk4OsrCwAMDhjuTIYZoiICPfv30dOTg7c3NxgY2Nj7nLoKWBtbQ1AutyKs7PzQw85VYTRm4iIUFBQAACoXbu2mSuhp0lRcL53794jbYdhhoiIZLyHHT1OVfX7xjBDREREisYwQ0REVIGQkBCEh4dX+XYjIiLQqlWrKt8uAOzevRvPPPOM2c5Omz59OiZPnvxY3othhoiIFGv06NFQqVQYP358qWUTJkyASqXC6NGjjd5eXFwcVCoVbt26VXVFPqIpU6agTZs2UKvVJgWfGTNmYM6cOfKZaevWrYNKpZKbnZ0d2rRpgy1bthi8LiQkRF5HrVbDx8cHkZGR8ryqon1U1OrVq4euXbti//79pd5/7dq1SEtLe7QdYASGGSIiUjQPDw9ER0cjNzdX7svLy8PGjRvRqFEjM1ZWNYQQGDNmDIYOHWr0aw4cOIDU1FQMHjzYoN/BwQEZGRnIyMjAiRMnEBoaiiFDhpS6T+LYsWORkZGBlJQUTJ48Ge+++y4+/PBDg3VSUlKQkZGBuLg4NGjQAH369JFPtQYAZ2dn9OzZE5999lklPrVpGGaIiEjRWrdujUaNGhmMMGzZsgUeHh4IDAw0WFcIgSVLlqBJkyawtrbGs88+i//7v/8DAFy4cAFdunQBANStW7fUqE5hYSFmzJgBJycnuLq6IiIiwmDbly5dQv/+/WFnZwcHBwcMGTIEV69eNVjngw8+gIuLC+zt7fH6668jLy+vws/38ccfY+LEiWjSpInR+yQ6Oho9e/ZEnTp1DPpVKhVcXV3h6uoKb29vLFy4ELVq1cLJkycN1rOxsYGrqysaN26MSZMmoVu3bvjxxx8N1nF2doarqyv8/f3x7rvvIjs7G4cPHzZYp1+/fti4caPRdVcWwwwREZUmBHD3rnlaJe6y89prr2Ht2rXy86+++gpjxowptd67776LtWvXYtWqVUhOTsbbb7+NV199FfHx8fDw8MDmzZsBPBh1WLFihfza9evXw9bWFocPH8aSJUvw3nvvITY29v/vLoEBAwbgxo0biI+PR2xsLP7880+D0ZTvvvsO8+fPx6JFi3Ds2DFotVp8+umnJn9WY+zZswdBQUEPXaegoADr168HIAXCh7G2ti739OmcnBx531tZWRkse+6555Ceno6LFy8aW3ql8KJ5RERUWk4OYGdnnve+cwewtTXpJSNGjMCsWbNw4cIFqFQq7N+/H9HR0YiLi5PXuXv3LpYtW4bdu3ejQ4cOAIAmTZpg3759WL16NYKDg+Hk5ARAGnVwdHQ0eI+AgADMnz8fAODt7Y2VK1fi119/RY8ePfDLL7/g5MmTSEtLg4eHBwDgv//9L/z8/HD06FG0bdsWy5cvx5gxY/DPf/4TALBw4UL88ssvRo3OmOrChQtwc3Mr1Z+dnQ27///nmpubCysrK6xZswZNmzYtczuFhYXYtWsXYmJiSk2Adnd3ByCFGSEE2rRpg27duhms07BhQ7keT0/PR/1Y5WKYISIixatfvz769OmD9evXQwiBPn36oH79+gbrnD59Gnl5eejRo4dBf35+fqnDUWUJCAgweK7VauU5ImfOnIGHh4ccZADA19cXjo6OOHPmDNq2bYszZ86UmqjcoUMH/PbbbyZ9VmPk5uaWOsQEAPb29jh+/DgAKYT88ssvGDduHOrVq4e+ffvK63366af44osv5JuOjhgxQg5yRfbu3QtbW1ucOHECM2fOxLp160qNzBRd5TcnJ6dKP19JDDNERFSajY00QmKu966EMWPGYNKkSQCATz75pNTyolOUt2/fLo8YFFGr1RVuv+QXtUqlkrcphCjzAnDl9Ve3+vXr4+bNm6X6a9WqhWbNmsnPAwICsGvXLixevNggzISFhWHOnDlQq9Vwc3Mr81YDXl5ecHR0hI+PD/Ly8jBw4ECcOnXKYF/euHEDANCgQYOq/HilMMwQEVFpKpXJh3rMrVevXvJIQmhoaKnlvr6+UKvVuHTpEoKDg8vcRtHtHIpOQzaWr68vLl26hPT0dHl05vTp08jOzkaLFi0AAC1atMChQ4cwcuRI+XWHDh0y6X2MFRgYiNOnTxu1roWFhcGZYACg0WgMQk9FRowYgffeew+ffvop3n77bbn/1KlTsLKygp+fn9HbqgyGGSIieiJYWFjgzJkz8s8l2dvbY/r06Xj77bdRWFiI559/HjqdDgcOHICdnR1GjRoFT09PqFQqbNu2DS+++CKsra3lOSYP0717dwQEBCAsLAzLly/H/fv3MWHCBAQHB8sTcadMmYJRo0YhKCgIzz//PL755hskJydXeJbSuXPncOfOHWRmZiI3NxeJiYkApABV3r20QkND5cm9xQkhkJmZCUA6FBUbG4uYmBjMmzevws/4MLVq1UJ4eDgWLlyIcePGyfdc2rt3L1544QX5cFN14dlMRET0xHBwcICDg0O5y99//33MmzcPUVFRaNGiBUJDQ/HTTz/By8sLgDRhdcGCBXjnnXfg4uIiH7aqiEqlwo8//oi6deuic+fO6N69O5o0aYJNmzbJ6wwdOhTz5s3DzJkz0aZNG1y8eBFvvvlmhdv+5z//icDAQKxevRpnz55FYGAgAgMD8ddff5X7mldffRWnT58udf0YnU4HrVYLrVaLFi1aYOnSpXjvvfcwZ84coz7nw4wZMwb37t3DypUr5b6NGzdi7Nixj7ztiqiEqMQ5cAqi0+mg0WiQnZ390F9wIqKnWV5eHtLS0uDl5VXmxFFSnhkzZiA7OxurV682y/tv374d//rXv3Dy5ElYWpZ9IOhhv3emfH9zZIaIiOgJNGfOHHh6epo8/6eq3L17F2vXri03yFQlzpkhIiJ6Amk0GsyePdts7z9kyJDH9l4cmSEiIiJFY5ghIiIiRWOYISIi2RN+TgjVMFX1+8YwQ0RE8nVZii46R/Q4FN3moOTVlU3FCcBERARLS0vY2Njg77//hpWVFWrV4v91qfoIIZCTk4OsrCw4OjqWeZFDUzDMEBERVCoVtFot0tLScPHiRXOXQ08JR0dHuLq6PvJ2GGaIiAiAdF8ib29vHmqix8LKyuqRR2SKMMwQEZGsVq1avAIwKQ4PihIREZGiMcwQERGRojHMEBERkaIxzBAREZGiMcwQERGRojHMEBERkaIxzBAREZGimTXMREREQKVSGbTiVwIcPXp0qeXt27c3Y8VERERU05j9onl+fn745Zdf5OclrwbYq1cvrF27Vn5eu3btx1YbERER1XxmDzOWlpYPvS+DWq2ukvs2EBER0ZPJ7HNmUlNT4ebmBi8vLwwbNgznz583WB4XFwdnZ2f4+Phg7NixyMrKeuj29Ho9dDqdQSMiIqInl0oIIcz15j///DNycnLg4+ODq1evYuHChfjjjz+QnJyMevXqYdOmTbCzs4OnpyfS0tIwd+5c3L9/HwkJCVCr1WVuMyIiAgsWLCjVn52dDQcHh+r+SERERFQFdDodNBqNUd/fZg0zJd29exdNmzbFjBkzMHXq1FLLMzIy4OnpiejoaAwaNKjMbej1euj1evm5TqeDh4cHwwwREZGCmBJmzD5npjhbW1v4+/sjNTW1zOVarRaenp7lLgekOTbljdoQERHRk8fsc2aK0+v1OHPmDLRabZnLr1+/jvT09HKXExER0dPHrGFm+vTpiI+PR1paGg4fPoyXX34ZOp0Oo0aNwp07dzB9+nQcPHgQFy5cQFxcHPr27Yv69etj4MCB5iybiIiIahCzHma6fPkyXnnlFVy7dg0NGjRA+/btcejQIXh6eiI3NxdJSUnYsGEDbt26Ba1Wiy5dumDTpk2wt7c3Z9lERERUg9SoCcDVwZQJRERERFQzmPL9XaPmzBARERGZimGGiIiIFI1hhoiIiBSNYYaIiIgUjWGGiIiIFI1hhoiIiBSNYYaIiIgUjWGGiIiIFI1hhoiIiBSNYYaIiIgUjWGGiIiIFI1hhoiIiBSNYYaIiIgUjWGGiIiIFI1hhoiIiBSNYYaIiIgUjWGGiIiIFI1hhoiIiBSNYYaIiIgUjWGGiIiIFI1hhoiIiBSNYYaIiIgUjWGGiIiIFI1hhoiIiBSNYYaIiIgUjWGGiIiIFI1hhoiIiBSNYYaIiIgUjWGGiIiIFI1hhoiIiBSNYYaIiIgUjWGGiIiIFI1hhoiIiBSNYYaIiIgUjWGGiIiIFM2sYSYiIgIqlcqgubq6ysuFEIiIiICbmxusra0REhKC5ORkM1ZMRERENY3ZR2b8/PyQkZEht6SkJHnZkiVLsGzZMqxcuRJHjx6Fq6srevTogdu3b5uxYiIiIqpJzB5mLC0t4erqKrcGDRoAkEZlli9fjjlz5mDQoEFo2bIl1q9fj5ycHHz77bdmrpqIiIhqCrOHmdTUVLi5ucHLywvDhg3D+fPnAQBpaWnIzMxEz5495XXVajWCg4Nx4MABc5VLRERENYylOd+8Xbt22LBhA3x8fHD16lUsXLgQHTt2RHJyMjIzMwEALi4uBq9xcXHBxYsXy92mXq+HXq+Xn+t0uuopnoiIiGoEs4aZ3r17yz/7+/ujQ4cOaNq0KdavX4/27dsDAFQqlcFrhBCl+oqLiorCggULqqdgIiIiqnHMfpipOFtbW/j7+yM1NVU+q6lohKZIVlZWqdGa4mbNmoXs7Gy5paenV2vNREREZF41Kszo9XqcOXMGWq0WXl5ecHV1RWxsrLw8Pz8f8fHx6NixY7nbUKvVcHBwMGhERET05DLrYabp06ejb9++aNSoEbKysrBw4ULodDqMGjUKKpUK4eHhiIyMhLe3N7y9vREZGQkbGxsMHz7cnGUTERFRDWLWMHP58mW88soruHbtGho0aID27dvj0KFD8PT0BADMmDEDubm5mDBhAm7evIl27dph165dsLe3N2fZREREVIOohBDC3EVUJ51OB41Gg+zsbB5yIiIiUghTvr9r1JwZIiIiIlMxzBAREZGiMcwQERGRojHMEBERkaIxzBAREZGiMcwQERGRojHMEBERkaIxzBAREZGiMcwQERGRojHMEBERkaIxzBAREZGiMcwQERGRojHMEBERkaIxzBAREZGiMcwQERGRojHMEBERkaIxzBAREZGiMcwQERGRojHMEBERkaIxzBAREZGiMcwQERGRojHMEBERkaIxzBAREZGiMcwQERGRojHMEBERkaIxzBAREZGiMcwQERGRolkas9LHH39s8oZfe+012Nvbm/w6IiIiIlOohBCiopVq1aoFd3d3WFhYGLXR9PR0nD17Fk2aNHnkAh+VTqeDRqNBdnY2HBwczF0OERERGcGU72+jRmYA4NixY3B2djZqXY7IEBER0eNi1JyZ+fPnw87OzuiNzp49G05OTpUuioiIiMhYRh1mUjIeZiIiIlIeU76/eTYTERERKZrJYebq1asYMWIE3NzcYGlpCQsLC4NGRERE9DgZPQG4yOjRo3Hp0iXMnTsXWq0WKpWqOuoiIiIiMorJYWbfvn3Yu3cvWrVqVQ3lEBEREZnG5MNMHh4eqI45w1FRUVCpVAgPD5f7Ro8eDZVKZdDat29f5e9NREREymVymFm+fDneeecdXLhwocqKOHr0KNasWYOAgIBSy3r16oWMjAy57dixo8rel4iIiJTP5MNMQ4cORU5ODpo2bQobGxtYWVkZLL9x44ZJ27tz5w7CwsLw+eefY+HChaWWq9VquLq6mlomERERPSVMDjPLly+v0gImTpyIPn36oHv37mWGmbi4ODg7O8PR0RHBwcFYtGjRQ69ErNfrodfr5ec6na5K6yUiIqKaxeQwM2rUqCp78+joaCQkJODYsWNlLu/duzcGDx4MT09PpKWlYe7cuejatSsSEhKgVqvLfE1UVBQWLFhQZTUSERFRzWbUFYB1Op189b2KRjqMvcpueno6goKCsGvXLjz77LMAgJCQELRq1arc0Z+MjAx4enoiOjoagwYNKnOdskZmPDw8eAVgIiIiBanyG03WrVsXGRkZ8uGesq4tI4SASqVCQUGBUUUmJCQgKysLbdq0kfsKCgqwZ88erFy5Enq9vtRF+LRaLTw9PZGamlrudtVqdbmjNkRERPTkMSrM7N69W75x5G+//VYlb9ytWzckJSUZ9L322mt45plnMHPmzDKvJnz9+nWkp6dDq9VWSQ1ERESkfEaFmeDg4DJ/fhT29vZo2bKlQZ+trS3q1auHli1b4s6dO4iIiMA//vEPaLVaXLhwAbNnz0b9+vUxcODAKqmBiIiIlM/kCcAAkJeXh5MnTyIrKwuFhYUGy/r161clhVlYWCApKQkbNmzArVu3oNVq0aVLF2zatAn29vZV8h5ERESkfEZNAC5u586dGDlyJK5du1Z6YybMmXlcTJlARERERDWDKd/fJl8BeNKkSRg8eDAyMjJQWFho0GpakCEiIqInn8lhJisrC1OnToWLi0t11ENERERkEpPDzMsvv4y4uLhqKIWIiIjIdCbPmcnJycHgwYPRoEED+Pv7l7o30+TJk6u0wEfFOTNERETKU+UXzSvu22+/RUxMDKytrREXF2dwAT2VSlXjwgwRERE92UwOM++++y7ee+89vPPOO6hVy+SjVERERERVyuQ0kp+fj6FDhzLIEBERUY1gciIZNWoUNm3aVB21EBEREZnM5MNMBQUFWLJkCWJiYhAQEFBqAvCyZcuqrDgiIiKiipgcZpKSkhAYGAgAOHXqlMGysu6mTURERFSdTA4zVXXXbCIiIqKqwFm8REREpGhGhZlBgwZBp9MZvdGwsDBkZWVVuigiIiIiYxl1BWALCwucPXsWDRo0qHCDQgh4eHggMTERTZo0qZIiHwWvAExERKQ8VX4FYCEEfHx8qqQ4IiIioqpkVJipzKTfhg0bmvwaIiIiIlMZFWaCg4Oruw4iIiKiSuHZTERERKRoDDNERESkaAwzREREpGgMM0RERKRolQoz9+/fxy+//ILVq1fj9u3bAIC//voLd+7cqdLiiIiIiCpi8r2ZLl68iF69euHSpUvQ6/Xo0aMH7O3tsWTJEuTl5eGzzz6rjjqJiIiIymTyyMyUKVMQFBSEmzdvwtraWu4fOHAgfv311yotjoiIiKgiJo/M7Nu3D/v370ft2rUN+j09PXHlypUqK4yIiIjIGCaPzBQWFqKgoKBU/+XLl2Fvb18lRREREREZy+Qw06NHDyxfvlx+rlKpcOfOHcyfPx8vvvhiVdZGREREVCGj7ppd3F9//YUuXbrAwsICqampCAoKQmpqKurXr489e/bA2dm5umqtFN41m4iISHmq/K7Zxbm5uSExMREbN27E8ePHUVhYiNdffx1hYWEGE4KJiIiIHgeTR2aUhiMzREREylOtIzMAcOXKFezfvx9ZWVkoLCw0WDZ58uTKbJKIiIioUkwOM2vXrsX48eNRu3Zt1KtXDyqVSl6mUqkYZoiIiOixMvkwk4eHB8aPH49Zs2ahVq2af2snHmYiIiJSHlO+v01OIzk5ORg2bJgiggwRERE9+UxOJK+//jq+//776qiFiIiIyGQmH2YqKCjASy+9hNzcXPj7+8PKyspg+bJlyypVSFRUFGbPno0pU6bIF+UTQmDBggVYs2YNbt68iXbt2uGTTz6Bn5+f0dvlYSYiIiLlqdazmSIjIxETE4PmzZsDQKkJwJVx9OhRrFmzBgEBAQb9S5YswbJly7Bu3Tr4+Phg4cKF6NGjB1JSUnjrBCIiIgJQiTCzbNkyfPXVVxg9enSVFHDnzh2EhYXh888/x8KFC+V+IQSWL1+OOXPmYNCgQQCA9evXw8XFBd9++y3GjRtXJe9PREREymbynBm1Wo1OnTpVWQETJ05Enz590L17d4P+tLQ0ZGZmomfPngbvHRwcjAMHDpS7Pb1eD51OZ9CIiIjoyWVymJkyZQr+85//VMmbR0dHIyEhAVFRUaWWZWZmAgBcXFwM+l1cXORlZYmKioJGo5Gbh4dHldRKRERENZPJh5mOHDmC3bt3Y9u2bfDz8ys1AXjLli1GbSc9PR1TpkzBrl27UKdOnXLXKzkPRwjx0Lk5s2bNwtSpU+XnOp2OgYaIiOgJZnKYcXR0lOewPIqEhARkZWWhTZs2cl9BQQH27NmDlStXIiUlBYA0QqPVauV1srKySo3WFKdWq6FWqx+5PiIiIlKGSt3OoCp069YNSUlJBn2vvfYannnmGcycORNNmjSBq6srYmNjERgYCADIz89HfHw8Fi9eXCU1EBERkfJV6kaTVcHe3h4tW7Y06LO1tUW9evXk/vDwcERGRsLb2xve3t6IjIyEjY0Nhg8fbo6SiYiIqAYyKsy0bt0av/76K+rWrYvAwMCHzlk5fvx4lRU3Y8YM5ObmYsKECfJF83bt2sVrzBAREZHMqDDTv39/eR7KgAEDqq2YuLg4g+cqlQoRERGIiIiotvckIiIiZTP6dgZjxozBihUrFDcqwtsZEBERKU+13DV7/fr1yM3NfeTiiIiIiKqS0WHGxPtREhERET0WJl0BuLI3kiQiIiKqLiadmu3j41NhoLlx48YjFURERERkCpPCzIIFC6DRaKqrFiIiIiKTmRRmhg0bBmdn5+qqhYiIiMhkRs+Z4XwZIiIiqol4NhMREREpmtGHmQoLC6uzDiIiIqJKMenUbCIiIqKahmGGiIiIFI1hhoiIiBSNYYaIiIgUzagJwFu3bjV6g/369at0MURERESmMirMDBgwwKiNqVQqFBQUPEo9RERERCYxKszwtGwiIiKqqR5pzkxeXl5V1UFERERUKSaHmYKCArz//vto2LAh7OzscP78eQDA3Llz8eWXX1Z5gUREREQPY3KYWbRoEdatW4clS5agdu3acr+/vz+++OKLKi2OiIiIqCImh5kNGzZgzZo1CAsLg4WFhdwfEBCAP/74o0qLIyIiIqqIyWHmypUraNasWan+wsJC3Lt3r0qKIiIiIjKWyWHGz88Pe/fuLdX//fffIzAwsEqKIiIiIjKW0XfNLjJ//nyMGDECV65cQWFhIbZs2YKUlBRs2LAB27Ztq44aiYiIiMpl8shM3759sWnTJuzYsQMqlQrz5s3DmTNn8NNPP6FHjx7VUSMRERFRuVRCCGHuIqqTTqeDRqNBdnY2HBwczF0OERERGcGU72+TR2Zee+01/Prrr3jCMxAREREphMlh5vr16+jTpw/c3d0xbdo0nDhxojrqIiIiIjKKyWFm69atyMzMxPz585GQkICgoCD4+voiMjISFy5cqIYSiYiIiMr3yHNmLl++jI0bN+Krr75Camoq7t+/X1W1VQnOmSEiIlKeap0zU9y9e/dw7NgxHD58GBcuXICLi8ujbI6IiIjIZJUKM7/99hvGjh0LFxcXjBo1Cvb29vjpp5+Qnp5e1fURERERPZTJF81zd3fH9evXERoaitWrV6Nv376oU6dOddRGREREVCGTw8y8efMwePBg1K1btzrqISIiIjKJyWHmjTfeqI46iIiIiCrF5DADAEePHsX333+PS5cuIT8/32DZli1bjN7OqlWrsGrVKvmUbj8/P8ybNw+9e/cGAIwePRrr1683eE27du1w6NChypRNRERETyCTJwBHR0ejU6dOOH36NH744Qfcu3cPp0+fxu7du6HRaEzalru7Oz744AMcO3YMx44dQ9euXdG/f38kJyfL6/Tq1QsZGRly27Fjh6klExER0RPM5JGZyMhIfPTRR5g4cSLs7e2xYsUKeHl5Ydy4cdBqtSZtq2/fvgbPFy1ahFWrVuHQoUPw8/MDAKjVari6uppaJhERET0lTB6Z+fPPP9GnTx8AUtC4e/cuVCoV3n77baxZs6bShRQUFCA6Ohp3795Fhw4d5P64uDg4OzvDx8cHY8eORVZW1kO3o9frodPpDBoRERE9uUwOM05OTrh9+zYAoGHDhjh16hQA4NatW8jJyTG5gKSkJNjZ2UGtVmP8+PH44Ycf4OvrCwDo3bs3vvnmG+zevRtLly7F0aNH0bVrV+j1+nK3FxUVBY1GIzcPDw+TayIiIiLlMPl2BsOHD0dQUBCmTp2KRYsWYcWKFejfvz9iY2PRunVrkyYAA0B+fj4uXbqEW7duYfPmzfjiiy8QHx8vB5riMjIy4OnpiejoaAwaNKjM7en1eoOwo9Pp4OHhwdsZEBERKYgptzMwec7MypUrkZeXBwCYNWsWrKyssG/fPgwaNAhz5841udjatWujWbNmAICgoCAcPXoUK1aswOrVq0utq9Vq4enpidTU1HK3p1aroVarTa6DiIiIlMmkMHP//n389NNPCA0NBQDUqlULM2bMwIwZM6qsICFEuYeRrl+/jvT0dJMnGhMREdGTy6Q5M5aWlnjzzTcfOmfFFLNnz8bevXtx4cIFJCUlYc6cOYiLi0NYWBju3LmD6dOn4+DBg7hw4QLi4uLQt29f1K9fHwMHDqyS9yciIiLlM/kwU7t27XDixAl4eno+8ptfvXoVI0aMQEZGBjQaDQICArBz50706NEDubm5SEpKwoYNG3Dr1i1otVp06dIFmzZtgr29/SO/NxERET0ZTA4zEyZMwLRp03D58mW0adMGtra2BssDAgKM3taXX35Z7jJra2vExMSYWh4RERE9TtevAxoNYFmpmwpUCaPPZhozZgyWL18OR0fH0htRqSCEgEqlQkFBQVXX+EhMmQ1NRERERjp/HvjoI+Crr6Q2dGiVbt6U72+jw4yFhQUyMjKQm5v70PWq4vBTVWKYISIiqkJHjgAffghs3gwUFkp9I0cCJe6l+Kiq5dTsosxT08IKERERVbOCAuCnn6SRmD17HvT36gVMnw507Wq+2mDinBmVSlVddRAREVFNc/s2sHYtsGKFdFgJAKysgOHDgWnTAH9/89b3/5kUZnx8fCoMNDdu3HikgoiIiMjM/vwT+OQT4MsvgaJ7HNatC4wbB0yaBDRsaN76SjApzCxYsAAajaa6aiEiIiJzEQKIjQX+8x9g+3bpOQD4+ADh4dK8mBJnMNcUJoWZYcOGwdnZubpqISIiosft1i1gwwZg1Srgjz8e9PfqBbz1lvRYy+T7Uj9WRocZzpchIiJ6giQmAp9+CnzzDZCTI/XZ2wOjR0uHknx8zFmdSUw+m4mIiIgUKicH+O47YPVq4NChB/1+fsCECcCrrwIKvIyJ0WGmsOhcciIiIlKW5GQpwPz3v9JhJUC6Yu8//iGFmBdeABR8BMZ81x4mIiKi6nP7tjQK88UXhqMwXl7A2LHAa68Brq7mq68KMcwQERE9KYQADh6Ubi8QHQ3cvSv1W1gA/fpJp1b36FHjJ/SaimGGiIhI6S5flg4hrVsHnD37oN/HB3j9dem06idkFKYsDDNERERKlJMD/PijdFp1bOyD+yTZ2ACDB0sh5vnnFT0XxlgMM0REREpRWAjExUmjMP/3f8CdOw+Wde4snVb98svSKdZPEYYZIiKimkwI4PffpevBREdLh5SKeHkBI0ZIh5GaNjVfjWbGMENERFQTnTsnhZdvvwXOnHnQ7+gIDBkiBZiOHZ+Kw0gVYZghIiKqKS5elE6n3rQJSEh40K9WA337Sner7t0bqFPHfDXWQAwzRERE5nTpErB5M/D999Jp1UUsLICuXaUAM3AgwBs9l4thhoiI6HE7fx7YskUKMEeOPOhXqYDgYGDoUOnqvA0amK9GBWGYISIiqm5CSLcU2LJFar///mCZSiWdiTR4MDBoEKDVmq9OhWKYISIiqg4FBcCBA8D//ie1c+ceLLOweBBgBg58oi9o9zgwzBAREVWV27elC9ht3Qps2wZcv/5gmVoN9Owpjb707QvUq2e+Op8wDDNERESP4vx5Kbhs2yZd0O7evQfLnJyAPn2A/v2B0FDAzs5sZT7JGGaIiIhModcDe/YAO3YAP/8MpKQYLm/WDHjpJSnAPP88YMmv2urGPUxERPQwQkjzXWJipLZ7t3RfpCIWFlJo6dtXCjHNm5uv1qcUwwwREVFJN28Cv/0mzX+JiQHS0gyXa7XSxetefBHo3p3XgDEzhhkiIqK8POmCdb/+KgWYY8ce3IUaAKyspNGX0FCpPfssbyNQgzDMEBHR0+fePeDoUWn0ZfduYP9+aS5McS1aSKMuPXsCISGcvFuDMcwQEdGTLz9fCi/x8dIZR/v3G857AaRDR127Aj16SCGmYUOzlEqmY5ghIqInz9270mGjvXuldugQkJtruE69ekCXLlKA6doV8PHhoSOFYpghIiLl++svabSlqCUmAvfvG65Tv75036OQEKn5+gK1apmhWKpqDDNERKQs+fnSvY0OHpRGXA4eBC5cKL1eo0bACy9Itw144QXgmWc48vKEYpghIqKaSwjptOgjR4DDh6XH48els4+Kq1ULCAgAOnWSWseOgKeneWqmx45hhoiIao6MDGmi7rFjDx6vXSu9npMT0L490KGD9Pjcc4CDw+Ovl2oEs4aZVatWYdWqVbjw/4cH/fz8MG/ePPTu3RsAIITAggULsGbNGty8eRPt2rXDJ598Aj8/PzNWTUREj0wI4MoVaZQlIUF6PH5cmvtSkpUV0KoV0K6dFFqee46TdcmAWcOMu7s7PvjgAzRr1gwAsH79evTv3x8nTpyAn58flixZgmXLlmHdunXw8fHBwoUL0aNHD6SkpMDe3t6cpRMRkbHu35fuX/T778CJE9Lk3MTEskdcatWSru/Stq3UgoKkC9Sp1Y+7alIQlRBCmLuI4pycnPDvf/8bY8aMgZubG8LDwzFz5kwAgF6vh4uLCxYvXoxx48YZtT2dTgeNRoPs7Gw4cAiSiKj6CAFcvQqcOgUkJQEnT0oB5vTp0hekA6R7Gvn6Aq1bA23aSI/PPsuL0xEA076/a8ycmYKCAnz//fe4e/cuOnTogLS0NGRmZqJnz57yOmq1GsHBwThw4EC5YUav10Nf7C+NTqer9tqJiJ46N24AyckP2qlTUitrtAWQAkpAABAYKB0yatUK8PMDrK0fZ9X0hDJ7mElKSkKHDh2Ql5cHOzs7/PDDD/D19cWBAwcAAC4uLgbru7i44OLFi+VuLyoqCgsWLKjWmomIngpCSHNY/vgDOHPmQTt9WhqBKYtKBTRrBvj7S+ElIEAabWncmNd0oWpj9jDTvHlzJCYm4tatW9i8eTNGjRqF+Ph4ebmqxAQvIUSpvuJmzZqFqVOnys91Oh08PDyqvnAioieFTgekpkrt7Flpfssff0g/37lT/us8PaXRFV9f6dHfX/qZoy30mJk9zNSuXVueABwUFISjR49ixYoV8jyZzMxMaLVaef2srKxSozXFqdVqqDlRjIjI0K1bwJ9/AufOGbbU1PJHWQBpXkuTJtKk3JKNJ2JQDWH2MFOSEAJ6vR5eXl5wdXVFbGwsAgMDAQD5+fmIj4/H4sWLzVwlEVENo9cDly5JF5hLS5OuiHv+vBRgzp8Hbt58+OudnaXTnb29gebNH7SmTYHatR/LRyCqLLOGmdmzZ6N3797w8PDA7du3ER0djbi4OOzcuRMqlQrh4eGIjIyEt7c3vL29ERkZCRsbGwwfPtycZRMRPX46nRRWitrFi4btr7+kOS4P4+wshZVmzaTWtKn03Nsb0Ggez+cgqgZmDTNXr17FiBEjkJGRAY1Gg4CAAOzcuRM9evQAAMyYMQO5ubmYMGGCfNG8Xbt28RozRPTkEEI6BHTlyoN2+bLU0tMfPGZnV7wtGxtpoq2Xl/TYtKl0iKhJE6mPpzzTE6rGXWemqvE6M0RkFkJIpy9nZkotI+NB++svqWVkSOElN9e4bTo5STdP9PCQJt8Wb40bAw0a8Kq49MRQ5HVmiIhqvPx86Toqf/8ttaysB+3qVSm0XL36oN27Z/y2nZyAhg0BNzcprLi7P3h0d5dCDEdWiMrEMENETx8hpNGQGzekdv261Ir/fO2aYfv7b2neiqmcnABXV6lptVJYKf5YFGB4OjNRpTHMEJEy5eVJ80hKtlu3pJadLZ3Bc+uW9Fi83bghjbJUhoUFUK8e4OIiTaht0EB6dHaWAouLi2HjpSKIqh3DDBFVv8JCaSTk7l2p3blj+Hj7tvTznTvSz+U1ne5Bq2wYKc7SEqhbVwonRc3JCahf/0GrV096bNBAao6OvJItUQ3DMEP0tLl/X7omSfGWl1f6sXjLzZVa8Z+LWk6O4c/FW1F4MXaCa2U4OEhNo5GCRlHTaKSg4ugoPRb97OQktbp1pTkonDBLpHgMM/RkEkIaDajosaJWUGD4WLLP2Hb/funHolZQIE0ULd5X9PzePcOf8/Mf9BW1or7ij8WbXm/4WFho3j8bGxvA1lYKEra2UrO3l57b2z94XrJpNA+CS9Fze3uOkhARw0ylffYZ8OGH5q2hsmfVl3xdWdsxZZ2SjyX7ylrP2J8rakXBpPhzMl6tWtKcjjp1Sj8WNWtrqc/a+kGrU0cKJcX7rK2lIGJjY9iKAoutrbQOwwcRVTGGmcoqus8JPTlUKumLtujRwkJ6LGpFzy0sSv9c9NzS0rDPwuJBX/HHola0jpWV9NzK6sHz4n1FjyVb7dpSK3quVj/oK+ov6iv+WNQs+U8AESkf/yWrrBEjgOBgc1dRNmPmAJRcp6zXmLJOyUdjlhXvL9nK6y+rFQWQks+LPxZfp3hAKbkuEREpDsNMZTVsKDUiIiIyKx68JiIiIkVjmCEiIiJFY5ghIiIiRWOYISIiIkVjmCEiIiJFY5ghIiIiRWOYISIiIkVjmCEiIiJFY5ghIiIiRWOYISIiIkVjmCEiIiJFY5ghIiIiRWOYISIiIkVjmCEiIiJFY5ghIiIiRWOYISIiIkVjmCEiIiJFY5ghIiIiRWOYISIiIkVjmCEiIiJFY5ghIiIiRWOYISIiIkVjmCEiIiJFY5ghIiIiRWOYISIiIkUza5iJiopC27ZtYW9vD2dnZwwYMAApKSkG64wePRoqlcqgtW/f3kwVExERUU1j1jATHx+PiRMn4tChQ4iNjcX9+/fRs2dP3L1712C9Xr16ISMjQ247duwwU8VERERU01ia88137txp8Hzt2rVwdnZGQkICOnfuLPer1Wq4uro+7vKIiIhIAWrUnJns7GwAgJOTk0F/XFwcnJ2d4ePjg7FjxyIrK8sc5REREVENpBJCCHMXAQBCCPTv3x83b97E3r175f5NmzbBzs4Onp6eSEtLw9y5c3H//n0kJCRArVaX2o5er4der5ef63Q6eHh4IDs7Gw4ODo/lsxAREdGj0el00Gg0Rn1/m/UwU3GTJk3CyZMnsW/fPoP+oUOHyj+3bNkSQUFB8PT0xPbt2zFo0KBS24mKisKCBQuqvV4iIiKqGWrEYaa33noLW7duxW+//QZ3d/eHrqvVauHp6YnU1NQyl8+aNQvZ2dlyS09Pr46SiYiIqIYw68iMEAJvvfUWfvjhB8TFxcHLy6vC11y/fh3p6enQarVlLler1WUefiIiIqInk1lHZiZOnIivv/4a3377Lezt7ZGZmYnMzEzk5uYCAO7cuYPp06fj4MGDuHDhAuLi4tC3b1/Ur18fAwcONGfpREREVEOYdQKwSqUqs3/t2rUYPXo0cnNzMWDAAJw4cQK3bt2CVqtFly5d8P7778PDw8Oo9zBlAhERERHVDIqZAFxRjrK2tkZMTMxjqoaIiIiUqEZMACYiIiKqLIYZIiIiUjSGGSIiIlI0hhkiIiJSNIYZIiIiUjSGGSIiIlI0hhkiIiJSNIYZIiIiUjSGGSIiIlI0hhkiIiJSNIYZIiIiUjSGGSIiIlI0hhkiIiJSNIYZIiIiUjSGGSIiIlI0hhkiIiJSNIYZIiIiUjSGGSIiIlI0hhkiIiJSNIYZIiIiUjSGGSIiIlI0hhkiIiJSNIYZIiIiUjSGGSIiIlI0hhkiIiJSNIYZIiIiUjSGGSIiIlI0hhkiIiJSNIYZIiIiUjSGGSIiIlI0hhkiIiJSNIYZIiIiUjSGGSIiIlI0hhkiIiJSNIYZIiIiUjSGGSIiIlI0s4aZqKgotG3bFvb29nB2dsaAAQOQkpJisI4QAhEREXBzc4O1tTVCQkKQnJxspoqJiIiopjFrmImPj8fEiRNx6NAhxMbG4v79++jZsyfu3r0rr7NkyRIsW7YMK1euxNGjR+Hq6ooePXrg9u3bZqyciIiIagqVEEKYu4gif//9N5ydnREfH4/OnTtDCAE3NzeEh4dj5syZAAC9Xg8XFxcsXrwY48aNq3CbOp0OGo0G2dnZcHBwqO6PQERERFXAlO9vy8dUk1Gys7MBAE5OTgCAtLQ0ZGZmomfPnvI6arUawcHBOHDgQJlhRq/XQ6/Xl9qmTqerztKJiIioChV9bxsz5lJjwowQAlOnTsXzzz+Pli1bAgAyMzMBAC4uLgbruri44OLFi2VuJyoqCgsWLCjV7+HhUcUVExERUXW7ffs2NBrNQ9epMWFm0qRJOHnyJPbt21dqmUqlMnguhCjVV2TWrFmYOnWq/LywsBA3btxAvXr1yn1NZel0Onh4eCA9PZ2HsCrAfWU87ivjcV8Zj/vKeNxXxqvOfSWEwO3bt+Hm5lbhujUizLz11lvYunUr9uzZA3d3d7nf1dUVgDRCo9Vq5f6srKxSozVF1Go11Gq1QZ+jo2PVF12Mg4MDf+GNxH1lPO4r43FfGY/7ynjcV8arrn1V0YhMEbOezSSEwKRJk7Blyxbs3r0bXl5eBsu9vLzg6uqK2NhYuS8/Px/x8fHo2LHj4y6XiIiIaiCzjsxMnDgR3377Lf73v//B3t5eniOj0WhgbW0NlUqF8PBwREZGwtvbG97e3oiMjISNjQ2GDx9uztKJiIiohjBrmFm1ahUAICQkxKB/7dq1GD16NABgxowZyM3NxYQJE3Dz5k20a9cOu3btgr29/WOutjS1Wo358+eXOqxFpXFfGY/7ynjcV8bjvjIe95Xxasq+qlHXmSEiIiIyFe/NRERERIrGMENERESKxjBDREREisYwQ0RERIrGMFNJn376Kby8vFCnTh20adMGe/fuNXdJ1W7Pnj3o27cv3NzcoFKp8OOPPxosF0IgIiICbm5usLa2RkhICJKTkw3W0ev1eOutt1C/fn3Y2tqiX79+uHz5ssE6N2/exIgRI6DRaKDRaDBixAjcunWrmj9d1YmKikLbtm1hb28PZ2dnDBgwACkpKQbrcF9JVq1ahYCAAPmCWx06dMDPP/8sL+d+Kl9UVJR8+Yoi3F8PREREQKVSGbSiC7EC3FclXblyBa+++irq1asHGxsbtGrVCgkJCfLyGr+/BJksOjpaWFlZic8//1ycPn1aTJkyRdja2oqLFy+au7RqtWPHDjFnzhyxefNmAUD88MMPBss/+OADYW9vLzZv3iySkpLE0KFDhVarFTqdTl5n/PjxomHDhiI2NlYcP35cdOnSRTz77LPi/v378jq9evUSLVu2FAcOHBAHDhwQLVu2FC+99NLj+piPLDQ0VKxdu1acOnVKJCYmij59+ohGjRqJO3fuyOtwX0m2bt0qtm/fLlJSUkRKSoqYPXu2sLKyEqdOnRJCcD+V58iRI6Jx48YiICBATJkyRe7n/npg/vz5ws/PT2RkZMgtKytLXs599cCNGzeEp6enGD16tDh8+LBIS0sTv/zyizh37py8Tk3fXwwzlfDcc8+J8ePHG/Q988wz4p133jFTRY9fyTBTWFgoXF1dxQcffCD35eXlCY1GIz777DMhhBC3bt0SVlZWIjo6Wl7nypUrolatWmLnzp1CCCFOnz4tAIhDhw7J6xw8eFAAEH/88Uc1f6rqkZWVJQCI+Ph4IQT3VUXq1q0rvvjiC+6ncty+fVt4e3uL2NhYERwcLIcZ7i9D8+fPF88++2yZy7ivDM2cOVM8//zz5S5Xwv7iYSYT5efnIyEhAT179jTo79mzJw4cOGCmqswvLS0NmZmZBvtFrVYjODhY3i8JCQm4d++ewTpubm5o2bKlvM7Bgweh0WjQrl07eZ327dtDo9Eodv9mZ2cDAJycnABwX5WnoKAA0dHRuHv3Ljp06MD9VI6JEyeiT58+6N69u0E/91dpqampcHNzg5eXF4YNG4bz588D4L4qaevWrQgKCsLgwYPh7OyMwMBAfP755/JyJewvhhkTXbt2DQUFBaVudOni4iLfjuFpVPTZH7ZfMjMzUbt2bdStW/eh6zg7O5favrOzsyL3rxACU6dOxfPPP4+WLVsC4L4qKSkpCXZ2dlCr1Rg/fjx++OEH+Pr6cj+VITo6GgkJCYiKiiq1jPvLULt27bBhwwbExMTg888/R2ZmJjp27Ijr169zX5Vw/vx5rFq1Ct7e3oiJicH48eMxefJkbNiwAYAyfrdqxF2zlUilUhk8F0KU6nsaVWa/lFynrPWVun8nTZqEkydPYt++faWWcV9JmjdvjsTERNy6dQubN2/GqFGjEB8fLy/nfpKkp6djypQp2LVrF+rUqVPuetxfkt69e8s/+/v7o0OHDmjatCnWr1+P9u3bA+C+KlJYWIigoCBERkYCAAIDA5GcnIxVq1Zh5MiR8no1eX9xZMZE9evXh4WFRakUmZWVVSq1Pk2KzhJ42H5xdXVFfn4+bt68+dB1rl69Wmr7f//9t+L271tvvYWtW7fit99+g7u7u9zPfWWodu3aaNasGYKCghAVFYVnn30WK1as4H4qISEhAVlZWWjTpg0sLS1haWmJ+Ph4fPzxx7C0tJQ/C/dX2WxtbeHv74/U1FT+bpWg1Wrh6+tr0NeiRQtcunQJgDL+zWKYMVHt2rXRpk0bxMbGGvTHxsaiY8eOZqrK/Ly8vODq6mqwX/Lz8xEfHy/vlzZt2sDKyspgnYyMDJw6dUpep0OHDsjOzsaRI0fkdQ4fPozs7GzF7F8hBCZNmoQtW7Zg9+7d8PLyMljOffVwQgjo9XrupxK6deuGpKQkJCYmyi0oKAhhYWFITExEkyZNuL8eQq/X48yZM9BqtfzdKqFTp06lLh9x9uxZeHp6AlDIv1mPNH34KVV0avaXX34pTp8+LcLDw4Wtra24cOGCuUurVrdv3xYnTpwQJ06cEADEsmXLxIkTJ+RT0j/44AOh0WjEli1bRFJSknjllVfKPHXP3d1d/PLLL+L48eOia9euZZ66FxAQIA4ePCgOHjwo/P39FXWq45tvvik0Go2Ii4szOC00JydHXof7SjJr1iyxZ88ekZaWJk6ePClmz54tatWqJXbt2iWE4H6qSPGzmYTg/ipu2rRpIi4uTpw/f14cOnRIvPTSS8Le3l7+d5r76oEjR44IS0tLsWjRIpGamiq++eYbYWNjI77++mt5nZq+vxhmKumTTz4Rnp6eonbt2qJ169byabdPst9++00AKNVGjRolhJBO35s/f75wdXUVarVadO7cWSQlJRlsIzc3V0yaNEk4OTkJa2tr8dJLL4lLly4ZrHP9+nURFhYm7O3thb29vQgLCxM3b958TJ/y0ZW1jwCItWvXyutwX0nGjBkj/z1q0KCB6NatmxxkhOB+qkjJMMP99UDRdVCsrKyEm5ubGDRokEhOTpaXc18Z+umnn0TLli2FWq0WzzzzjFizZo3B8pq+v1RCCPFoYztERERE5sM5M0RERKRoDDNERESkaAwzREREpGgMM0RERKRoDDNERESkaAwzREREpGgMM0RERKRoDDNERhBC4I033oCTkxNUKhUSExPL7AsJCUF4eHi11dG4cWMsX7682rZf08XFxUGlUkGlUmHAgAFVum2VSoUff/yxwve+deuWUdur7t+Fx2ndunVwdHQ02/tHRETIf+5P8+8/lY9hhp4oRf/glddGjx5dqe3u3LkT69atw7Zt25CRkYGWLVuW2bdlyxa8//77la4/JCSkzLrv379f6W0+itGjR8s1WFpaolGjRnjzzTdL3UzOmO1UZfhISUnBunXrqmx7xujYsSMyMjKg0Wge6/sSMH36dGRkZBjcsJWoOEtzF0BUlTIyMuSfN23ahHnz5hncQM3a2tpg/Xv37sHKyqrC7f7555/QarUGN0Mrq8/JyelRygcAjB07Fu+9955Bn6Wl+f6q9urVC2vXrsX9+/dx+vRpjBkzBrdu3cLGjRvNVpOzs/NjHymoXbu2fPfgJ5Wxfx8el4KCAqhUKtjZ2cHOzg4WFhbmLolqKI7M0BPF1dVVbhqNBiqVSn6el5cHR0dHfPfddwgJCUGdOnXw9ddf4/r163jllVfg7u4OGxsb+Pv7G3xRjx49Gm+99RYuXboElUqFxo0bl9kHlD60oNfrMWPGDHh4eECtVsPb2xtffvnlQz+DjY2Nwed42BfopUuX0L9/f9jZ2cHBwQFDhgzB1atXAQDZ2dmwsLBAQkICAOlQmZOTE9q2bSu/fuPGjdBqtQ+tR61Ww9XVFe7u7ujZsyeGDh2KXbt2ycsLCgrw+uuvw8vLC9bW1mjevDlWrFghL4+IiMD69evxv//9Tx7liYuLAwBcuXIFQ4cORd26dVGvXj30798fFy5ceGg9Ja1evRoNGzZEYWGhQX+/fv0watQo+flPP/2ENm3aoE6dOmjSpAkWLFhQasTr2rVrGDhwIGxsbODt7Y2tW7fKy8o6zLR//34EBwfDxsYGdevWRWhoaLmjVvn5+ZgxYwYaNmwIW1tbtGvXTt4PAHDx4kX07dsXdevWha2tLfz8/LBjx45yP3fjxo3x/vvvY/jw4bCzs4Obmxv+85//GKyTnZ2NN954A87OznBwcEDXrl3x+++/y8sjIiLQqlUrfPXVV2jSpAnUajUedoebmJgYtGjRAnZ2dujVq5fBfx4KCwvx3nvvwd3dHWq1Gq1atcLOnTsfuv8SExOhUqnkP/Oiw1nbtm2Dr68v1Go1Ll68WG49REUYZuipM3PmTEyePBlnzpxBaGgo8vLy0KZNG2zbtg2nTp3CG2+8gREjRuDw4cMAgBUrVsj/SGdkZODo0aNl9pVl5MiRiI6Oxscff4wzZ87gs88+g52dXZV8DiEEBgwYgBs3biA+Ph6xsbH4888/MXToUACARqNBq1at5C/MkydPyo86nQ6A9AUTHBxs9HueP38eO3fuNPjfe2FhIdzd3fHdd9/h9OnTmDdvHmbPno3vvvsOgHSIYMiQIfKXX0ZGBjp27IicnBx06dIFdnZ22LNnD/bt2yd/Sebn5xtd0+DBg3Ht2jX89ttvct/NmzcRExODsLAwANKX8KuvvorJkyfj9OnTWL16NdatW4dFixYZbGvBggUYMmQITp48iRdffBFhYWG4ceNGme+bmJiIbt26wc/PDwcPHsS+ffvQt29fFBQUlLn+a6+9hv379yM6OhonT57E4MGD0atXL6SmpgIAJk6cCL1ejz179iApKQmLFy+u8Hfl3//+NwICAnD8+HHMmjULb7/9NmJjYwFIvx99+vRBZmYmduzYgYSEBLRu3RrdunUz+Eznzp3Dd999h82bNyMxMbHc98rJycGHH36I//73v9izZw8uXbqE6dOny8tXrFiBpUuX4sMPP8TJkycRGhqKfv36yZ/PWDk5OYiKisIXX3yB5ORkODs7m/R6eko98q0qiWqotWvXCo1GIz9PS0sTAMTy5csrfO2LL74opk2bJj//6KOPhKenp8E6ZfUVv4txSkqKACBiY2ONrjk4OFhYWVkJW1tbuU2dOlVe7unpKT766CMhhBC7du0SFhYWBnelTU5OFgDEkSNHhBBCTJ06Vbz00ktCCCGWL18uXn75ZdG6dWuxfft2IYQQPj4+YtWqVeXWM2rUKGFhYSFsbW1FnTp15DuAL1u27KGfY8KECeIf//iHwXb69+9vsM6XX34pmjdvLgoLC+U+vV4vrK2tRUxMTJnbLbpze8m77Pbr10+MGTNGfr569Wrh6uoq7t+/L4QQ4oUXXhCRkZEGr/nvf/8rtFqt/ByAePfdd+Xnd+7cESqVSvz8889lvvcrr7wiOnXqVO4+KP67cO7cOaFSqcSVK1cM1unWrZuYNWuWEEIIf39/ERERUe72SvL09BS9evUy6Bs6dKjo3bu3EEKIX3/9VTg4OIi8vDyDdZo2bSpWr14thBBi/vz5wsrKSmRlZT30vdauXSsAiHPnzsl9n3zyiXBxcZGfu7m5iUWLFhm8rm3btmLChAlCiLL/7E6cOCEAiLS0NIP3SUxMLPczF/3+ExXHOTP01AkKCjJ4XlBQgA8++ACbNm3ClStXoNfrodfrYWtr+0jvk5iYCAsLC5NGPgAgLCwMc+bMkZ+XNzfkzJkz8PDwgIeHh9zn6+sLR0dHnDlzBm3btkVISAi+/PJLFBYWIj4+Ht26dUOjRo0QHx+P1q1b4+zZsxXW16VLF6xatQo5OTn44osvcPbsWbz11lsG63z22Wf44osvcPHiReTm5iI/Px+tWrV66HYTEhJw7tw52NvbG/Tn5eXhzz//fOhrSwoLC8Mbb7yBTz/9FGq1Gt988w2GDRsmz7FISEjA0aNHDUZiCgoKkJeXh5ycHNjY2AAAAgIC5OW2trawt7dHVlZWme+ZmJiIwYMHG1Xf8ePHIYSAj4+PQb9er0e9evUAAJMnT8abb76JXbt2oXv37vjHP/5hUE9ZOnToUOp50dk+CQkJuHPnjrz9Irm5uQb719PTEw0aNKjwM9jY2KBp06byc61WK+8bnU6Hv/76C506dTJ4TadOnQwOaxmjdu3aFX5uopIYZuipUzKkLF26FB999BGWL18Of39/2NraIjw83KRDHWUpOdnYWBqNBs2aNatwPSEEVCrVQ/s7d+6M27dv4/jx49i7dy/ef/99eHh4IDIyEq1atYKzszNatGjx0PextbWV6/n444/RpUsXLFiwQD5r67vvvsPbb7+NpUuXokOHDrC3t8e///1v+TBdeQoLC9GmTRt88803pZYZ8+VaXN++fVFYWIjt27ejbdu22Lt3L5YtW2bwXgsWLMCgQYNKvbZOnTryzyUnv6pUqlJzcYqY8udbWFgoz18qOYm16FDSP//5T4SGhmL79u3YtWsXoqKisHTp0lLBsSJFf/aFhYXQarUG83KKFA/Ixob2svaNKDG/puTvY/HfxVq1asl9Re7du1fqfaytrcv8vSZ6GIYZeurt3bsX/fv3x6uvvgpA+hJITU2t8Eu+Iv7+/vKISPfu3auiVAO+vr64dOkS0tPT5dGZ06dPIzs7W669aN7MypUroVKp4OvrCzc3N5w4cQLbtm0zedQIAObPn4/evXvjzTffhJubG/bu3YuOHTtiwoQJ8jolR1Zq165dai5J69atsWnTJnly6qOwtrbGoEGD8M033+DcuXPw8fFBmzZtDN4rJSXFqJBorICAAPz6669YsGBBhesGBgaioKAAWVlZeOGFF8pdz8PDA+PHj8f48eMxa9YsfP755w8NM4cOHSr1/JlnngEgfebMzExYWlrKE9Sri4ODA9zc3LBv3z507txZ7j9w4ACee+45AA8CakZGBurWrQsAD52jQ2QKTgCmp16zZs0QGxuLAwcO4MyZMxg3bhwyMzMfebuNGzfGqFGjMGbMGPz4449IS0tDXFycPDH2UXXv3h0BAQEICwvD8ePHceTIEYwcORLBwcEGh9JCQkLw9ddfIzg4GCqVCnXr1oWvry82bdqEkJAQk983JCQEfn5+iIyMBCDtv2PHjiEmJgZnz57F3LlzS02Ibty4MU6ePImUlBRcu3YN9+7dQ1hYGOrXr4/+/ftj7969SEtLQ3x8PKZMmYLLly+bXFdYWBi2b9+Or776Sg6mRebNm4cNGzYgIiICycnJOHPmDDZt2oR3333X5PcpMmvWLBw9ehQTJkzAyZMn8ccff2DVqlW4du1aqXV9fHwQFhaGkSNHYsuWLUhLS8PRo0exePFi+Yyl8PBwxMTEIC0tDcePH8fu3bsrDNT79+/HkiVLcPbsWXzyySf4/vvvMWXKFADS70eHDh0wYMAAxMTE4MKFCzhw4ADeffddHDt2rNKfuzz/+te/sHjxYmzatAkpKSl45513kJiYKNfTrFkzeHh4ICIiAmfPnsX27duxdOnSKq+Dnk4MM/TUmzt3Llq3bo3Q0FCEhITA1dW1yi7wtmrVKrz88suYMGECnnnmGYwdOxZ3796tkm0XXbG2bt266Ny5M7p3744mTZpg06ZNBut16dIFBQUFBsElODgYBQUFlRqZAYCpU6fi888/R3p6OsaPH49BgwZh6NChaNeuHa5fv24wSgNI185p3rw5goKC0KBBA+zfvx82NjbYs2cPGjVqhEGDBqFFixYYM2YMcnNzKzVS07VrVzg5OSElJQXDhw83WBYaGopt27YhNjYWbdu2Rfv27bFs2TJ4enpW6vMDUkDZtWsXfv/9dzz33HPo0KED/ve//5V7TaC1a9di5MiRmDZtGpo3b45+/frh8OHD8qhaQUEBJk6ciBYtWqBXr15o3rw5Pv3004fWMG3aNCQkJCAwMBDvv/8+li5ditDQUADS78eOHTvQuXNnjBkzBj4+Phg2bBguXLgAFxeXSn/u8kyePBnTpk3DtGnT4O/vj507d2Lr1q3w9vYGIB2m2rhxI/744w88++yzWLx4MRYuXFjlddDTSSVKHvQkIqqh4uLi0KVLF9y8edOsl9evCRo3bozw8PAn5pYJxngaPzMZhyMzRKQ47u7ueOWVV8xdBj0mkZGRsLOzw6VLl8xdCtVQnABMRIrRrl07+SJsVXXxQar5xo8fjyFDhgAw/Uw3ejrwMBMREREpGg8zERERkaIxzBAREZGiMcwQERGRojHMEBERkaIxzBAREZGiMcwQERGRojHMEBERkaIxzBAREZGiMcwQERGRov0/q4GaP7IcEnUAAAAASUVORK5CYII=\n",
          "text/plain": "<Figure size 640x480 with 1 Axes>"
         },
         "metadata": {},
         "output_type": "display_data"
        }
       ]
      }
     },
     "58db643065bc4aa09ff04267189c6b52": {
      "model_module": "@jupyter-widgets/controls",
      "model_module_version": "1.5.0",
      "model_name": "DescriptionStyleModel",
      "state": {
       "description_width": ""
      }
     },
     "58e9c96e989c453e80cc319cd1d6c542": {
      "model_module": "@jupyter-widgets/controls",
      "model_module_version": "1.5.0",
      "model_name": "ToggleButtonsModel",
      "state": {
       "_options_labels": [
        "PDF",
        "CDF",
        "1-CDF"
       ],
       "button_style": "",
       "description": "Plot Type:",
       "icons": [],
       "index": 0,
       "layout": "IPY_MODEL_6d4615dd9d7b496ab3cad20962f2c95a",
       "style": "IPY_MODEL_49e2865e48e44c7d88ea961604260cbf",
       "tooltips": []
      }
     },
     "5f1a83ad2b454d0f802985af20993727": {
      "model_module": "@jupyter-widgets/controls",
      "model_module_version": "1.5.0",
      "model_name": "CheckboxModel",
      "state": {
       "description": "2: Hard Shoulder",
       "disabled": false,
       "indent": false,
       "layout": "IPY_MODEL_c02af5dbfda345779d1ed59ab7e606d5",
       "style": "IPY_MODEL_a16439206a34479da22d97225c4220cb",
       "value": false
      }
     },
     "6580aaf036a6475abc0c0832c04510fd": {
      "model_module": "@jupyter-widgets/controls",
      "model_module_version": "1.5.0",
      "model_name": "FloatSliderModel",
      "state": {
       "description": "C",
       "layout": "IPY_MODEL_2551df80a02445859a0ccd6fc548693a",
       "max": 7000,
       "min": 4000,
       "step": 100,
       "style": "IPY_MODEL_6b9a6dc442134d669865be4c3b5ff1dd",
       "value": 5600
      }
     },
     "69e3ec50096842f38c6f74081b2f5542": {
      "model_module": "@jupyter-widgets/controls",
      "model_module_version": "1.5.0",
      "model_name": "FloatSliderModel",
      "state": {
       "description": "8:  Modal Shift, Cars",
       "layout": "IPY_MODEL_a9a413eef0ff44d3ade17141373257de",
       "max": 20,
       "step": 4,
       "style": "IPY_MODEL_b9d80e0f8cc644829e3b5ea6cedcdd66"
      }
     },
     "6b9a6dc442134d669865be4c3b5ff1dd": {
      "model_module": "@jupyter-widgets/controls",
      "model_module_version": "1.5.0",
      "model_name": "SliderStyleModel",
      "state": {
       "description_width": ""
      }
     },
     "6cd0a2b1a14342bd9651d2db5a05be10": {
      "model_module": "@jupyter-widgets/controls",
      "model_module_version": "1.5.0",
      "model_name": "SliderStyleModel",
      "state": {
       "description_width": ""
      }
     },
     "6d4615dd9d7b496ab3cad20962f2c95a": {
      "model_module": "@jupyter-widgets/base",
      "model_module_version": "1.2.0",
      "model_name": "LayoutModel",
      "state": {}
     },
     "75c1f539256c4115a4eb71ca610b6baf": {
      "model_module": "@jupyter-widgets/controls",
      "model_module_version": "1.5.0",
      "model_name": "DescriptionStyleModel",
      "state": {
       "description_width": ""
      }
     },
     "7974564f725f4bb1ba9a4b1d8a221aca": {
      "model_module": "@jupyter-widgets/controls",
      "model_module_version": "1.5.0",
      "model_name": "VBoxModel",
      "state": {
       "_dom_classes": [
        "widget-interact"
       ],
       "children": [
        "IPY_MODEL_a6366e489ea64c94b53a44cd90d3509b",
        "IPY_MODEL_ac52d024453d4073a77795b4082f8fe5",
        "IPY_MODEL_4542024c6c2b478eaef6d5ff81808e34",
        "IPY_MODEL_2cce8708af1d4a05a0524a12ed2132ad",
        "IPY_MODEL_69e3ec50096842f38c6f74081b2f5542",
        "IPY_MODEL_9daea46dd3004ad2a39098dc8f0c4d83",
        "IPY_MODEL_58e9c96e989c453e80cc319cd1d6c542",
        "IPY_MODEL_3385de2b8e114324919ed816877addf9"
       ],
       "layout": "IPY_MODEL_29b615e502b74b62a274b74c7ca390c5"
      }
     },
     "7b28a775fe594b7d851b4a210e0eb11e": {
      "model_module": "@jupyter-widgets/controls",
      "model_module_version": "1.5.0",
      "model_name": "SliderStyleModel",
      "state": {
       "description_width": ""
      }
     },
     "7dadfb09825746b39cfca7a47bcc2740": {
      "model_module": "@jupyter-widgets/controls",
      "model_module_version": "1.5.0",
      "model_name": "FloatSliderModel",
      "state": {
       "description": "7: Modal Shift, Trucks",
       "layout": "IPY_MODEL_aeeb304402b0462cb994598fa86e6796",
       "max": 20,
       "step": 4,
       "style": "IPY_MODEL_23505dba595b426a86b5df0c759e9d3a"
      }
     },
     "7f14219ee396472a8558de07bd7404e3": {
      "model_module": "@jupyter-widgets/controls",
      "model_module_version": "1.5.0",
      "model_name": "DescriptionStyleModel",
      "state": {
       "description_width": ""
      }
     },
     "7f4e913978bd4d6f9657243f779f9850": {
      "model_module": "@jupyter-widgets/base",
      "model_module_version": "1.2.0",
      "model_name": "LayoutModel",
      "state": {}
     },
     "80b5142c6fce447a96f3bdafaff94e14": {
      "model_module": "@jupyter-widgets/controls",
      "model_module_version": "1.5.0",
      "model_name": "SliderStyleModel",
      "state": {
       "description_width": "initial"
      }
     },
     "83fd64cc893c429bae04c91ebe52209b": {
      "model_module": "@jupyter-widgets/controls",
      "model_module_version": "1.5.0",
      "model_name": "SliderStyleModel",
      "state": {
       "description_width": ""
      }
     },
     "84b87cab5bd3437d955a7851dafdaf7f": {
      "model_module": "@jupyter-widgets/output",
      "model_module_version": "1.0.0",
      "model_name": "OutputModel",
      "state": {
       "layout": "IPY_MODEL_b150edabeff74e6bb2994d402dca96cd",
       "outputs": [
        {
         "data": {
          "image/png": "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\n",
          "text/plain": "<Figure size 640x480 with 1 Axes>"
         },
         "metadata": {},
         "output_type": "display_data"
        }
       ]
      }
     },
     "853ac92d93bf4f1386363ef9d907c589": {
      "model_module": "@jupyter-widgets/base",
      "model_module_version": "1.2.0",
      "model_name": "LayoutModel",
      "state": {}
     },
     "869499b6fbea4715b4fb5a8a63384f5c": {
      "model_module": "@jupyter-widgets/controls",
      "model_module_version": "1.5.0",
      "model_name": "SliderStyleModel",
      "state": {
       "description_width": "initial"
      }
     },
     "86e1e23be66a4c5e9419b9f3686f3519": {
      "model_module": "@jupyter-widgets/base",
      "model_module_version": "1.2.0",
      "model_name": "LayoutModel",
      "state": {}
     },
     "88d3886f1827468b947c3fc5b8970ecb": {
      "model_module": "@jupyter-widgets/controls",
      "model_module_version": "1.5.0",
      "model_name": "FloatSliderModel",
      "state": {
       "description": "t_accident",
       "layout": "IPY_MODEL_f104eea6bc2a4c9b93bdc17347744de6",
       "max": 60,
       "min": 5,
       "step": 5,
       "style": "IPY_MODEL_2d4a20417d044afcaf61f059716e5ebc",
       "value": 10
      }
     },
     "892aced71d0140a48243e07efbf54f4f": {
      "model_module": "@jupyter-widgets/controls",
      "model_module_version": "1.5.0",
      "model_name": "VBoxModel",
      "state": {
       "_dom_classes": [
        "widget-interact"
       ],
       "children": [
        "IPY_MODEL_b9b532f5518f4a159e8a416143eba53d",
        "IPY_MODEL_5f1a83ad2b454d0f802985af20993727",
        "IPY_MODEL_4cfc18f404d74f96a0f52738322a7e45",
        "IPY_MODEL_100c0581cfc747c8af541fc9d5145845",
        "IPY_MODEL_b4ae300d9cfa4267a8f157cf7eeedea5",
        "IPY_MODEL_e5174c32d6de44218f37e6442c81063b",
        "IPY_MODEL_7dadfb09825746b39cfca7a47bcc2740",
        "IPY_MODEL_f0c87e070a5646479350445fd78c2e0f",
        "IPY_MODEL_8ac63bf062834a3bbf7b4c0c3b3fc50e",
        "IPY_MODEL_d34b1a0a4a4f4545a129ef56988bebf4",
        "IPY_MODEL_84b87cab5bd3437d955a7851dafdaf7f"
       ],
       "layout": "IPY_MODEL_08f445fa1f7a42dab8956fa6ca209e16"
      }
     },
     "8ac63bf062834a3bbf7b4c0c3b3fc50e": {
      "model_module": "@jupyter-widgets/controls",
      "model_module_version": "1.5.0",
      "model_name": "CheckboxModel",
      "state": {
       "description": "Distribution, no interventions",
       "disabled": false,
       "indent": false,
       "layout": "IPY_MODEL_0187e7214d8a445dbb5c831f13f34dd3",
       "style": "IPY_MODEL_a552a0d7442c41ad9fdcf735b583dff0",
       "value": true
      }
     },
     "8de8ac7ccefe46f78fc8d7d9de845013": {
      "model_module": "@jupyter-widgets/base",
      "model_module_version": "1.2.0",
      "model_name": "LayoutModel",
      "state": {}
     },
     "8ec2f013205f4c4797cb03608de966e9": {
      "model_module": "@jupyter-widgets/base",
      "model_module_version": "1.2.0",
      "model_name": "LayoutModel",
      "state": {}
     },
     "96151c6995104b5ab6cfa85d2114d4b8": {
      "model_module": "@jupyter-widgets/controls",
      "model_module_version": "1.5.0",
      "model_name": "FloatSliderModel",
      "state": {
       "description": "t_0",
       "layout": "IPY_MODEL_4a4cb1653cd14b8ba63f5ce8b294857f",
       "max": 32,
       "min": 26,
       "step": 0.5,
       "style": "IPY_MODEL_6cd0a2b1a14342bd9651d2db5a05be10",
       "value": 28.5
      }
     },
     "9b82df908c8b40248e3f065ede04b43b": {
      "model_module": "@jupyter-widgets/base",
      "model_module_version": "1.2.0",
      "model_name": "LayoutModel",
      "state": {}
     },
     "9daea46dd3004ad2a39098dc8f0c4d83": {
      "model_module": "@jupyter-widgets/controls",
      "model_module_version": "1.5.0",
      "model_name": "CheckboxModel",
      "state": {
       "description": "Distribution, no interventions",
       "disabled": false,
       "indent": false,
       "layout": "IPY_MODEL_8de8ac7ccefe46f78fc8d7d9de845013",
       "style": "IPY_MODEL_0bb275f5ec1542b5ae0ef636577f1b72",
       "value": true
      }
     },
     "9f01a383259449be8eee6cce670c7641": {
      "model_module": "@jupyter-widgets/controls",
      "model_module_version": "1.5.0",
      "model_name": "FloatSliderModel",
      "state": {
       "description": "C",
       "layout": "IPY_MODEL_ba029c7af3054cc7a46cd3bc491ac4a6",
       "max": 7000,
       "min": 4000,
       "step": 100,
       "style": "IPY_MODEL_83fd64cc893c429bae04c91ebe52209b",
       "value": 5600
      }
     },
     "a16439206a34479da22d97225c4220cb": {
      "model_module": "@jupyter-widgets/controls",
      "model_module_version": "1.5.0",
      "model_name": "DescriptionStyleModel",
      "state": {
       "description_width": ""
      }
     },
     "a552a0d7442c41ad9fdcf735b583dff0": {
      "model_module": "@jupyter-widgets/controls",
      "model_module_version": "1.5.0",
      "model_name": "DescriptionStyleModel",
      "state": {
       "description_width": ""
      }
     },
     "a6366e489ea64c94b53a44cd90d3509b": {
      "model_module": "@jupyter-widgets/controls",
      "model_module_version": "1.5.0",
      "model_name": "DropdownModel",
      "state": {
       "_options_labels": [
        "None",
        "1",
        "2"
       ],
       "description": "1: Extra Lanes",
       "index": null,
       "layout": "IPY_MODEL_51bf0d7f0a8c441db6161ae646a407b7",
       "style": "IPY_MODEL_52ddf983296042168eadf3ef742c3de1"
      }
     },
     "a9a413eef0ff44d3ade17141373257de": {
      "model_module": "@jupyter-widgets/base",
      "model_module_version": "1.2.0",
      "model_name": "LayoutModel",
      "state": {}
     },
     "ac52d024453d4073a77795b4082f8fe5": {
      "model_module": "@jupyter-widgets/controls",
      "model_module_version": "1.5.0",
      "model_name": "FloatSliderModel",
      "state": {
       "description": "3: Speed",
       "layout": "IPY_MODEL_e1af691108804baaaaa56eebff580f06",
       "max": 170,
       "min": 1,
       "step": 10,
       "style": "IPY_MODEL_80b5142c6fce447a96f3bdafaff94e14",
       "value": 130
      }
     },
     "aeeb304402b0462cb994598fa86e6796": {
      "model_module": "@jupyter-widgets/base",
      "model_module_version": "1.2.0",
      "model_name": "LayoutModel",
      "state": {}
     },
     "b0a6b79bf7bc49489632e3dc04c373fb": {
      "model_module": "@jupyter-widgets/base",
      "model_module_version": "1.2.0",
      "model_name": "LayoutModel",
      "state": {}
     },
     "b150edabeff74e6bb2994d402dca96cd": {
      "model_module": "@jupyter-widgets/base",
      "model_module_version": "1.2.0",
      "model_name": "LayoutModel",
      "state": {}
     },
     "b4ae300d9cfa4267a8f157cf7eeedea5": {
      "model_module": "@jupyter-widgets/controls",
      "model_module_version": "1.5.0",
      "model_name": "FloatSliderModel",
      "state": {
       "description": "5: Incident Management",
       "layout": "IPY_MODEL_86e1e23be66a4c5e9419b9f3686f3519",
       "min": 1,
       "step": 10,
       "style": "IPY_MODEL_1087ad9b423d40ff9b9d0d0a4b24df42",
       "value": 1
      }
     },
     "b9b532f5518f4a159e8a416143eba53d": {
      "model_module": "@jupyter-widgets/controls",
      "model_module_version": "1.5.0",
      "model_name": "DropdownModel",
      "state": {
       "_options_labels": [
        "None",
        "1",
        "2"
       ],
       "description": "1: Extra Lanes",
       "index": null,
       "layout": "IPY_MODEL_4c76dbfaddda4c84888c273562e48074",
       "style": "IPY_MODEL_75c1f539256c4115a4eb71ca610b6baf"
      }
     },
     "b9d80e0f8cc644829e3b5ea6cedcdd66": {
      "model_module": "@jupyter-widgets/controls",
      "model_module_version": "1.5.0",
      "model_name": "SliderStyleModel",
      "state": {
       "description_width": "initial"
      }
     },
     "ba029c7af3054cc7a46cd3bc491ac4a6": {
      "model_module": "@jupyter-widgets/base",
      "model_module_version": "1.2.0",
      "model_name": "LayoutModel",
      "state": {}
     },
     "bb7a481065664052a1c2dd14393b571d": {
      "model_module": "@jupyter-widgets/base",
      "model_module_version": "1.2.0",
      "model_name": "LayoutModel",
      "state": {}
     },
     "c02af5dbfda345779d1ed59ab7e606d5": {
      "model_module": "@jupyter-widgets/base",
      "model_module_version": "1.2.0",
      "model_name": "LayoutModel",
      "state": {}
     },
     "c0bdaad2190343f5b8c103bbd6bd9257": {
      "model_module": "@jupyter-widgets/controls",
      "model_module_version": "1.5.0",
      "model_name": "VBoxModel",
      "state": {
       "_dom_classes": [
        "widget-interact"
       ],
       "children": [
        "IPY_MODEL_96151c6995104b5ab6cfa85d2114d4b8",
        "IPY_MODEL_6580aaf036a6475abc0c0832c04510fd",
        "IPY_MODEL_5806dda8eabb4e7d97f2e379167ce5d9"
       ],
       "layout": "IPY_MODEL_26c9d8ccf54242c0b94fb533b091b19d"
      }
     },
     "d00800ac309946df9291756aa1ffcbc4": {
      "model_module": "@jupyter-widgets/controls",
      "model_module_version": "1.5.0",
      "model_name": "VBoxModel",
      "state": {
       "_dom_classes": [
        "widget-interact"
       ],
       "children": [
        "IPY_MODEL_88d3886f1827468b947c3fc5b8970ecb",
        "IPY_MODEL_9f01a383259449be8eee6cce670c7641",
        "IPY_MODEL_d457391a891f412db94c5c719c19a9db",
        "IPY_MODEL_22f1b77ee9c1494d92078b1300a98833",
        "IPY_MODEL_4fefe5bdbf3f4be8bf2f032fddb4b8f7"
       ],
       "layout": "IPY_MODEL_5587e0efb67f4453a7598ec815e422bb"
      }
     },
     "d34b1a0a4a4f4545a129ef56988bebf4": {
      "model_module": "@jupyter-widgets/controls",
      "model_module_version": "1.5.0",
      "model_name": "ToggleButtonsModel",
      "state": {
       "_options_labels": [
        "PDF",
        "CDF",
        "1-CDF"
       ],
       "button_style": "",
       "description": "Plot Type:",
       "icons": [],
       "index": 0,
       "layout": "IPY_MODEL_ff68c66b64af4e308edaf79d636caf78",
       "style": "IPY_MODEL_f6751048669c4ee3931c28b61d183f18",
       "tooltips": []
      }
     },
     "d457391a891f412db94c5c719c19a9db": {
      "model_module": "@jupyter-widgets/controls",
      "model_module_version": "1.5.0",
      "model_name": "FloatSliderModel",
      "state": {
       "description": "rCf",
       "layout": "IPY_MODEL_38cfb9ece79a4347a7bf1842d6ea3932",
       "max": 0.6,
       "min": 0.1,
       "step": 0.1,
       "style": "IPY_MODEL_7b28a775fe594b7d851b4a210e0eb11e",
       "value": 0.2
      }
     },
     "e1af691108804baaaaa56eebff580f06": {
      "model_module": "@jupyter-widgets/base",
      "model_module_version": "1.2.0",
      "model_name": "LayoutModel",
      "state": {}
     },
     "e5174c32d6de44218f37e6442c81063b": {
      "model_module": "@jupyter-widgets/controls",
      "model_module_version": "1.5.0",
      "model_name": "FloatSliderModel",
      "state": {
       "description": "6: Accident Risk Reduction",
       "layout": "IPY_MODEL_57e3c907cb71406a8ccbb9b398698b8d",
       "min": 1,
       "step": 10,
       "style": "IPY_MODEL_ee79a8ff52934cffb12227cd7c049065",
       "value": 1
      }
     },
     "ee79a8ff52934cffb12227cd7c049065": {
      "model_module": "@jupyter-widgets/controls",
      "model_module_version": "1.5.0",
      "model_name": "SliderStyleModel",
      "state": {
       "description_width": "initial"
      }
     },
     "eee3ad0fd45c47d5ab47454238d366a2": {
      "model_module": "@jupyter-widgets/base",
      "model_module_version": "1.2.0",
      "model_name": "LayoutModel",
      "state": {}
     },
     "f0c87e070a5646479350445fd78c2e0f": {
      "model_module": "@jupyter-widgets/controls",
      "model_module_version": "1.5.0",
      "model_name": "FloatSliderModel",
      "state": {
       "description": "8:  Modal Shift, Cars",
       "layout": "IPY_MODEL_23783a41b3db4b2095ac7bcab87a74ae",
       "max": 20,
       "step": 4,
       "style": "IPY_MODEL_26045de01f29405180b7e1b1434ce181"
      }
     },
     "f104eea6bc2a4c9b93bdc17347744de6": {
      "model_module": "@jupyter-widgets/base",
      "model_module_version": "1.2.0",
      "model_name": "LayoutModel",
      "state": {}
     },
     "f6751048669c4ee3931c28b61d183f18": {
      "model_module": "@jupyter-widgets/controls",
      "model_module_version": "1.5.0",
      "model_name": "ToggleButtonsStyleModel",
      "state": {
       "button_width": "",
       "description_width": ""
      }
     },
     "ff68c66b64af4e308edaf79d636caf78": {
      "model_module": "@jupyter-widgets/base",
      "model_module_version": "1.2.0",
      "model_name": "LayoutModel",
      "state": {}
     }
    },
    "version_major": 2,
    "version_minor": 0
   }
  }
 },
 "nbformat": 4,
 "nbformat_minor": 4
}
