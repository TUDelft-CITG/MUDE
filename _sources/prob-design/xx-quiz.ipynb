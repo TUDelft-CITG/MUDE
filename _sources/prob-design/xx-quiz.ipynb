{
 "cells": [
  {
   "cell_type": "markdown",
   "metadata": {},
   "source": [
    "# Quiz example\n",
    "\n",
    "This is notebook with a Jupyter Quiz in it. The Python cell is hidden from the site by using the `remove-input` cell tag."
   ]
  },
  {
   "cell_type": "code",
   "execution_count": null,
   "metadata": {
    "tags": [
     "remove-input"
    ]
   },
   "outputs": [],
   "source": [
    "from jupyterquiz import display_quiz\n",
    "\n",
    "display_quiz('example-quiz.json')"
   ]
  }
 ],
 "metadata": {
  "kernelspec": {
   "display_name": "Python 3 (ipykernel)",
   "language": "python",
   "name": "python3"
  },
  "language_info": {
   "codemirror_mode": {
    "name": "ipython",
    "version": 3
   },
   "file_extension": ".py",
   "mimetype": "text/x-python",
   "name": "python",
   "nbconvert_exporter": "python",
   "pygments_lexer": "ipython3",
   "version": "3.9.13"
  },
  "vscode": {
   "interpreter": {
    "hash": "a120e10ceeead9fd0c41faff5e8aa916429b7fc34b119f45390d0ad68ad34e48"
   }
  }
 },
 "nbformat": 4,
 "nbformat_minor": 4
}
